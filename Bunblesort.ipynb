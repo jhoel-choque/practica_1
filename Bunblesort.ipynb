{
  "nbformat": 4,
  "nbformat_minor": 0,
  "metadata": {
    "colab": {
      "provenance": [],
      "include_colab_link": true
    },
    "kernelspec": {
      "name": "python3",
      "display_name": "Python 3"
    },
    "language_info": {
      "name": "python"
    }
  },
  "cells": [
    {
      "cell_type": "markdown",
      "metadata": {
        "id": "view-in-github",
        "colab_type": "text"
      },
      "source": [
        "<a href=\"https://colab.research.google.com/github/jhoel-choque/practica_1/blob/master/Bunblesort.ipynb\" target=\"_parent\"><img src=\"https://colab.research.google.com/assets/colab-badge.svg\" alt=\"Open In Colab\"/></a>"
      ]
    },
    {
      "cell_type": "code",
      "source": [
        "!git clone https://github.com/jhoel-choque/practica_1.git"
      ],
      "metadata": {
        "colab": {
          "base_uri": "https://localhost:8080/"
        },
        "id": "0JwGOLrpoMct",
        "outputId": "2cdbeae9-eccb-4455-846f-299b1945ad20"
      },
      "execution_count": null,
      "outputs": [
        {
          "output_type": "stream",
          "name": "stdout",
          "text": [
            "Cloning into 'practica_1'...\n",
            "remote: Enumerating objects: 268, done.\u001b[K\n",
            "remote: Counting objects: 100% (153/153), done.\u001b[K\n",
            "remote: Compressing objects: 100% (104/104), done.\u001b[K\n",
            "remote: Total 268 (delta 45), reused 121 (delta 24), pack-reused 115\u001b[K\n",
            "Receiving objects: 100% (268/268), 81.33 MiB | 13.17 MiB/s, done.\n",
            "Resolving deltas: 100% (74/74), done.\n",
            "Updating files: 100% (128/128), done.\n"
          ]
        }
      ]
    },
    {
      "cell_type": "code",
      "source": [
        "import numpy as np\n",
        "import time\n",
        "import pandas as pd\n",
        "import matplotlib.pyplot as plt\n",
        "import statistics\n",
        "from google.colab import drive\n",
        "drive.mount('/content/drive')\n",
        "path='/content/drive/MyDrive/Colab'\n"
      ],
      "metadata": {
        "id": "tStbrfS7TiYe",
        "colab": {
          "base_uri": "https://localhost:8080/"
        },
        "outputId": "90cbd862-1987-4b22-fab0-2cf273a45c16"
      },
      "execution_count": null,
      "outputs": [
        {
          "output_type": "stream",
          "name": "stdout",
          "text": [
            "Mounted at /content/drive\n"
          ]
        }
      ]
    },
    {
      "cell_type": "code",
      "execution_count": null,
      "metadata": {
        "id": "YNNDF8ZH8QZ1",
        "colab": {
          "base_uri": "https://localhost:8080/"
        },
        "outputId": "279129ac-3d94-406c-9c12-5766f1d51439"
      },
      "outputs": [
        {
          "output_type": "stream",
          "name": "stdout",
          "text": [
            "0.003709077835083008\n"
          ]
        }
      ],
      "source": [
        "def bubble_sort(lista):\n",
        "    start_time = time.time()\n",
        "    n = len(lista)\n",
        "    for i in range(n):\n",
        "        # El último i elementos ya están ordenados, por lo que no es necesario volver a comprobarlos\n",
        "        for j in range(0, n-i-1):\n",
        "            # Si el elemento actual es mayor que el siguiente, realizar el intercambio\n",
        "            if lista[j] > lista[j+1]:\n",
        "                lista[j], lista[j+1] = lista[j+1], lista[j]\n",
        "\n",
        "    end_time = time.time()\n",
        "    elapsed_time = end_time - start_time\n",
        "    return elapsed_time\n",
        "# Ejemplo de uso\n",
        "datos_random = np.random.randint(1, 1000, 100)\n",
        "print(bubble_sort(datos_random))\n",
        "\n",
        "\n",
        "\n",
        "\n",
        "\n",
        "\n",
        "\n"
      ]
    },
    {
      "cell_type": "code",
      "source": [
        "lista100 = []\n",
        "for i in range(5):\n",
        "  datos_random = np.random.randint(1, 1000, 100)\n",
        "  tiempox = bubble_sort(datos_random)\n",
        "  lista100.append(tiempox)\n",
        "print(lista100)"
      ],
      "metadata": {
        "id": "3_0CL-Vjiad5",
        "colab": {
          "base_uri": "https://localhost:8080/"
        },
        "outputId": "2e6b748c-b31f-43c9-fe24-28feec4f8943"
      },
      "execution_count": null,
      "outputs": [
        {
          "output_type": "stream",
          "name": "stdout",
          "text": [
            "[0.008414506912231445, 0.01696944236755371, 0.0069942474365234375, 0.012482166290283203, 0.006230831146240234]\n"
          ]
        }
      ]
    },
    {
      "cell_type": "code",
      "source": [
        "# Tiempo promedio 100\n",
        "mean100 = statistics.mean(lista100)\n",
        "print(mean100)\n",
        "type(mean100)"
      ],
      "metadata": {
        "colab": {
          "base_uri": "https://localhost:8080/"
        },
        "id": "e8Rc1c0zi-3J",
        "outputId": "11d7dca6-79c5-43df-82ce-cb2fa12bdeb3"
      },
      "execution_count": null,
      "outputs": [
        {
          "output_type": "stream",
          "name": "stdout",
          "text": [
            "0.010218238830566407\n"
          ]
        },
        {
          "output_type": "execute_result",
          "data": {
            "text/plain": [
              "float"
            ]
          },
          "metadata": {},
          "execution_count": 5
        }
      ]
    },
    {
      "cell_type": "code",
      "source": [
        "# Desviación estándar utilizando NumPy\n",
        "desviacion_estandar100 = np.std(lista100)\n",
        "print(desviacion_estandar100)\n",
        "type(desviacion_estandar100)"
      ],
      "metadata": {
        "colab": {
          "base_uri": "https://localhost:8080/"
        },
        "id": "WDW9i50mjBuX",
        "outputId": "ab485492-c1e2-4aca-ab5e-bd12e15bad12"
      },
      "execution_count": null,
      "outputs": [
        {
          "output_type": "stream",
          "name": "stdout",
          "text": [
            "0.004006272734694843\n"
          ]
        },
        {
          "output_type": "execute_result",
          "data": {
            "text/plain": [
              "numpy.float64"
            ]
          },
          "metadata": {},
          "execution_count": 6
        }
      ]
    },
    {
      "cell_type": "code",
      "source": [
        "lista1000 = []\n",
        "for i in range(5):\n",
        "  datos_random = np.random.randint(1, 1000, 1000)\n",
        "  tiempox = bubble_sort(datos_random)\n",
        "  lista1000.append(tiempox)\n",
        "print(lista1000)"
      ],
      "metadata": {
        "colab": {
          "base_uri": "https://localhost:8080/"
        },
        "id": "OVrr230ujM6h",
        "outputId": "faca6bc1-1b58-4dba-d846-cd872e6192bc"
      },
      "execution_count": null,
      "outputs": [
        {
          "output_type": "stream",
          "name": "stdout",
          "text": [
            "[1.1289606094360352, 0.5942158699035645, 0.7567586898803711, 0.6237545013427734, 0.6244702339172363]\n"
          ]
        }
      ]
    },
    {
      "cell_type": "code",
      "source": [
        "# Tiempo promedio 1000\n",
        "mean1000 = statistics.mean(lista1000)\n",
        "print(mean1000)\n",
        "type(mean1000)"
      ],
      "metadata": {
        "colab": {
          "base_uri": "https://localhost:8080/"
        },
        "id": "RLAnpD2XjXXq",
        "outputId": "958b7cf7-8eb4-4721-85e5-924d1b93c327"
      },
      "execution_count": null,
      "outputs": [
        {
          "output_type": "stream",
          "name": "stdout",
          "text": [
            "0.7456319808959961\n"
          ]
        },
        {
          "output_type": "execute_result",
          "data": {
            "text/plain": [
              "float"
            ]
          },
          "metadata": {},
          "execution_count": 8
        }
      ]
    },
    {
      "cell_type": "code",
      "source": [
        "# Desviación estándar utilizando NumPy\n",
        "desviacion_estandar1000 = np.std(lista1000)\n",
        "print(desviacion_estandar1000)\n",
        "type(desviacion_estandar1000)"
      ],
      "metadata": {
        "colab": {
          "base_uri": "https://localhost:8080/"
        },
        "id": "DyB8SGxOjnwp",
        "outputId": "01ad7c14-1aae-4d7a-8e3b-474bc73345ed"
      },
      "execution_count": null,
      "outputs": [
        {
          "output_type": "stream",
          "name": "stdout",
          "text": [
            "0.19976274363978572\n"
          ]
        },
        {
          "output_type": "execute_result",
          "data": {
            "text/plain": [
              "numpy.float64"
            ]
          },
          "metadata": {},
          "execution_count": 9
        }
      ]
    },
    {
      "cell_type": "code",
      "source": [
        "lista2000 = []\n",
        "for i in range(5):\n",
        "  datos_random = np.random.randint(1, 1000, 2000)\n",
        "  tiempox = bubble_sort(datos_random)\n",
        "  lista2000.append(tiempox)\n",
        "print(lista2000)"
      ],
      "metadata": {
        "colab": {
          "base_uri": "https://localhost:8080/"
        },
        "id": "2LR13CK6jn53",
        "outputId": "07ecbf09-1b8b-4136-ae04-0319c17e9ecc"
      },
      "execution_count": null,
      "outputs": [
        {
          "output_type": "stream",
          "name": "stdout",
          "text": [
            "[1.043086051940918, 0.990851640701294, 0.9822990894317627, 0.9567859172821045, 0.9763820171356201]\n"
          ]
        }
      ]
    },
    {
      "cell_type": "code",
      "source": [
        "# Tiempo promedio 2000\n",
        "mean2000 = statistics.mean(lista2000)\n",
        "print(mean2000)\n",
        "type(mean2000)"
      ],
      "metadata": {
        "colab": {
          "base_uri": "https://localhost:8080/"
        },
        "id": "YBhCeTgwjn9w",
        "outputId": "dafb266e-bfb3-4d29-e72f-65cecdf56962"
      },
      "execution_count": null,
      "outputs": [
        {
          "output_type": "stream",
          "name": "stdout",
          "text": [
            "0.9898809432983399\n"
          ]
        },
        {
          "output_type": "execute_result",
          "data": {
            "text/plain": [
              "float"
            ]
          },
          "metadata": {},
          "execution_count": 11
        }
      ]
    },
    {
      "cell_type": "code",
      "source": [
        "# Desviación estándar utilizando NumPy\n",
        "desviacion_estandar2000 = np.std(lista2000)\n",
        "print(desviacion_estandar2000)\n",
        "type(desviacion_estandar2000)"
      ],
      "metadata": {
        "colab": {
          "base_uri": "https://localhost:8080/"
        },
        "id": "7F7k7pJsjoA1",
        "outputId": "30970bed-cfb4-4f19-b913-1605701aa197"
      },
      "execution_count": null,
      "outputs": [
        {
          "output_type": "stream",
          "name": "stdout",
          "text": [
            "0.028867670850737603\n"
          ]
        },
        {
          "output_type": "execute_result",
          "data": {
            "text/plain": [
              "numpy.float64"
            ]
          },
          "metadata": {},
          "execution_count": 12
        }
      ]
    },
    {
      "cell_type": "code",
      "source": [
        "lista3000 = []\n",
        "for i in range(5):\n",
        "  datos_random = np.random.randint(1, 1000, 3000)\n",
        "  tiempox = bubble_sort(datos_random)\n",
        "  lista3000.append(tiempox)\n",
        "print(lista3000)"
      ],
      "metadata": {
        "colab": {
          "base_uri": "https://localhost:8080/"
        },
        "id": "ljdRU7DfjoEA",
        "outputId": "08b10e99-2d6d-4268-8360-895a9e3d9905"
      },
      "execution_count": null,
      "outputs": [
        {
          "output_type": "stream",
          "name": "stdout",
          "text": [
            "[2.319042205810547, 4.431945085525513, 2.229255199432373, 2.1522462368011475, 2.175424575805664]\n"
          ]
        }
      ]
    },
    {
      "cell_type": "code",
      "source": [
        "# Tiempo promedio 3000\n",
        "mean3000 = statistics.mean(lista3000)\n",
        "print(mean3000)\n",
        "type(mean3000)"
      ],
      "metadata": {
        "colab": {
          "base_uri": "https://localhost:8080/"
        },
        "id": "zu-3iW9xjoG1",
        "outputId": "329e74e2-41f0-4f5e-f16f-14858d8160a2"
      },
      "execution_count": null,
      "outputs": [
        {
          "output_type": "stream",
          "name": "stdout",
          "text": [
            "2.661582660675049\n"
          ]
        },
        {
          "output_type": "execute_result",
          "data": {
            "text/plain": [
              "float"
            ]
          },
          "metadata": {},
          "execution_count": 14
        }
      ]
    },
    {
      "cell_type": "code",
      "source": [
        "# Desviación estándar utilizando NumPy\n",
        "desviacion_estandar3000 = np.std(lista3000)\n",
        "print(desviacion_estandar3000)\n",
        "type(desviacion_estandar3000)"
      ],
      "metadata": {
        "colab": {
          "base_uri": "https://localhost:8080/"
        },
        "id": "i_8asJExjoKA",
        "outputId": "9a689c22-b4d4-4c6a-ff64-d4adaffc5fe3"
      },
      "execution_count": null,
      "outputs": [
        {
          "output_type": "stream",
          "name": "stdout",
          "text": [
            "0.8870397272337078\n"
          ]
        },
        {
          "output_type": "execute_result",
          "data": {
            "text/plain": [
              "numpy.float64"
            ]
          },
          "metadata": {},
          "execution_count": 15
        }
      ]
    },
    {
      "cell_type": "code",
      "source": [
        "lista4000 = []\n",
        "for i in range(5):\n",
        "  datos_random = np.random.randint(1, 1000, 4000)\n",
        "  tiempox = bubble_sort(datos_random)\n",
        "  lista4000.append(tiempox)\n",
        "print(lista4000)"
      ],
      "metadata": {
        "colab": {
          "base_uri": "https://localhost:8080/"
        },
        "id": "VqIVGzaEjoPr",
        "outputId": "02388d2b-ad30-429d-d73a-b73af112b1d8"
      },
      "execution_count": null,
      "outputs": [
        {
          "output_type": "stream",
          "name": "stdout",
          "text": [
            "[5.485767841339111, 3.845641851425171, 3.8577170372009277, 5.384016513824463, 3.8111371994018555]\n"
          ]
        }
      ]
    },
    {
      "cell_type": "code",
      "source": [
        "# Tiempo promedio 4000\n",
        "mean4000 = statistics.mean(lista4000)\n",
        "print(mean4000)\n",
        "type(mean4000)"
      ],
      "metadata": {
        "colab": {
          "base_uri": "https://localhost:8080/"
        },
        "id": "F0OYTjEqkT2J",
        "outputId": "1cdd6bb2-ac87-4f10-e1c9-ad0750d5f4fc"
      },
      "execution_count": null,
      "outputs": [
        {
          "output_type": "stream",
          "name": "stdout",
          "text": [
            "4.476856088638305\n"
          ]
        },
        {
          "output_type": "execute_result",
          "data": {
            "text/plain": [
              "float"
            ]
          },
          "metadata": {},
          "execution_count": 17
        }
      ]
    },
    {
      "cell_type": "code",
      "source": [
        "# Desviación estándar utilizando NumPy\n",
        "desviacion_estandar4000 = np.std(lista4000)\n",
        "print(desviacion_estandar4000)\n",
        "type(desviacion_estandar4000)"
      ],
      "metadata": {
        "colab": {
          "base_uri": "https://localhost:8080/"
        },
        "id": "vLMsdZ5-kT8I",
        "outputId": "5cbef7ed-2b3d-4e55-bca0-56af5e47da5c"
      },
      "execution_count": null,
      "outputs": [
        {
          "output_type": "stream",
          "name": "stdout",
          "text": [
            "0.7830439552826252\n"
          ]
        },
        {
          "output_type": "execute_result",
          "data": {
            "text/plain": [
              "numpy.float64"
            ]
          },
          "metadata": {},
          "execution_count": 18
        }
      ]
    },
    {
      "cell_type": "code",
      "source": [
        "lista5000 = []\n",
        "for i in range(5):\n",
        "  datos_random = np.random.randint(1, 1000, 5000)\n",
        "  tiempox = bubble_sort(datos_random)\n",
        "  lista5000.append(tiempox)\n",
        "print(lista5000)"
      ],
      "metadata": {
        "colab": {
          "base_uri": "https://localhost:8080/"
        },
        "id": "z8WFIrGKkUJo",
        "outputId": "960037c9-e62a-42c6-a23f-dcc94cf19fa9"
      },
      "execution_count": null,
      "outputs": [
        {
          "output_type": "stream",
          "name": "stdout",
          "text": [
            "[7.238084316253662, 6.356651306152344, 7.625965595245361, 5.923987627029419, 7.412683486938477]\n"
          ]
        }
      ]
    },
    {
      "cell_type": "code",
      "source": [
        "# Tiempo promedio 5000\n",
        "mean5000 = statistics.mean(lista5000)\n",
        "print(mean5000)\n",
        "type(mean5000)"
      ],
      "metadata": {
        "colab": {
          "base_uri": "https://localhost:8080/"
        },
        "id": "EokOF-3wkVFY",
        "outputId": "ef19111b-8bd6-4fcd-ee7e-4be4fc0a8a8d"
      },
      "execution_count": null,
      "outputs": [
        {
          "output_type": "stream",
          "name": "stdout",
          "text": [
            "6.9114744663238525\n"
          ]
        },
        {
          "output_type": "execute_result",
          "data": {
            "text/plain": [
              "float"
            ]
          },
          "metadata": {},
          "execution_count": 20
        }
      ]
    },
    {
      "cell_type": "code",
      "source": [
        "# Desviación estándar utilizando NumPy\n",
        "desviacion_estandar5000 = np.std(lista5000)\n",
        "print(desviacion_estandar5000)\n",
        "type(desviacion_estandar5000)"
      ],
      "metadata": {
        "colab": {
          "base_uri": "https://localhost:8080/"
        },
        "id": "GhJyZYGmkUMg",
        "outputId": "1d3fd0af-04cc-478d-f714-357d444c7501"
      },
      "execution_count": null,
      "outputs": [
        {
          "output_type": "stream",
          "name": "stdout",
          "text": [
            "0.6559483282342574\n"
          ]
        },
        {
          "output_type": "execute_result",
          "data": {
            "text/plain": [
              "numpy.float64"
            ]
          },
          "metadata": {},
          "execution_count": 21
        }
      ]
    },
    {
      "cell_type": "code",
      "source": [
        "lista6000 = []\n",
        "for i in range(5):\n",
        "  datos_random = np.random.randint(1, 1000, 6000)\n",
        "  tiempox = bubble_sort(datos_random)\n",
        "  lista6000.append(tiempox)\n",
        "print(lista6000)"
      ],
      "metadata": {
        "colab": {
          "base_uri": "https://localhost:8080/"
        },
        "id": "a46swdg-kUhI",
        "outputId": "709e7fc3-31f7-46ef-f71a-f622d548c74d"
      },
      "execution_count": null,
      "outputs": [
        {
          "output_type": "stream",
          "name": "stdout",
          "text": [
            "[8.595176219940186, 10.63208270072937, 10.097749471664429, 10.09958004951477, 8.6501624584198]\n"
          ]
        }
      ]
    },
    {
      "cell_type": "code",
      "source": [
        "# Tiempo promedio 6000\n",
        "mean6000 = statistics.mean(lista6000)\n",
        "print(mean6000)\n",
        "type(mean6000)"
      ],
      "metadata": {
        "colab": {
          "base_uri": "https://localhost:8080/"
        },
        "id": "Ku3eZPdGkUrw",
        "outputId": "c62cc92b-7b59-44e0-a57e-b335d99e3619"
      },
      "execution_count": null,
      "outputs": [
        {
          "output_type": "stream",
          "name": "stdout",
          "text": [
            "9.614950180053711\n"
          ]
        },
        {
          "output_type": "execute_result",
          "data": {
            "text/plain": [
              "float"
            ]
          },
          "metadata": {},
          "execution_count": 23
        }
      ]
    },
    {
      "cell_type": "code",
      "source": [
        "# Desviación estándar utilizando NumPy\n",
        "desviacion_estandar6000 = np.std(lista6000)\n",
        "print(desviacion_estandar6000)\n",
        "type(desviacion_estandar6000)"
      ],
      "metadata": {
        "colab": {
          "base_uri": "https://localhost:8080/"
        },
        "id": "wjVIN-64kU3w",
        "outputId": "29c16122-8043-4a58-e364-f83a25d893fc"
      },
      "execution_count": null,
      "outputs": [
        {
          "output_type": "stream",
          "name": "stdout",
          "text": [
            "0.8334595501295609\n"
          ]
        },
        {
          "output_type": "execute_result",
          "data": {
            "text/plain": [
              "numpy.float64"
            ]
          },
          "metadata": {},
          "execution_count": 24
        }
      ]
    },
    {
      "cell_type": "code",
      "source": [
        "lista7000 = []\n",
        "for i in range(5):\n",
        "  datos_random = np.random.randint(1, 1000, 7000)\n",
        "  tiempox = bubble_sort(datos_random)\n",
        "  lista7000.append(tiempox)\n",
        "print(lista7000)"
      ],
      "metadata": {
        "colab": {
          "base_uri": "https://localhost:8080/"
        },
        "id": "_VP1qNbbkU6o",
        "outputId": "cefd722c-52e3-47cc-ac6f-c853fefd6843"
      },
      "execution_count": null,
      "outputs": [
        {
          "output_type": "stream",
          "name": "stdout",
          "text": [
            "[13.459473133087158, 13.396579265594482, 13.563442945480347, 13.54766321182251, 13.484862089157104]\n"
          ]
        }
      ]
    },
    {
      "cell_type": "code",
      "source": [
        "# Desviación estándar utilizando NumPy\n",
        "desviacion_estandar7000 = np.std(lista7000)\n",
        "print(desviacion_estandar7000)\n",
        "type(desviacion_estandar7000)"
      ],
      "metadata": {
        "colab": {
          "base_uri": "https://localhost:8080/"
        },
        "id": "ZG75ajk9lk6f",
        "outputId": "d3027589-eacb-4d0e-ef7a-61e069bd2d9c"
      },
      "execution_count": null,
      "outputs": [
        {
          "output_type": "stream",
          "name": "stdout",
          "text": [
            "0.060669295340178966\n"
          ]
        },
        {
          "output_type": "execute_result",
          "data": {
            "text/plain": [
              "numpy.float64"
            ]
          },
          "metadata": {},
          "execution_count": 26
        }
      ]
    },
    {
      "cell_type": "code",
      "source": [
        "# Tiempo promedio 7000\n",
        "mean7000 = statistics.mean(lista7000)\n",
        "print(mean7000)\n",
        "type(mean7000)"
      ],
      "metadata": {
        "colab": {
          "base_uri": "https://localhost:8080/"
        },
        "id": "Vo_HZNCTljkf",
        "outputId": "8166d71a-f806-4979-b759-10cb70a8eb49"
      },
      "execution_count": null,
      "outputs": [
        {
          "output_type": "stream",
          "name": "stdout",
          "text": [
            "13.49040412902832\n"
          ]
        },
        {
          "output_type": "execute_result",
          "data": {
            "text/plain": [
              "float"
            ]
          },
          "metadata": {},
          "execution_count": 27
        }
      ]
    },
    {
      "cell_type": "code",
      "source": [
        "lista8000 = []\n",
        "for i in range(5):\n",
        "  datos_random = np.random.randint(1, 1000, 8000)\n",
        "  tiempox = bubble_sort(datos_random)\n",
        "  lista8000.append(tiempox)\n",
        "print(lista8000)"
      ],
      "metadata": {
        "colab": {
          "base_uri": "https://localhost:8080/"
        },
        "id": "-NJwl0vrloNH",
        "outputId": "098bfb8e-5dd8-4be2-b88d-dead6f3fee6d"
      },
      "execution_count": null,
      "outputs": [
        {
          "output_type": "stream",
          "name": "stdout",
          "text": [
            "[16.827266216278076, 18.200366973876953, 18.118723154067993, 16.701385259628296, 16.675655603408813]\n"
          ]
        }
      ]
    },
    {
      "cell_type": "code",
      "source": [
        "# Tiempo promedio 100\n",
        "mean8000 = statistics.mean(lista8000)\n",
        "print(mean8000)\n",
        "type(mean8000)"
      ],
      "metadata": {
        "colab": {
          "base_uri": "https://localhost:8080/"
        },
        "id": "ACymm2ybl5o4",
        "outputId": "82685821-2a7e-4d5d-ab9b-1d446fdfdbf7"
      },
      "execution_count": null,
      "outputs": [
        {
          "output_type": "stream",
          "name": "stdout",
          "text": [
            "17.304679441452027\n"
          ]
        },
        {
          "output_type": "execute_result",
          "data": {
            "text/plain": [
              "float"
            ]
          },
          "metadata": {},
          "execution_count": 29
        }
      ]
    },
    {
      "cell_type": "code",
      "source": [
        "# Desviación estándar utilizando NumPy\n",
        "desviacion_estandar8000 = np.std(lista8000)\n",
        "print(desviacion_estandar8000)\n",
        "type(desviacion_estandar8000)"
      ],
      "metadata": {
        "colab": {
          "base_uri": "https://localhost:8080/"
        },
        "id": "ZTXkNjvnl-C_",
        "outputId": "39e44956-558a-4fa6-fd49-ede05e63b9de"
      },
      "execution_count": null,
      "outputs": [
        {
          "output_type": "stream",
          "name": "stdout",
          "text": [
            "0.7003544199919084\n"
          ]
        },
        {
          "output_type": "execute_result",
          "data": {
            "text/plain": [
              "numpy.float64"
            ]
          },
          "metadata": {},
          "execution_count": 30
        }
      ]
    },
    {
      "cell_type": "code",
      "source": [
        "lista9000 = []\n",
        "for i in range(5):\n",
        "  datos_random = np.random.randint(1, 1000, 9000)\n",
        "  tiempox = bubble_sort(datos_random)\n",
        "  lista9000.append(tiempox)\n",
        "print(lista9000)"
      ],
      "metadata": {
        "colab": {
          "base_uri": "https://localhost:8080/"
        },
        "id": "xt6PJfrJmACI",
        "outputId": "6ba3294f-1ac6-44c4-e3fa-8f97b29b7ad2"
      },
      "execution_count": null,
      "outputs": [
        {
          "output_type": "stream",
          "name": "stdout",
          "text": [
            "[22.44668221473694, 22.234686851501465, 20.946049213409424, 23.534982681274414, 22.28427743911743]\n"
          ]
        }
      ]
    },
    {
      "cell_type": "code",
      "source": [
        "# Tiempo promedio 9000\n",
        "mean9000 = statistics.mean(lista9000)\n",
        "print(mean9000)\n",
        "type(mean9000)"
      ],
      "metadata": {
        "colab": {
          "base_uri": "https://localhost:8080/"
        },
        "id": "rRgPI16_mKy_",
        "outputId": "d89d3b0e-ea2a-436b-ffe2-f9287832551e"
      },
      "execution_count": null,
      "outputs": [
        {
          "output_type": "stream",
          "name": "stdout",
          "text": [
            "22.289335680007934\n"
          ]
        },
        {
          "output_type": "execute_result",
          "data": {
            "text/plain": [
              "float"
            ]
          },
          "metadata": {},
          "execution_count": 32
        }
      ]
    },
    {
      "cell_type": "code",
      "source": [
        "# Desviación estándar utilizando NumPy\n",
        "desviacion_estandar9000 = np.std(lista9000)\n",
        "print(desviacion_estandar9000)\n",
        "type(desviacion_estandar9000)"
      ],
      "metadata": {
        "colab": {
          "base_uri": "https://localhost:8080/"
        },
        "id": "pAdlNGhQmNf_",
        "outputId": "811482b7-04ce-477d-ad1e-245f31ba5189"
      },
      "execution_count": null,
      "outputs": [
        {
          "output_type": "stream",
          "name": "stdout",
          "text": [
            "0.8226572792311688\n"
          ]
        },
        {
          "output_type": "execute_result",
          "data": {
            "text/plain": [
              "numpy.float64"
            ]
          },
          "metadata": {},
          "execution_count": 33
        }
      ]
    },
    {
      "cell_type": "code",
      "source": [
        "lista10000 = []\n",
        "for i in range(5):\n",
        "  datos_random = np.random.randint(1, 1000, 10000)\n",
        "  tiempox = bubble_sort(datos_random)\n",
        "  lista10000.append(tiempox)\n",
        "print(lista10000)"
      ],
      "metadata": {
        "colab": {
          "base_uri": "https://localhost:8080/"
        },
        "id": "nZKCRcKXmTaw",
        "outputId": "d6089849-8ffd-4dcc-bc33-8589638a2a03"
      },
      "execution_count": null,
      "outputs": [
        {
          "output_type": "stream",
          "name": "stdout",
          "text": [
            "[26.928309440612793, 26.73202919960022, 26.609194040298462, 26.767359256744385, 31.993289470672607]\n"
          ]
        }
      ]
    },
    {
      "cell_type": "code",
      "source": [
        "# Tiempo promedio 10000\n",
        "mean10000 = statistics.mean(lista10000)\n",
        "print(mean10000)\n",
        "type(mean10000)"
      ],
      "metadata": {
        "colab": {
          "base_uri": "https://localhost:8080/"
        },
        "id": "NJyIv4AbmeLa",
        "outputId": "a85571c4-9ca9-44c5-9c09-34c9d1af10f7"
      },
      "execution_count": null,
      "outputs": [
        {
          "output_type": "stream",
          "name": "stdout",
          "text": [
            "27.806036281585694\n"
          ]
        },
        {
          "output_type": "execute_result",
          "data": {
            "text/plain": [
              "float"
            ]
          },
          "metadata": {},
          "execution_count": 35
        }
      ]
    },
    {
      "cell_type": "code",
      "source": [
        "# Desviación estándar utilizando NumPy\n",
        "desviacion_estandar10000 = np.std(lista10000)\n",
        "print(desviacion_estandar10000)\n",
        "type(desviacion_estandar10000)"
      ],
      "metadata": {
        "colab": {
          "base_uri": "https://localhost:8080/"
        },
        "id": "MqYiIwrcmgcX",
        "outputId": "c9d785c4-fa1f-42ec-f407-9229aa5a18ec"
      },
      "execution_count": null,
      "outputs": [
        {
          "output_type": "stream",
          "name": "stdout",
          "text": [
            "2.096104300911593\n"
          ]
        },
        {
          "output_type": "execute_result",
          "data": {
            "text/plain": [
              "numpy.float64"
            ]
          },
          "metadata": {},
          "execution_count": 36
        }
      ]
    },
    {
      "cell_type": "code",
      "source": [
        "lista20000 = []\n",
        "for i in range(5):\n",
        "  datos_random = np.random.randint(1, 1000, 20000)\n",
        "  tiempox = bubble_sort(datos_random)\n",
        "  lista20000.append(tiempox)\n",
        "print(lista20000)"
      ],
      "metadata": {
        "colab": {
          "base_uri": "https://localhost:8080/"
        },
        "id": "9Ou78txUmntf",
        "outputId": "8872a29c-bf8f-4818-98b7-e58073651622"
      },
      "execution_count": null,
      "outputs": [
        {
          "output_type": "stream",
          "name": "stdout",
          "text": [
            "[106.8332896232605, 110.19999361038208, 108.70385956764221, 110.15380692481995, 106.88996171951294]\n"
          ]
        }
      ]
    },
    {
      "cell_type": "code",
      "source": [
        "# Tiempo promedio 20000\n",
        "mean20000 = statistics.mean(lista20000)\n",
        "print(mean20000)\n",
        "type(mean20000)"
      ],
      "metadata": {
        "colab": {
          "base_uri": "https://localhost:8080/"
        },
        "id": "dQRzWj6Um44P",
        "outputId": "6af12a67-6621-4c25-8579-7517a1ee8143"
      },
      "execution_count": null,
      "outputs": [
        {
          "output_type": "stream",
          "name": "stdout",
          "text": [
            "108.55618228912354\n"
          ]
        },
        {
          "output_type": "execute_result",
          "data": {
            "text/plain": [
              "float"
            ]
          },
          "metadata": {},
          "execution_count": 38
        }
      ]
    },
    {
      "cell_type": "code",
      "source": [
        "# Desviación estándar utilizando NumPy\n",
        "desviacion_estandar20000 = np.std(lista20000)\n",
        "print(desviacion_estandar20000)\n",
        "type(desviacion_estandar20000)"
      ],
      "metadata": {
        "colab": {
          "base_uri": "https://localhost:8080/"
        },
        "id": "HjVPWPblm5gH",
        "outputId": "5debf154-7d0a-4955-cabc-519d3194e724"
      },
      "execution_count": null,
      "outputs": [
        {
          "output_type": "stream",
          "name": "stdout",
          "text": [
            "1.4846534167778442\n"
          ]
        },
        {
          "output_type": "execute_result",
          "data": {
            "text/plain": [
              "numpy.float64"
            ]
          },
          "metadata": {},
          "execution_count": 39
        }
      ]
    },
    {
      "cell_type": "code",
      "source": [
        "lista30000 = []\n",
        "for i in range(5):\n",
        "  datos_random = np.random.randint(1, 1000, 30000)\n",
        "  tiempox = bubble_sort(datos_random)\n",
        "  lista30000.append(tiempox)\n",
        "print(lista30000)"
      ],
      "metadata": {
        "colab": {
          "base_uri": "https://localhost:8080/"
        },
        "id": "SqhZ-T1am8Yf",
        "outputId": "78879655-7ef3-4441-cf32-7d6c0da74942"
      },
      "execution_count": null,
      "outputs": [
        {
          "output_type": "stream",
          "name": "stdout",
          "text": [
            "[246.06273221969604, 247.2358796596527, 245.58170986175537, 248.04880928993225, 244.87016677856445]\n"
          ]
        }
      ]
    },
    {
      "cell_type": "code",
      "source": [
        "# Tiempo promedio 100\n",
        "mean30000 = statistics.mean(lista30000)\n",
        "print(mean30000)\n",
        "type(mean30000)"
      ],
      "metadata": {
        "colab": {
          "base_uri": "https://localhost:8080/"
        },
        "id": "309u3Q-ym8iP",
        "outputId": "4257d130-18d0-4c9b-cf05-aeda2e6039c9"
      },
      "execution_count": null,
      "outputs": [
        {
          "output_type": "stream",
          "name": "stdout",
          "text": [
            "246.35985956192016\n"
          ]
        },
        {
          "output_type": "execute_result",
          "data": {
            "text/plain": [
              "float"
            ]
          },
          "metadata": {},
          "execution_count": 41
        }
      ]
    },
    {
      "cell_type": "code",
      "source": [
        "# Desviación estándar utilizando NumPy\n",
        "desviacion_estandar30000 = np.std(lista30000)\n",
        "print(desviacion_estandar30000)\n",
        "type(desviacion_estandar30000)"
      ],
      "metadata": {
        "colab": {
          "base_uri": "https://localhost:8080/"
        },
        "id": "TWOBk662m8ky",
        "outputId": "c4ed64fb-54b8-4269-cd57-05e6926870fb"
      },
      "execution_count": null,
      "outputs": [
        {
          "output_type": "stream",
          "name": "stdout",
          "text": [
            "1.143061555431662\n"
          ]
        },
        {
          "output_type": "execute_result",
          "data": {
            "text/plain": [
              "numpy.float64"
            ]
          },
          "metadata": {},
          "execution_count": 42
        }
      ]
    },
    {
      "cell_type": "code",
      "source": [
        "lista40000 = []\n",
        "for i in range(5):\n",
        "  datos_random = np.random.randint(1, 1000, 40000)\n",
        "  tiempox = bubble_sort(datos_random)\n",
        "  lista40000.append(tiempox)\n",
        "print(lista40000)"
      ],
      "metadata": {
        "colab": {
          "base_uri": "https://localhost:8080/"
        },
        "id": "7pVb0f79m8n_",
        "outputId": "9e3727e3-0745-43a5-d923-15d7bd91bf16"
      },
      "execution_count": null,
      "outputs": [
        {
          "output_type": "stream",
          "name": "stdout",
          "text": [
            "[438.74369978904724, 439.13820242881775, 439.6316177845001, 438.94973635673523, 438.3483304977417]\n"
          ]
        }
      ]
    },
    {
      "cell_type": "code",
      "source": [
        "# Tiempo promedio 40000\n",
        "mean40000 = statistics.mean(lista40000)\n",
        "print(mean4000)\n",
        "type(mean4000)"
      ],
      "metadata": {
        "colab": {
          "base_uri": "https://localhost:8080/"
        },
        "id": "kat708gYm8qh",
        "outputId": "f993372b-0682-4e9e-fe3a-a3fd4ee4176d"
      },
      "execution_count": null,
      "outputs": [
        {
          "output_type": "stream",
          "name": "stdout",
          "text": [
            "4.476856088638305\n"
          ]
        },
        {
          "output_type": "execute_result",
          "data": {
            "text/plain": [
              "float"
            ]
          },
          "metadata": {},
          "execution_count": 44
        }
      ]
    },
    {
      "cell_type": "code",
      "source": [
        "# Desviación estándar utilizando NumPy\n",
        "desviacion_estandar40000 = np.std(lista40000)\n",
        "print(desviacion_estandar40000)\n",
        "type(desviacion_estandar40000)"
      ],
      "metadata": {
        "colab": {
          "base_uri": "https://localhost:8080/"
        },
        "id": "ACj6xghLm8tK",
        "outputId": "b85e2981-89f4-4a48-83ea-0f8aa02f168c"
      },
      "execution_count": null,
      "outputs": [
        {
          "output_type": "stream",
          "name": "stdout",
          "text": [
            "0.42516594564176785\n"
          ]
        },
        {
          "output_type": "execute_result",
          "data": {
            "text/plain": [
              "numpy.float64"
            ]
          },
          "metadata": {},
          "execution_count": 45
        }
      ]
    },
    {
      "cell_type": "code",
      "source": [
        "lista50000 = []\n",
        "for i in range(5):\n",
        "  datos_random = np.random.randint(1, 1000, 50000)\n",
        "  tiempox = bubble_sort(datos_random)\n",
        "  lista50000.append(tiempox)\n",
        "print(lista50000)"
      ],
      "metadata": {
        "id": "7aoCkA1Km8vf",
        "colab": {
          "base_uri": "https://localhost:8080/"
        },
        "outputId": "523826c0-1060-48b4-ed28-9bb75cf1676b"
      },
      "execution_count": null,
      "outputs": [
        {
          "output_type": "stream",
          "name": "stdout",
          "text": [
            "[680.5913865566254, 681.886102437973, 681.2075839042664, 687.3117842674255, 679.3606376647949]\n"
          ]
        }
      ]
    },
    {
      "cell_type": "code",
      "source": [
        "# Tiempo promedio 100\n",
        "mean50000 = statistics.mean(lista50000)\n",
        "print(mean50000)\n",
        "type(mean50000)"
      ],
      "metadata": {
        "id": "9eMkPHKNnZwv",
        "colab": {
          "base_uri": "https://localhost:8080/"
        },
        "outputId": "f79dfde4-05f1-4575-e019-fc13a9f2230f"
      },
      "execution_count": null,
      "outputs": [
        {
          "output_type": "stream",
          "name": "stdout",
          "text": [
            "682.0714989662171\n"
          ]
        },
        {
          "output_type": "execute_result",
          "data": {
            "text/plain": [
              "float"
            ]
          },
          "metadata": {},
          "execution_count": 47
        }
      ]
    },
    {
      "cell_type": "code",
      "source": [
        "# Desviación estándar utilizando NumPy\n",
        "desviacion_estandar50000 = np.std(lista50000)\n",
        "print(desviacion_estandar50000)\n",
        "type(desviacion_estandar50000)"
      ],
      "metadata": {
        "id": "HI3Il1zPnbLf",
        "colab": {
          "base_uri": "https://localhost:8080/"
        },
        "outputId": "3ce61224-2102-444c-d906-efdf7e3a3a38"
      },
      "execution_count": null,
      "outputs": [
        {
          "output_type": "stream",
          "name": "stdout",
          "text": [
            "2.748847499792861\n"
          ]
        },
        {
          "output_type": "execute_result",
          "data": {
            "text/plain": [
              "numpy.float64"
            ]
          },
          "metadata": {},
          "execution_count": 48
        }
      ]
    },
    {
      "cell_type": "code",
      "source": [
        "dc=pd.read_excel(\"/content/practica_1/bubblesort.xlsx\")\n",
        "dc"
      ],
      "metadata": {
        "colab": {
          "base_uri": "https://localhost:8080/",
          "height": 520
        },
        "id": "GiDs4L22ouim",
        "outputId": "b12b6b2b-5b79-4705-f9a3-1a8a18554e16"
      },
      "execution_count": null,
      "outputs": [
        {
          "output_type": "execute_result",
          "data": {
            "text/plain": [
              "    Unnamed: 0  data cantidad program         1         2         3         4  \\\n",
              "0          NaN            100     C++       110       111       113       112   \n",
              "1          NaN           1000     C++     11733     11423     11972     12237   \n",
              "2          NaN           2000     C++     47100     50690     45695     46457   \n",
              "3          NaN           3000     C++    107965    104669    104434    103856   \n",
              "4          NaN           4000     C++    193970    185679    185029    186878   \n",
              "5          NaN           5000     C++    384215    315891    330280    289459   \n",
              "6          NaN           6000     C++    441533    470157    453951    512381   \n",
              "7          NaN           7000     C++    601487    591614    621233    581123   \n",
              "8          NaN           8000     C++    833823    944391   1220098    959120   \n",
              "9          NaN           9000     C++   1018668    936416    952263    987064   \n",
              "10         NaN          10000     C++   1469186   2146031   1449748   1774873   \n",
              "11         NaN          20000     C++   5642011   5935869   7131859   8213693   \n",
              "12         NaN          30000     C++  13065474  10810245  11752406  10582335   \n",
              "13         NaN          40000     C++  26795437  27294929  30499702  37688824   \n",
              "14         NaN          50000     C++  54178190  47704118  49352599  50591060   \n",
              "\n",
              "           5  mean  desv standar  \n",
              "0        114   NaN           NaN  \n",
              "1      13546   NaN           NaN  \n",
              "2      46029   NaN           NaN  \n",
              "3     106066   NaN           NaN  \n",
              "4     181990   NaN           NaN  \n",
              "5     326710   NaN           NaN  \n",
              "6     412869   NaN           NaN  \n",
              "7     583163   NaN           NaN  \n",
              "8    1097996   NaN           NaN  \n",
              "9     966053   NaN           NaN  \n",
              "10   1570517   NaN           NaN  \n",
              "11  10907021   NaN           NaN  \n",
              "12  10709922   NaN           NaN  \n",
              "13  23943047   NaN           NaN  \n",
              "14  51206549   NaN           NaN  "
            ],
            "text/html": [
              "\n",
              "\n",
              "  <div id=\"df-38db2e99-0ee8-444c-b780-d91f27ea0640\">\n",
              "    <div class=\"colab-df-container\">\n",
              "      <div>\n",
              "<style scoped>\n",
              "    .dataframe tbody tr th:only-of-type {\n",
              "        vertical-align: middle;\n",
              "    }\n",
              "\n",
              "    .dataframe tbody tr th {\n",
              "        vertical-align: top;\n",
              "    }\n",
              "\n",
              "    .dataframe thead th {\n",
              "        text-align: right;\n",
              "    }\n",
              "</style>\n",
              "<table border=\"1\" class=\"dataframe\">\n",
              "  <thead>\n",
              "    <tr style=\"text-align: right;\">\n",
              "      <th></th>\n",
              "      <th>Unnamed: 0</th>\n",
              "      <th>data cantidad</th>\n",
              "      <th>program</th>\n",
              "      <th>1</th>\n",
              "      <th>2</th>\n",
              "      <th>3</th>\n",
              "      <th>4</th>\n",
              "      <th>5</th>\n",
              "      <th>mean</th>\n",
              "      <th>desv standar</th>\n",
              "    </tr>\n",
              "  </thead>\n",
              "  <tbody>\n",
              "    <tr>\n",
              "      <th>0</th>\n",
              "      <td>NaN</td>\n",
              "      <td>100</td>\n",
              "      <td>C++</td>\n",
              "      <td>110</td>\n",
              "      <td>111</td>\n",
              "      <td>113</td>\n",
              "      <td>112</td>\n",
              "      <td>114</td>\n",
              "      <td>NaN</td>\n",
              "      <td>NaN</td>\n",
              "    </tr>\n",
              "    <tr>\n",
              "      <th>1</th>\n",
              "      <td>NaN</td>\n",
              "      <td>1000</td>\n",
              "      <td>C++</td>\n",
              "      <td>11733</td>\n",
              "      <td>11423</td>\n",
              "      <td>11972</td>\n",
              "      <td>12237</td>\n",
              "      <td>13546</td>\n",
              "      <td>NaN</td>\n",
              "      <td>NaN</td>\n",
              "    </tr>\n",
              "    <tr>\n",
              "      <th>2</th>\n",
              "      <td>NaN</td>\n",
              "      <td>2000</td>\n",
              "      <td>C++</td>\n",
              "      <td>47100</td>\n",
              "      <td>50690</td>\n",
              "      <td>45695</td>\n",
              "      <td>46457</td>\n",
              "      <td>46029</td>\n",
              "      <td>NaN</td>\n",
              "      <td>NaN</td>\n",
              "    </tr>\n",
              "    <tr>\n",
              "      <th>3</th>\n",
              "      <td>NaN</td>\n",
              "      <td>3000</td>\n",
              "      <td>C++</td>\n",
              "      <td>107965</td>\n",
              "      <td>104669</td>\n",
              "      <td>104434</td>\n",
              "      <td>103856</td>\n",
              "      <td>106066</td>\n",
              "      <td>NaN</td>\n",
              "      <td>NaN</td>\n",
              "    </tr>\n",
              "    <tr>\n",
              "      <th>4</th>\n",
              "      <td>NaN</td>\n",
              "      <td>4000</td>\n",
              "      <td>C++</td>\n",
              "      <td>193970</td>\n",
              "      <td>185679</td>\n",
              "      <td>185029</td>\n",
              "      <td>186878</td>\n",
              "      <td>181990</td>\n",
              "      <td>NaN</td>\n",
              "      <td>NaN</td>\n",
              "    </tr>\n",
              "    <tr>\n",
              "      <th>5</th>\n",
              "      <td>NaN</td>\n",
              "      <td>5000</td>\n",
              "      <td>C++</td>\n",
              "      <td>384215</td>\n",
              "      <td>315891</td>\n",
              "      <td>330280</td>\n",
              "      <td>289459</td>\n",
              "      <td>326710</td>\n",
              "      <td>NaN</td>\n",
              "      <td>NaN</td>\n",
              "    </tr>\n",
              "    <tr>\n",
              "      <th>6</th>\n",
              "      <td>NaN</td>\n",
              "      <td>6000</td>\n",
              "      <td>C++</td>\n",
              "      <td>441533</td>\n",
              "      <td>470157</td>\n",
              "      <td>453951</td>\n",
              "      <td>512381</td>\n",
              "      <td>412869</td>\n",
              "      <td>NaN</td>\n",
              "      <td>NaN</td>\n",
              "    </tr>\n",
              "    <tr>\n",
              "      <th>7</th>\n",
              "      <td>NaN</td>\n",
              "      <td>7000</td>\n",
              "      <td>C++</td>\n",
              "      <td>601487</td>\n",
              "      <td>591614</td>\n",
              "      <td>621233</td>\n",
              "      <td>581123</td>\n",
              "      <td>583163</td>\n",
              "      <td>NaN</td>\n",
              "      <td>NaN</td>\n",
              "    </tr>\n",
              "    <tr>\n",
              "      <th>8</th>\n",
              "      <td>NaN</td>\n",
              "      <td>8000</td>\n",
              "      <td>C++</td>\n",
              "      <td>833823</td>\n",
              "      <td>944391</td>\n",
              "      <td>1220098</td>\n",
              "      <td>959120</td>\n",
              "      <td>1097996</td>\n",
              "      <td>NaN</td>\n",
              "      <td>NaN</td>\n",
              "    </tr>\n",
              "    <tr>\n",
              "      <th>9</th>\n",
              "      <td>NaN</td>\n",
              "      <td>9000</td>\n",
              "      <td>C++</td>\n",
              "      <td>1018668</td>\n",
              "      <td>936416</td>\n",
              "      <td>952263</td>\n",
              "      <td>987064</td>\n",
              "      <td>966053</td>\n",
              "      <td>NaN</td>\n",
              "      <td>NaN</td>\n",
              "    </tr>\n",
              "    <tr>\n",
              "      <th>10</th>\n",
              "      <td>NaN</td>\n",
              "      <td>10000</td>\n",
              "      <td>C++</td>\n",
              "      <td>1469186</td>\n",
              "      <td>2146031</td>\n",
              "      <td>1449748</td>\n",
              "      <td>1774873</td>\n",
              "      <td>1570517</td>\n",
              "      <td>NaN</td>\n",
              "      <td>NaN</td>\n",
              "    </tr>\n",
              "    <tr>\n",
              "      <th>11</th>\n",
              "      <td>NaN</td>\n",
              "      <td>20000</td>\n",
              "      <td>C++</td>\n",
              "      <td>5642011</td>\n",
              "      <td>5935869</td>\n",
              "      <td>7131859</td>\n",
              "      <td>8213693</td>\n",
              "      <td>10907021</td>\n",
              "      <td>NaN</td>\n",
              "      <td>NaN</td>\n",
              "    </tr>\n",
              "    <tr>\n",
              "      <th>12</th>\n",
              "      <td>NaN</td>\n",
              "      <td>30000</td>\n",
              "      <td>C++</td>\n",
              "      <td>13065474</td>\n",
              "      <td>10810245</td>\n",
              "      <td>11752406</td>\n",
              "      <td>10582335</td>\n",
              "      <td>10709922</td>\n",
              "      <td>NaN</td>\n",
              "      <td>NaN</td>\n",
              "    </tr>\n",
              "    <tr>\n",
              "      <th>13</th>\n",
              "      <td>NaN</td>\n",
              "      <td>40000</td>\n",
              "      <td>C++</td>\n",
              "      <td>26795437</td>\n",
              "      <td>27294929</td>\n",
              "      <td>30499702</td>\n",
              "      <td>37688824</td>\n",
              "      <td>23943047</td>\n",
              "      <td>NaN</td>\n",
              "      <td>NaN</td>\n",
              "    </tr>\n",
              "    <tr>\n",
              "      <th>14</th>\n",
              "      <td>NaN</td>\n",
              "      <td>50000</td>\n",
              "      <td>C++</td>\n",
              "      <td>54178190</td>\n",
              "      <td>47704118</td>\n",
              "      <td>49352599</td>\n",
              "      <td>50591060</td>\n",
              "      <td>51206549</td>\n",
              "      <td>NaN</td>\n",
              "      <td>NaN</td>\n",
              "    </tr>\n",
              "  </tbody>\n",
              "</table>\n",
              "</div>\n",
              "      <button class=\"colab-df-convert\" onclick=\"convertToInteractive('df-38db2e99-0ee8-444c-b780-d91f27ea0640')\"\n",
              "              title=\"Convert this dataframe to an interactive table.\"\n",
              "              style=\"display:none;\">\n",
              "\n",
              "  <svg xmlns=\"http://www.w3.org/2000/svg\" height=\"24px\"viewBox=\"0 0 24 24\"\n",
              "       width=\"24px\">\n",
              "    <path d=\"M0 0h24v24H0V0z\" fill=\"none\"/>\n",
              "    <path d=\"M18.56 5.44l.94 2.06.94-2.06 2.06-.94-2.06-.94-.94-2.06-.94 2.06-2.06.94zm-11 1L8.5 8.5l.94-2.06 2.06-.94-2.06-.94L8.5 2.5l-.94 2.06-2.06.94zm10 10l.94 2.06.94-2.06 2.06-.94-2.06-.94-.94-2.06-.94 2.06-2.06.94z\"/><path d=\"M17.41 7.96l-1.37-1.37c-.4-.4-.92-.59-1.43-.59-.52 0-1.04.2-1.43.59L10.3 9.45l-7.72 7.72c-.78.78-.78 2.05 0 2.83L4 21.41c.39.39.9.59 1.41.59.51 0 1.02-.2 1.41-.59l7.78-7.78 2.81-2.81c.8-.78.8-2.07 0-2.86zM5.41 20L4 18.59l7.72-7.72 1.47 1.35L5.41 20z\"/>\n",
              "  </svg>\n",
              "      </button>\n",
              "\n",
              "\n",
              "\n",
              "    <div id=\"df-b258ca48-7cd3-4fb2-aa5b-2672c97cf4d1\">\n",
              "      <button class=\"colab-df-quickchart\" onclick=\"quickchart('df-b258ca48-7cd3-4fb2-aa5b-2672c97cf4d1')\"\n",
              "              title=\"Suggest charts.\"\n",
              "              style=\"display:none;\">\n",
              "\n",
              "<svg xmlns=\"http://www.w3.org/2000/svg\" height=\"24px\"viewBox=\"0 0 24 24\"\n",
              "     width=\"24px\">\n",
              "    <g>\n",
              "        <path d=\"M19 3H5c-1.1 0-2 .9-2 2v14c0 1.1.9 2 2 2h14c1.1 0 2-.9 2-2V5c0-1.1-.9-2-2-2zM9 17H7v-7h2v7zm4 0h-2V7h2v10zm4 0h-2v-4h2v4z\"/>\n",
              "    </g>\n",
              "</svg>\n",
              "      </button>\n",
              "    </div>\n",
              "\n",
              "<style>\n",
              "  .colab-df-quickchart {\n",
              "    background-color: #E8F0FE;\n",
              "    border: none;\n",
              "    border-radius: 50%;\n",
              "    cursor: pointer;\n",
              "    display: none;\n",
              "    fill: #1967D2;\n",
              "    height: 32px;\n",
              "    padding: 0 0 0 0;\n",
              "    width: 32px;\n",
              "  }\n",
              "\n",
              "  .colab-df-quickchart:hover {\n",
              "    background-color: #E2EBFA;\n",
              "    box-shadow: 0px 1px 2px rgba(60, 64, 67, 0.3), 0px 1px 3px 1px rgba(60, 64, 67, 0.15);\n",
              "    fill: #174EA6;\n",
              "  }\n",
              "\n",
              "  [theme=dark] .colab-df-quickchart {\n",
              "    background-color: #3B4455;\n",
              "    fill: #D2E3FC;\n",
              "  }\n",
              "\n",
              "  [theme=dark] .colab-df-quickchart:hover {\n",
              "    background-color: #434B5C;\n",
              "    box-shadow: 0px 1px 3px 1px rgba(0, 0, 0, 0.15);\n",
              "    filter: drop-shadow(0px 1px 2px rgba(0, 0, 0, 0.3));\n",
              "    fill: #FFFFFF;\n",
              "  }\n",
              "</style>\n",
              "\n",
              "    <script>\n",
              "      async function quickchart(key) {\n",
              "        const containerElement = document.querySelector('#' + key);\n",
              "        const charts = await google.colab.kernel.invokeFunction(\n",
              "            'suggestCharts', [key], {});\n",
              "      }\n",
              "    </script>\n",
              "\n",
              "      <script>\n",
              "\n",
              "function displayQuickchartButton(domScope) {\n",
              "  let quickchartButtonEl =\n",
              "    domScope.querySelector('#df-b258ca48-7cd3-4fb2-aa5b-2672c97cf4d1 button.colab-df-quickchart');\n",
              "  quickchartButtonEl.style.display =\n",
              "    google.colab.kernel.accessAllowed ? 'block' : 'none';\n",
              "}\n",
              "\n",
              "        displayQuickchartButton(document);\n",
              "      </script>\n",
              "      <style>\n",
              "    .colab-df-container {\n",
              "      display:flex;\n",
              "      flex-wrap:wrap;\n",
              "      gap: 12px;\n",
              "    }\n",
              "\n",
              "    .colab-df-convert {\n",
              "      background-color: #E8F0FE;\n",
              "      border: none;\n",
              "      border-radius: 50%;\n",
              "      cursor: pointer;\n",
              "      display: none;\n",
              "      fill: #1967D2;\n",
              "      height: 32px;\n",
              "      padding: 0 0 0 0;\n",
              "      width: 32px;\n",
              "    }\n",
              "\n",
              "    .colab-df-convert:hover {\n",
              "      background-color: #E2EBFA;\n",
              "      box-shadow: 0px 1px 2px rgba(60, 64, 67, 0.3), 0px 1px 3px 1px rgba(60, 64, 67, 0.15);\n",
              "      fill: #174EA6;\n",
              "    }\n",
              "\n",
              "    [theme=dark] .colab-df-convert {\n",
              "      background-color: #3B4455;\n",
              "      fill: #D2E3FC;\n",
              "    }\n",
              "\n",
              "    [theme=dark] .colab-df-convert:hover {\n",
              "      background-color: #434B5C;\n",
              "      box-shadow: 0px 1px 3px 1px rgba(0, 0, 0, 0.15);\n",
              "      filter: drop-shadow(0px 1px 2px rgba(0, 0, 0, 0.3));\n",
              "      fill: #FFFFFF;\n",
              "    }\n",
              "  </style>\n",
              "\n",
              "      <script>\n",
              "        const buttonEl =\n",
              "          document.querySelector('#df-38db2e99-0ee8-444c-b780-d91f27ea0640 button.colab-df-convert');\n",
              "        buttonEl.style.display =\n",
              "          google.colab.kernel.accessAllowed ? 'block' : 'none';\n",
              "\n",
              "        async function convertToInteractive(key) {\n",
              "          const element = document.querySelector('#df-38db2e99-0ee8-444c-b780-d91f27ea0640');\n",
              "          const dataTable =\n",
              "            await google.colab.kernel.invokeFunction('convertToInteractive',\n",
              "                                                     [key], {});\n",
              "          if (!dataTable) return;\n",
              "\n",
              "          const docLinkHtml = 'Like what you see? Visit the ' +\n",
              "            '<a target=\"_blank\" href=https://colab.research.google.com/notebooks/data_table.ipynb>data table notebook</a>'\n",
              "            + ' to learn more about interactive tables.';\n",
              "          element.innerHTML = '';\n",
              "          dataTable['output_type'] = 'display_data';\n",
              "          await google.colab.output.renderOutput(dataTable, element);\n",
              "          const docLink = document.createElement('div');\n",
              "          docLink.innerHTML = docLinkHtml;\n",
              "          element.appendChild(docLink);\n",
              "        }\n",
              "      </script>\n",
              "    </div>\n",
              "  </div>\n"
            ]
          },
          "metadata": {},
          "execution_count": 54
        }
      ]
    },
    {
      "cell_type": "code",
      "source": [
        "media=(dc[1]+dc[2]+dc[3]+dc[4]+dc[5])/5\n",
        "media_seg=media/1000000\n",
        "media_seg"
      ],
      "metadata": {
        "colab": {
          "base_uri": "https://localhost:8080/"
        },
        "id": "ne3A_Hv1pCKN",
        "outputId": "4d275819-be22-411d-b7d8-25b484e16f0c"
      },
      "execution_count": null,
      "outputs": [
        {
          "output_type": "execute_result",
          "data": {
            "text/plain": [
              "0      0.000112\n",
              "1      0.012182\n",
              "2      0.047194\n",
              "3      0.105398\n",
              "4      0.186709\n",
              "5      0.329311\n",
              "6      0.458178\n",
              "7      0.595724\n",
              "8      1.011086\n",
              "9      0.972093\n",
              "10     1.682071\n",
              "11     7.566091\n",
              "12    11.384076\n",
              "13    29.244388\n",
              "14    50.606503\n",
              "dtype: float64"
            ]
          },
          "metadata": {},
          "execution_count": 55
        }
      ]
    },
    {
      "cell_type": "code",
      "source": [
        "df2=pd.DataFrame()\n",
        "df2[\"data cantidad\"]=dc[\"data cantidad\"]\n",
        "df2[\"program\"]=dc[\"program\"]\n",
        "df2[\"mean\"]=media_seg\n",
        "df2[\"desv standar\"]=df2[\"mean\"].std()\n",
        "df2"
      ],
      "metadata": {
        "colab": {
          "base_uri": "https://localhost:8080/",
          "height": 520
        },
        "id": "0RK9SYxopLb3",
        "outputId": "bb6a3256-82d0-4947-8a10-adcc2fb05a08"
      },
      "execution_count": null,
      "outputs": [
        {
          "output_type": "execute_result",
          "data": {
            "text/plain": [
              "    data cantidad program       mean  desv standar\n",
              "0             100     C++   0.000112      14.35458\n",
              "1            1000     C++   0.012182      14.35458\n",
              "2            2000     C++   0.047194      14.35458\n",
              "3            3000     C++   0.105398      14.35458\n",
              "4            4000     C++   0.186709      14.35458\n",
              "5            5000     C++   0.329311      14.35458\n",
              "6            6000     C++   0.458178      14.35458\n",
              "7            7000     C++   0.595724      14.35458\n",
              "8            8000     C++   1.011086      14.35458\n",
              "9            9000     C++   0.972093      14.35458\n",
              "10          10000     C++   1.682071      14.35458\n",
              "11          20000     C++   7.566091      14.35458\n",
              "12          30000     C++  11.384076      14.35458\n",
              "13          40000     C++  29.244388      14.35458\n",
              "14          50000     C++  50.606503      14.35458"
            ],
            "text/html": [
              "\n",
              "\n",
              "  <div id=\"df-cddd8742-55dc-4578-91e5-88024875a58a\">\n",
              "    <div class=\"colab-df-container\">\n",
              "      <div>\n",
              "<style scoped>\n",
              "    .dataframe tbody tr th:only-of-type {\n",
              "        vertical-align: middle;\n",
              "    }\n",
              "\n",
              "    .dataframe tbody tr th {\n",
              "        vertical-align: top;\n",
              "    }\n",
              "\n",
              "    .dataframe thead th {\n",
              "        text-align: right;\n",
              "    }\n",
              "</style>\n",
              "<table border=\"1\" class=\"dataframe\">\n",
              "  <thead>\n",
              "    <tr style=\"text-align: right;\">\n",
              "      <th></th>\n",
              "      <th>data cantidad</th>\n",
              "      <th>program</th>\n",
              "      <th>mean</th>\n",
              "      <th>desv standar</th>\n",
              "    </tr>\n",
              "  </thead>\n",
              "  <tbody>\n",
              "    <tr>\n",
              "      <th>0</th>\n",
              "      <td>100</td>\n",
              "      <td>C++</td>\n",
              "      <td>0.000112</td>\n",
              "      <td>14.35458</td>\n",
              "    </tr>\n",
              "    <tr>\n",
              "      <th>1</th>\n",
              "      <td>1000</td>\n",
              "      <td>C++</td>\n",
              "      <td>0.012182</td>\n",
              "      <td>14.35458</td>\n",
              "    </tr>\n",
              "    <tr>\n",
              "      <th>2</th>\n",
              "      <td>2000</td>\n",
              "      <td>C++</td>\n",
              "      <td>0.047194</td>\n",
              "      <td>14.35458</td>\n",
              "    </tr>\n",
              "    <tr>\n",
              "      <th>3</th>\n",
              "      <td>3000</td>\n",
              "      <td>C++</td>\n",
              "      <td>0.105398</td>\n",
              "      <td>14.35458</td>\n",
              "    </tr>\n",
              "    <tr>\n",
              "      <th>4</th>\n",
              "      <td>4000</td>\n",
              "      <td>C++</td>\n",
              "      <td>0.186709</td>\n",
              "      <td>14.35458</td>\n",
              "    </tr>\n",
              "    <tr>\n",
              "      <th>5</th>\n",
              "      <td>5000</td>\n",
              "      <td>C++</td>\n",
              "      <td>0.329311</td>\n",
              "      <td>14.35458</td>\n",
              "    </tr>\n",
              "    <tr>\n",
              "      <th>6</th>\n",
              "      <td>6000</td>\n",
              "      <td>C++</td>\n",
              "      <td>0.458178</td>\n",
              "      <td>14.35458</td>\n",
              "    </tr>\n",
              "    <tr>\n",
              "      <th>7</th>\n",
              "      <td>7000</td>\n",
              "      <td>C++</td>\n",
              "      <td>0.595724</td>\n",
              "      <td>14.35458</td>\n",
              "    </tr>\n",
              "    <tr>\n",
              "      <th>8</th>\n",
              "      <td>8000</td>\n",
              "      <td>C++</td>\n",
              "      <td>1.011086</td>\n",
              "      <td>14.35458</td>\n",
              "    </tr>\n",
              "    <tr>\n",
              "      <th>9</th>\n",
              "      <td>9000</td>\n",
              "      <td>C++</td>\n",
              "      <td>0.972093</td>\n",
              "      <td>14.35458</td>\n",
              "    </tr>\n",
              "    <tr>\n",
              "      <th>10</th>\n",
              "      <td>10000</td>\n",
              "      <td>C++</td>\n",
              "      <td>1.682071</td>\n",
              "      <td>14.35458</td>\n",
              "    </tr>\n",
              "    <tr>\n",
              "      <th>11</th>\n",
              "      <td>20000</td>\n",
              "      <td>C++</td>\n",
              "      <td>7.566091</td>\n",
              "      <td>14.35458</td>\n",
              "    </tr>\n",
              "    <tr>\n",
              "      <th>12</th>\n",
              "      <td>30000</td>\n",
              "      <td>C++</td>\n",
              "      <td>11.384076</td>\n",
              "      <td>14.35458</td>\n",
              "    </tr>\n",
              "    <tr>\n",
              "      <th>13</th>\n",
              "      <td>40000</td>\n",
              "      <td>C++</td>\n",
              "      <td>29.244388</td>\n",
              "      <td>14.35458</td>\n",
              "    </tr>\n",
              "    <tr>\n",
              "      <th>14</th>\n",
              "      <td>50000</td>\n",
              "      <td>C++</td>\n",
              "      <td>50.606503</td>\n",
              "      <td>14.35458</td>\n",
              "    </tr>\n",
              "  </tbody>\n",
              "</table>\n",
              "</div>\n",
              "      <button class=\"colab-df-convert\" onclick=\"convertToInteractive('df-cddd8742-55dc-4578-91e5-88024875a58a')\"\n",
              "              title=\"Convert this dataframe to an interactive table.\"\n",
              "              style=\"display:none;\">\n",
              "\n",
              "  <svg xmlns=\"http://www.w3.org/2000/svg\" height=\"24px\"viewBox=\"0 0 24 24\"\n",
              "       width=\"24px\">\n",
              "    <path d=\"M0 0h24v24H0V0z\" fill=\"none\"/>\n",
              "    <path d=\"M18.56 5.44l.94 2.06.94-2.06 2.06-.94-2.06-.94-.94-2.06-.94 2.06-2.06.94zm-11 1L8.5 8.5l.94-2.06 2.06-.94-2.06-.94L8.5 2.5l-.94 2.06-2.06.94zm10 10l.94 2.06.94-2.06 2.06-.94-2.06-.94-.94-2.06-.94 2.06-2.06.94z\"/><path d=\"M17.41 7.96l-1.37-1.37c-.4-.4-.92-.59-1.43-.59-.52 0-1.04.2-1.43.59L10.3 9.45l-7.72 7.72c-.78.78-.78 2.05 0 2.83L4 21.41c.39.39.9.59 1.41.59.51 0 1.02-.2 1.41-.59l7.78-7.78 2.81-2.81c.8-.78.8-2.07 0-2.86zM5.41 20L4 18.59l7.72-7.72 1.47 1.35L5.41 20z\"/>\n",
              "  </svg>\n",
              "      </button>\n",
              "\n",
              "\n",
              "\n",
              "    <div id=\"df-ed263d4a-0835-4b82-944b-dc8c0716eeb0\">\n",
              "      <button class=\"colab-df-quickchart\" onclick=\"quickchart('df-ed263d4a-0835-4b82-944b-dc8c0716eeb0')\"\n",
              "              title=\"Suggest charts.\"\n",
              "              style=\"display:none;\">\n",
              "\n",
              "<svg xmlns=\"http://www.w3.org/2000/svg\" height=\"24px\"viewBox=\"0 0 24 24\"\n",
              "     width=\"24px\">\n",
              "    <g>\n",
              "        <path d=\"M19 3H5c-1.1 0-2 .9-2 2v14c0 1.1.9 2 2 2h14c1.1 0 2-.9 2-2V5c0-1.1-.9-2-2-2zM9 17H7v-7h2v7zm4 0h-2V7h2v10zm4 0h-2v-4h2v4z\"/>\n",
              "    </g>\n",
              "</svg>\n",
              "      </button>\n",
              "    </div>\n",
              "\n",
              "<style>\n",
              "  .colab-df-quickchart {\n",
              "    background-color: #E8F0FE;\n",
              "    border: none;\n",
              "    border-radius: 50%;\n",
              "    cursor: pointer;\n",
              "    display: none;\n",
              "    fill: #1967D2;\n",
              "    height: 32px;\n",
              "    padding: 0 0 0 0;\n",
              "    width: 32px;\n",
              "  }\n",
              "\n",
              "  .colab-df-quickchart:hover {\n",
              "    background-color: #E2EBFA;\n",
              "    box-shadow: 0px 1px 2px rgba(60, 64, 67, 0.3), 0px 1px 3px 1px rgba(60, 64, 67, 0.15);\n",
              "    fill: #174EA6;\n",
              "  }\n",
              "\n",
              "  [theme=dark] .colab-df-quickchart {\n",
              "    background-color: #3B4455;\n",
              "    fill: #D2E3FC;\n",
              "  }\n",
              "\n",
              "  [theme=dark] .colab-df-quickchart:hover {\n",
              "    background-color: #434B5C;\n",
              "    box-shadow: 0px 1px 3px 1px rgba(0, 0, 0, 0.15);\n",
              "    filter: drop-shadow(0px 1px 2px rgba(0, 0, 0, 0.3));\n",
              "    fill: #FFFFFF;\n",
              "  }\n",
              "</style>\n",
              "\n",
              "    <script>\n",
              "      async function quickchart(key) {\n",
              "        const containerElement = document.querySelector('#' + key);\n",
              "        const charts = await google.colab.kernel.invokeFunction(\n",
              "            'suggestCharts', [key], {});\n",
              "      }\n",
              "    </script>\n",
              "\n",
              "      <script>\n",
              "\n",
              "function displayQuickchartButton(domScope) {\n",
              "  let quickchartButtonEl =\n",
              "    domScope.querySelector('#df-ed263d4a-0835-4b82-944b-dc8c0716eeb0 button.colab-df-quickchart');\n",
              "  quickchartButtonEl.style.display =\n",
              "    google.colab.kernel.accessAllowed ? 'block' : 'none';\n",
              "}\n",
              "\n",
              "        displayQuickchartButton(document);\n",
              "      </script>\n",
              "      <style>\n",
              "    .colab-df-container {\n",
              "      display:flex;\n",
              "      flex-wrap:wrap;\n",
              "      gap: 12px;\n",
              "    }\n",
              "\n",
              "    .colab-df-convert {\n",
              "      background-color: #E8F0FE;\n",
              "      border: none;\n",
              "      border-radius: 50%;\n",
              "      cursor: pointer;\n",
              "      display: none;\n",
              "      fill: #1967D2;\n",
              "      height: 32px;\n",
              "      padding: 0 0 0 0;\n",
              "      width: 32px;\n",
              "    }\n",
              "\n",
              "    .colab-df-convert:hover {\n",
              "      background-color: #E2EBFA;\n",
              "      box-shadow: 0px 1px 2px rgba(60, 64, 67, 0.3), 0px 1px 3px 1px rgba(60, 64, 67, 0.15);\n",
              "      fill: #174EA6;\n",
              "    }\n",
              "\n",
              "    [theme=dark] .colab-df-convert {\n",
              "      background-color: #3B4455;\n",
              "      fill: #D2E3FC;\n",
              "    }\n",
              "\n",
              "    [theme=dark] .colab-df-convert:hover {\n",
              "      background-color: #434B5C;\n",
              "      box-shadow: 0px 1px 3px 1px rgba(0, 0, 0, 0.15);\n",
              "      filter: drop-shadow(0px 1px 2px rgba(0, 0, 0, 0.3));\n",
              "      fill: #FFFFFF;\n",
              "    }\n",
              "  </style>\n",
              "\n",
              "      <script>\n",
              "        const buttonEl =\n",
              "          document.querySelector('#df-cddd8742-55dc-4578-91e5-88024875a58a button.colab-df-convert');\n",
              "        buttonEl.style.display =\n",
              "          google.colab.kernel.accessAllowed ? 'block' : 'none';\n",
              "\n",
              "        async function convertToInteractive(key) {\n",
              "          const element = document.querySelector('#df-cddd8742-55dc-4578-91e5-88024875a58a');\n",
              "          const dataTable =\n",
              "            await google.colab.kernel.invokeFunction('convertToInteractive',\n",
              "                                                     [key], {});\n",
              "          if (!dataTable) return;\n",
              "\n",
              "          const docLinkHtml = 'Like what you see? Visit the ' +\n",
              "            '<a target=\"_blank\" href=https://colab.research.google.com/notebooks/data_table.ipynb>data table notebook</a>'\n",
              "            + ' to learn more about interactive tables.';\n",
              "          element.innerHTML = '';\n",
              "          dataTable['output_type'] = 'display_data';\n",
              "          await google.colab.output.renderOutput(dataTable, element);\n",
              "          const docLink = document.createElement('div');\n",
              "          docLink.innerHTML = docLinkHtml;\n",
              "          element.appendChild(docLink);\n",
              "        }\n",
              "      </script>\n",
              "    </div>\n",
              "  </div>\n"
            ]
          },
          "metadata": {},
          "execution_count": 56
        }
      ]
    },
    {
      "cell_type": "code",
      "source": [
        "df = pd.DataFrame()"
      ],
      "metadata": {
        "id": "jRGO8wPCngII"
      },
      "execution_count": null,
      "outputs": []
    },
    {
      "cell_type": "code",
      "source": [
        "df['data cantidad'] = ['100', '1000', '2000', '3000', '4000', '5000', '6000', '7000', '8000', '9000', '10000', '20000', '30000', '40000', '50000']\n",
        "df['program'] = ['Python', 'Python', 'Python', 'Python', 'Python', 'Python', 'Python', 'Python', 'Python', 'Python', 'Python', 'Python', 'Python', 'Python', 'Python']\n",
        "df['mean'] = [mean100, mean1000, mean2000, mean3000, mean4000, mean5000, mean6000, mean7000, mean8000, mean9000, mean10000, mean20000, mean30000, mean40000, mean50000]\n",
        "df['desv standar'] = [desviacion_estandar100, desviacion_estandar1000, desviacion_estandar2000, desviacion_estandar3000, desviacion_estandar4000, desviacion_estandar5000, desviacion_estandar6000, desviacion_estandar7000, desviacion_estandar8000, desviacion_estandar9000, desviacion_estandar10000, desviacion_estandar20000, desviacion_estandar30000, desviacion_estandar40000, desviacion_estandar50000]"
      ],
      "metadata": {
        "id": "-Uh_wGYlnpmv"
      },
      "execution_count": null,
      "outputs": []
    },
    {
      "cell_type": "code",
      "source": [
        "df"
      ],
      "metadata": {
        "id": "bOVJuN4Lnsjw",
        "colab": {
          "base_uri": "https://localhost:8080/",
          "height": 520
        },
        "outputId": "1b247378-0d1b-46d3-dd68-498c6f7cfeae"
      },
      "execution_count": null,
      "outputs": [
        {
          "output_type": "execute_result",
          "data": {
            "text/plain": [
              "   data cantidad program        mean  desv standar\n",
              "0            100  Python    0.010218      0.004006\n",
              "1           1000  Python    0.745632      0.199763\n",
              "2           2000  Python    0.989881      0.028868\n",
              "3           3000  Python    2.661583      0.887040\n",
              "4           4000  Python    4.476856      0.783044\n",
              "5           5000  Python    6.911474      0.655948\n",
              "6           6000  Python    9.614950      0.833460\n",
              "7           7000  Python   13.490404      0.060669\n",
              "8           8000  Python   17.304679      0.700354\n",
              "9           9000  Python   22.289336      0.822657\n",
              "10         10000  Python   27.806036      2.096104\n",
              "11         20000  Python  108.556182      1.484653\n",
              "12         30000  Python  246.359860      1.143062\n",
              "13         40000  Python  438.962317      0.425166\n",
              "14         50000  Python  682.071499      2.748847"
            ],
            "text/html": [
              "\n",
              "\n",
              "  <div id=\"df-bd6b03d7-119b-47a9-b83f-8323e806992e\">\n",
              "    <div class=\"colab-df-container\">\n",
              "      <div>\n",
              "<style scoped>\n",
              "    .dataframe tbody tr th:only-of-type {\n",
              "        vertical-align: middle;\n",
              "    }\n",
              "\n",
              "    .dataframe tbody tr th {\n",
              "        vertical-align: top;\n",
              "    }\n",
              "\n",
              "    .dataframe thead th {\n",
              "        text-align: right;\n",
              "    }\n",
              "</style>\n",
              "<table border=\"1\" class=\"dataframe\">\n",
              "  <thead>\n",
              "    <tr style=\"text-align: right;\">\n",
              "      <th></th>\n",
              "      <th>data cantidad</th>\n",
              "      <th>program</th>\n",
              "      <th>mean</th>\n",
              "      <th>desv standar</th>\n",
              "    </tr>\n",
              "  </thead>\n",
              "  <tbody>\n",
              "    <tr>\n",
              "      <th>0</th>\n",
              "      <td>100</td>\n",
              "      <td>Python</td>\n",
              "      <td>0.010218</td>\n",
              "      <td>0.004006</td>\n",
              "    </tr>\n",
              "    <tr>\n",
              "      <th>1</th>\n",
              "      <td>1000</td>\n",
              "      <td>Python</td>\n",
              "      <td>0.745632</td>\n",
              "      <td>0.199763</td>\n",
              "    </tr>\n",
              "    <tr>\n",
              "      <th>2</th>\n",
              "      <td>2000</td>\n",
              "      <td>Python</td>\n",
              "      <td>0.989881</td>\n",
              "      <td>0.028868</td>\n",
              "    </tr>\n",
              "    <tr>\n",
              "      <th>3</th>\n",
              "      <td>3000</td>\n",
              "      <td>Python</td>\n",
              "      <td>2.661583</td>\n",
              "      <td>0.887040</td>\n",
              "    </tr>\n",
              "    <tr>\n",
              "      <th>4</th>\n",
              "      <td>4000</td>\n",
              "      <td>Python</td>\n",
              "      <td>4.476856</td>\n",
              "      <td>0.783044</td>\n",
              "    </tr>\n",
              "    <tr>\n",
              "      <th>5</th>\n",
              "      <td>5000</td>\n",
              "      <td>Python</td>\n",
              "      <td>6.911474</td>\n",
              "      <td>0.655948</td>\n",
              "    </tr>\n",
              "    <tr>\n",
              "      <th>6</th>\n",
              "      <td>6000</td>\n",
              "      <td>Python</td>\n",
              "      <td>9.614950</td>\n",
              "      <td>0.833460</td>\n",
              "    </tr>\n",
              "    <tr>\n",
              "      <th>7</th>\n",
              "      <td>7000</td>\n",
              "      <td>Python</td>\n",
              "      <td>13.490404</td>\n",
              "      <td>0.060669</td>\n",
              "    </tr>\n",
              "    <tr>\n",
              "      <th>8</th>\n",
              "      <td>8000</td>\n",
              "      <td>Python</td>\n",
              "      <td>17.304679</td>\n",
              "      <td>0.700354</td>\n",
              "    </tr>\n",
              "    <tr>\n",
              "      <th>9</th>\n",
              "      <td>9000</td>\n",
              "      <td>Python</td>\n",
              "      <td>22.289336</td>\n",
              "      <td>0.822657</td>\n",
              "    </tr>\n",
              "    <tr>\n",
              "      <th>10</th>\n",
              "      <td>10000</td>\n",
              "      <td>Python</td>\n",
              "      <td>27.806036</td>\n",
              "      <td>2.096104</td>\n",
              "    </tr>\n",
              "    <tr>\n",
              "      <th>11</th>\n",
              "      <td>20000</td>\n",
              "      <td>Python</td>\n",
              "      <td>108.556182</td>\n",
              "      <td>1.484653</td>\n",
              "    </tr>\n",
              "    <tr>\n",
              "      <th>12</th>\n",
              "      <td>30000</td>\n",
              "      <td>Python</td>\n",
              "      <td>246.359860</td>\n",
              "      <td>1.143062</td>\n",
              "    </tr>\n",
              "    <tr>\n",
              "      <th>13</th>\n",
              "      <td>40000</td>\n",
              "      <td>Python</td>\n",
              "      <td>438.962317</td>\n",
              "      <td>0.425166</td>\n",
              "    </tr>\n",
              "    <tr>\n",
              "      <th>14</th>\n",
              "      <td>50000</td>\n",
              "      <td>Python</td>\n",
              "      <td>682.071499</td>\n",
              "      <td>2.748847</td>\n",
              "    </tr>\n",
              "  </tbody>\n",
              "</table>\n",
              "</div>\n",
              "      <button class=\"colab-df-convert\" onclick=\"convertToInteractive('df-bd6b03d7-119b-47a9-b83f-8323e806992e')\"\n",
              "              title=\"Convert this dataframe to an interactive table.\"\n",
              "              style=\"display:none;\">\n",
              "\n",
              "  <svg xmlns=\"http://www.w3.org/2000/svg\" height=\"24px\"viewBox=\"0 0 24 24\"\n",
              "       width=\"24px\">\n",
              "    <path d=\"M0 0h24v24H0V0z\" fill=\"none\"/>\n",
              "    <path d=\"M18.56 5.44l.94 2.06.94-2.06 2.06-.94-2.06-.94-.94-2.06-.94 2.06-2.06.94zm-11 1L8.5 8.5l.94-2.06 2.06-.94-2.06-.94L8.5 2.5l-.94 2.06-2.06.94zm10 10l.94 2.06.94-2.06 2.06-.94-2.06-.94-.94-2.06-.94 2.06-2.06.94z\"/><path d=\"M17.41 7.96l-1.37-1.37c-.4-.4-.92-.59-1.43-.59-.52 0-1.04.2-1.43.59L10.3 9.45l-7.72 7.72c-.78.78-.78 2.05 0 2.83L4 21.41c.39.39.9.59 1.41.59.51 0 1.02-.2 1.41-.59l7.78-7.78 2.81-2.81c.8-.78.8-2.07 0-2.86zM5.41 20L4 18.59l7.72-7.72 1.47 1.35L5.41 20z\"/>\n",
              "  </svg>\n",
              "      </button>\n",
              "\n",
              "\n",
              "\n",
              "    <div id=\"df-a75edfe0-bbc2-42e8-a688-605f7dce6fae\">\n",
              "      <button class=\"colab-df-quickchart\" onclick=\"quickchart('df-a75edfe0-bbc2-42e8-a688-605f7dce6fae')\"\n",
              "              title=\"Suggest charts.\"\n",
              "              style=\"display:none;\">\n",
              "\n",
              "<svg xmlns=\"http://www.w3.org/2000/svg\" height=\"24px\"viewBox=\"0 0 24 24\"\n",
              "     width=\"24px\">\n",
              "    <g>\n",
              "        <path d=\"M19 3H5c-1.1 0-2 .9-2 2v14c0 1.1.9 2 2 2h14c1.1 0 2-.9 2-2V5c0-1.1-.9-2-2-2zM9 17H7v-7h2v7zm4 0h-2V7h2v10zm4 0h-2v-4h2v4z\"/>\n",
              "    </g>\n",
              "</svg>\n",
              "      </button>\n",
              "    </div>\n",
              "\n",
              "<style>\n",
              "  .colab-df-quickchart {\n",
              "    background-color: #E8F0FE;\n",
              "    border: none;\n",
              "    border-radius: 50%;\n",
              "    cursor: pointer;\n",
              "    display: none;\n",
              "    fill: #1967D2;\n",
              "    height: 32px;\n",
              "    padding: 0 0 0 0;\n",
              "    width: 32px;\n",
              "  }\n",
              "\n",
              "  .colab-df-quickchart:hover {\n",
              "    background-color: #E2EBFA;\n",
              "    box-shadow: 0px 1px 2px rgba(60, 64, 67, 0.3), 0px 1px 3px 1px rgba(60, 64, 67, 0.15);\n",
              "    fill: #174EA6;\n",
              "  }\n",
              "\n",
              "  [theme=dark] .colab-df-quickchart {\n",
              "    background-color: #3B4455;\n",
              "    fill: #D2E3FC;\n",
              "  }\n",
              "\n",
              "  [theme=dark] .colab-df-quickchart:hover {\n",
              "    background-color: #434B5C;\n",
              "    box-shadow: 0px 1px 3px 1px rgba(0, 0, 0, 0.15);\n",
              "    filter: drop-shadow(0px 1px 2px rgba(0, 0, 0, 0.3));\n",
              "    fill: #FFFFFF;\n",
              "  }\n",
              "</style>\n",
              "\n",
              "    <script>\n",
              "      async function quickchart(key) {\n",
              "        const containerElement = document.querySelector('#' + key);\n",
              "        const charts = await google.colab.kernel.invokeFunction(\n",
              "            'suggestCharts', [key], {});\n",
              "      }\n",
              "    </script>\n",
              "\n",
              "      <script>\n",
              "\n",
              "function displayQuickchartButton(domScope) {\n",
              "  let quickchartButtonEl =\n",
              "    domScope.querySelector('#df-a75edfe0-bbc2-42e8-a688-605f7dce6fae button.colab-df-quickchart');\n",
              "  quickchartButtonEl.style.display =\n",
              "    google.colab.kernel.accessAllowed ? 'block' : 'none';\n",
              "}\n",
              "\n",
              "        displayQuickchartButton(document);\n",
              "      </script>\n",
              "      <style>\n",
              "    .colab-df-container {\n",
              "      display:flex;\n",
              "      flex-wrap:wrap;\n",
              "      gap: 12px;\n",
              "    }\n",
              "\n",
              "    .colab-df-convert {\n",
              "      background-color: #E8F0FE;\n",
              "      border: none;\n",
              "      border-radius: 50%;\n",
              "      cursor: pointer;\n",
              "      display: none;\n",
              "      fill: #1967D2;\n",
              "      height: 32px;\n",
              "      padding: 0 0 0 0;\n",
              "      width: 32px;\n",
              "    }\n",
              "\n",
              "    .colab-df-convert:hover {\n",
              "      background-color: #E2EBFA;\n",
              "      box-shadow: 0px 1px 2px rgba(60, 64, 67, 0.3), 0px 1px 3px 1px rgba(60, 64, 67, 0.15);\n",
              "      fill: #174EA6;\n",
              "    }\n",
              "\n",
              "    [theme=dark] .colab-df-convert {\n",
              "      background-color: #3B4455;\n",
              "      fill: #D2E3FC;\n",
              "    }\n",
              "\n",
              "    [theme=dark] .colab-df-convert:hover {\n",
              "      background-color: #434B5C;\n",
              "      box-shadow: 0px 1px 3px 1px rgba(0, 0, 0, 0.15);\n",
              "      filter: drop-shadow(0px 1px 2px rgba(0, 0, 0, 0.3));\n",
              "      fill: #FFFFFF;\n",
              "    }\n",
              "  </style>\n",
              "\n",
              "      <script>\n",
              "        const buttonEl =\n",
              "          document.querySelector('#df-bd6b03d7-119b-47a9-b83f-8323e806992e button.colab-df-convert');\n",
              "        buttonEl.style.display =\n",
              "          google.colab.kernel.accessAllowed ? 'block' : 'none';\n",
              "\n",
              "        async function convertToInteractive(key) {\n",
              "          const element = document.querySelector('#df-bd6b03d7-119b-47a9-b83f-8323e806992e');\n",
              "          const dataTable =\n",
              "            await google.colab.kernel.invokeFunction('convertToInteractive',\n",
              "                                                     [key], {});\n",
              "          if (!dataTable) return;\n",
              "\n",
              "          const docLinkHtml = 'Like what you see? Visit the ' +\n",
              "            '<a target=\"_blank\" href=https://colab.research.google.com/notebooks/data_table.ipynb>data table notebook</a>'\n",
              "            + ' to learn more about interactive tables.';\n",
              "          element.innerHTML = '';\n",
              "          dataTable['output_type'] = 'display_data';\n",
              "          await google.colab.output.renderOutput(dataTable, element);\n",
              "          const docLink = document.createElement('div');\n",
              "          docLink.innerHTML = docLinkHtml;\n",
              "          element.appendChild(docLink);\n",
              "        }\n",
              "      </script>\n",
              "    </div>\n",
              "  </div>\n"
            ]
          },
          "metadata": {},
          "execution_count": 52
        }
      ]
    },
    {
      "cell_type": "code",
      "source": [
        "result = df.join(df2, lsuffix='_left', rsuffix='_right')\n",
        "result"
      ],
      "metadata": {
        "id": "lEgro08XnujQ",
        "colab": {
          "base_uri": "https://localhost:8080/",
          "height": 520
        },
        "outputId": "236b28e3-6689-4da4-f9c4-b36a3b746e7e"
      },
      "execution_count": null,
      "outputs": [
        {
          "output_type": "execute_result",
          "data": {
            "text/plain": [
              "   data cantidad_left program_left   mean_left  desv standar_left  \\\n",
              "0                 100       Python    0.010218           0.004006   \n",
              "1                1000       Python    0.745632           0.199763   \n",
              "2                2000       Python    0.989881           0.028868   \n",
              "3                3000       Python    2.661583           0.887040   \n",
              "4                4000       Python    4.476856           0.783044   \n",
              "5                5000       Python    6.911474           0.655948   \n",
              "6                6000       Python    9.614950           0.833460   \n",
              "7                7000       Python   13.490404           0.060669   \n",
              "8                8000       Python   17.304679           0.700354   \n",
              "9                9000       Python   22.289336           0.822657   \n",
              "10              10000       Python   27.806036           2.096104   \n",
              "11              20000       Python  108.556182           1.484653   \n",
              "12              30000       Python  246.359860           1.143062   \n",
              "13              40000       Python  438.962317           0.425166   \n",
              "14              50000       Python  682.071499           2.748847   \n",
              "\n",
              "    data cantidad_right program_right  mean_right  desv standar_right  \n",
              "0                   100           C++    0.000112            14.35458  \n",
              "1                  1000           C++    0.012182            14.35458  \n",
              "2                  2000           C++    0.047194            14.35458  \n",
              "3                  3000           C++    0.105398            14.35458  \n",
              "4                  4000           C++    0.186709            14.35458  \n",
              "5                  5000           C++    0.329311            14.35458  \n",
              "6                  6000           C++    0.458178            14.35458  \n",
              "7                  7000           C++    0.595724            14.35458  \n",
              "8                  8000           C++    1.011086            14.35458  \n",
              "9                  9000           C++    0.972093            14.35458  \n",
              "10                10000           C++    1.682071            14.35458  \n",
              "11                20000           C++    7.566091            14.35458  \n",
              "12                30000           C++   11.384076            14.35458  \n",
              "13                40000           C++   29.244388            14.35458  \n",
              "14                50000           C++   50.606503            14.35458  "
            ],
            "text/html": [
              "\n",
              "\n",
              "  <div id=\"df-093a3355-7db2-4616-9353-753842606436\">\n",
              "    <div class=\"colab-df-container\">\n",
              "      <div>\n",
              "<style scoped>\n",
              "    .dataframe tbody tr th:only-of-type {\n",
              "        vertical-align: middle;\n",
              "    }\n",
              "\n",
              "    .dataframe tbody tr th {\n",
              "        vertical-align: top;\n",
              "    }\n",
              "\n",
              "    .dataframe thead th {\n",
              "        text-align: right;\n",
              "    }\n",
              "</style>\n",
              "<table border=\"1\" class=\"dataframe\">\n",
              "  <thead>\n",
              "    <tr style=\"text-align: right;\">\n",
              "      <th></th>\n",
              "      <th>data cantidad_left</th>\n",
              "      <th>program_left</th>\n",
              "      <th>mean_left</th>\n",
              "      <th>desv standar_left</th>\n",
              "      <th>data cantidad_right</th>\n",
              "      <th>program_right</th>\n",
              "      <th>mean_right</th>\n",
              "      <th>desv standar_right</th>\n",
              "    </tr>\n",
              "  </thead>\n",
              "  <tbody>\n",
              "    <tr>\n",
              "      <th>0</th>\n",
              "      <td>100</td>\n",
              "      <td>Python</td>\n",
              "      <td>0.010218</td>\n",
              "      <td>0.004006</td>\n",
              "      <td>100</td>\n",
              "      <td>C++</td>\n",
              "      <td>0.000112</td>\n",
              "      <td>14.35458</td>\n",
              "    </tr>\n",
              "    <tr>\n",
              "      <th>1</th>\n",
              "      <td>1000</td>\n",
              "      <td>Python</td>\n",
              "      <td>0.745632</td>\n",
              "      <td>0.199763</td>\n",
              "      <td>1000</td>\n",
              "      <td>C++</td>\n",
              "      <td>0.012182</td>\n",
              "      <td>14.35458</td>\n",
              "    </tr>\n",
              "    <tr>\n",
              "      <th>2</th>\n",
              "      <td>2000</td>\n",
              "      <td>Python</td>\n",
              "      <td>0.989881</td>\n",
              "      <td>0.028868</td>\n",
              "      <td>2000</td>\n",
              "      <td>C++</td>\n",
              "      <td>0.047194</td>\n",
              "      <td>14.35458</td>\n",
              "    </tr>\n",
              "    <tr>\n",
              "      <th>3</th>\n",
              "      <td>3000</td>\n",
              "      <td>Python</td>\n",
              "      <td>2.661583</td>\n",
              "      <td>0.887040</td>\n",
              "      <td>3000</td>\n",
              "      <td>C++</td>\n",
              "      <td>0.105398</td>\n",
              "      <td>14.35458</td>\n",
              "    </tr>\n",
              "    <tr>\n",
              "      <th>4</th>\n",
              "      <td>4000</td>\n",
              "      <td>Python</td>\n",
              "      <td>4.476856</td>\n",
              "      <td>0.783044</td>\n",
              "      <td>4000</td>\n",
              "      <td>C++</td>\n",
              "      <td>0.186709</td>\n",
              "      <td>14.35458</td>\n",
              "    </tr>\n",
              "    <tr>\n",
              "      <th>5</th>\n",
              "      <td>5000</td>\n",
              "      <td>Python</td>\n",
              "      <td>6.911474</td>\n",
              "      <td>0.655948</td>\n",
              "      <td>5000</td>\n",
              "      <td>C++</td>\n",
              "      <td>0.329311</td>\n",
              "      <td>14.35458</td>\n",
              "    </tr>\n",
              "    <tr>\n",
              "      <th>6</th>\n",
              "      <td>6000</td>\n",
              "      <td>Python</td>\n",
              "      <td>9.614950</td>\n",
              "      <td>0.833460</td>\n",
              "      <td>6000</td>\n",
              "      <td>C++</td>\n",
              "      <td>0.458178</td>\n",
              "      <td>14.35458</td>\n",
              "    </tr>\n",
              "    <tr>\n",
              "      <th>7</th>\n",
              "      <td>7000</td>\n",
              "      <td>Python</td>\n",
              "      <td>13.490404</td>\n",
              "      <td>0.060669</td>\n",
              "      <td>7000</td>\n",
              "      <td>C++</td>\n",
              "      <td>0.595724</td>\n",
              "      <td>14.35458</td>\n",
              "    </tr>\n",
              "    <tr>\n",
              "      <th>8</th>\n",
              "      <td>8000</td>\n",
              "      <td>Python</td>\n",
              "      <td>17.304679</td>\n",
              "      <td>0.700354</td>\n",
              "      <td>8000</td>\n",
              "      <td>C++</td>\n",
              "      <td>1.011086</td>\n",
              "      <td>14.35458</td>\n",
              "    </tr>\n",
              "    <tr>\n",
              "      <th>9</th>\n",
              "      <td>9000</td>\n",
              "      <td>Python</td>\n",
              "      <td>22.289336</td>\n",
              "      <td>0.822657</td>\n",
              "      <td>9000</td>\n",
              "      <td>C++</td>\n",
              "      <td>0.972093</td>\n",
              "      <td>14.35458</td>\n",
              "    </tr>\n",
              "    <tr>\n",
              "      <th>10</th>\n",
              "      <td>10000</td>\n",
              "      <td>Python</td>\n",
              "      <td>27.806036</td>\n",
              "      <td>2.096104</td>\n",
              "      <td>10000</td>\n",
              "      <td>C++</td>\n",
              "      <td>1.682071</td>\n",
              "      <td>14.35458</td>\n",
              "    </tr>\n",
              "    <tr>\n",
              "      <th>11</th>\n",
              "      <td>20000</td>\n",
              "      <td>Python</td>\n",
              "      <td>108.556182</td>\n",
              "      <td>1.484653</td>\n",
              "      <td>20000</td>\n",
              "      <td>C++</td>\n",
              "      <td>7.566091</td>\n",
              "      <td>14.35458</td>\n",
              "    </tr>\n",
              "    <tr>\n",
              "      <th>12</th>\n",
              "      <td>30000</td>\n",
              "      <td>Python</td>\n",
              "      <td>246.359860</td>\n",
              "      <td>1.143062</td>\n",
              "      <td>30000</td>\n",
              "      <td>C++</td>\n",
              "      <td>11.384076</td>\n",
              "      <td>14.35458</td>\n",
              "    </tr>\n",
              "    <tr>\n",
              "      <th>13</th>\n",
              "      <td>40000</td>\n",
              "      <td>Python</td>\n",
              "      <td>438.962317</td>\n",
              "      <td>0.425166</td>\n",
              "      <td>40000</td>\n",
              "      <td>C++</td>\n",
              "      <td>29.244388</td>\n",
              "      <td>14.35458</td>\n",
              "    </tr>\n",
              "    <tr>\n",
              "      <th>14</th>\n",
              "      <td>50000</td>\n",
              "      <td>Python</td>\n",
              "      <td>682.071499</td>\n",
              "      <td>2.748847</td>\n",
              "      <td>50000</td>\n",
              "      <td>C++</td>\n",
              "      <td>50.606503</td>\n",
              "      <td>14.35458</td>\n",
              "    </tr>\n",
              "  </tbody>\n",
              "</table>\n",
              "</div>\n",
              "      <button class=\"colab-df-convert\" onclick=\"convertToInteractive('df-093a3355-7db2-4616-9353-753842606436')\"\n",
              "              title=\"Convert this dataframe to an interactive table.\"\n",
              "              style=\"display:none;\">\n",
              "\n",
              "  <svg xmlns=\"http://www.w3.org/2000/svg\" height=\"24px\"viewBox=\"0 0 24 24\"\n",
              "       width=\"24px\">\n",
              "    <path d=\"M0 0h24v24H0V0z\" fill=\"none\"/>\n",
              "    <path d=\"M18.56 5.44l.94 2.06.94-2.06 2.06-.94-2.06-.94-.94-2.06-.94 2.06-2.06.94zm-11 1L8.5 8.5l.94-2.06 2.06-.94-2.06-.94L8.5 2.5l-.94 2.06-2.06.94zm10 10l.94 2.06.94-2.06 2.06-.94-2.06-.94-.94-2.06-.94 2.06-2.06.94z\"/><path d=\"M17.41 7.96l-1.37-1.37c-.4-.4-.92-.59-1.43-.59-.52 0-1.04.2-1.43.59L10.3 9.45l-7.72 7.72c-.78.78-.78 2.05 0 2.83L4 21.41c.39.39.9.59 1.41.59.51 0 1.02-.2 1.41-.59l7.78-7.78 2.81-2.81c.8-.78.8-2.07 0-2.86zM5.41 20L4 18.59l7.72-7.72 1.47 1.35L5.41 20z\"/>\n",
              "  </svg>\n",
              "      </button>\n",
              "\n",
              "\n",
              "\n",
              "    <div id=\"df-e70779fb-6923-47dc-85b2-c9f138131ce1\">\n",
              "      <button class=\"colab-df-quickchart\" onclick=\"quickchart('df-e70779fb-6923-47dc-85b2-c9f138131ce1')\"\n",
              "              title=\"Suggest charts.\"\n",
              "              style=\"display:none;\">\n",
              "\n",
              "<svg xmlns=\"http://www.w3.org/2000/svg\" height=\"24px\"viewBox=\"0 0 24 24\"\n",
              "     width=\"24px\">\n",
              "    <g>\n",
              "        <path d=\"M19 3H5c-1.1 0-2 .9-2 2v14c0 1.1.9 2 2 2h14c1.1 0 2-.9 2-2V5c0-1.1-.9-2-2-2zM9 17H7v-7h2v7zm4 0h-2V7h2v10zm4 0h-2v-4h2v4z\"/>\n",
              "    </g>\n",
              "</svg>\n",
              "      </button>\n",
              "    </div>\n",
              "\n",
              "<style>\n",
              "  .colab-df-quickchart {\n",
              "    background-color: #E8F0FE;\n",
              "    border: none;\n",
              "    border-radius: 50%;\n",
              "    cursor: pointer;\n",
              "    display: none;\n",
              "    fill: #1967D2;\n",
              "    height: 32px;\n",
              "    padding: 0 0 0 0;\n",
              "    width: 32px;\n",
              "  }\n",
              "\n",
              "  .colab-df-quickchart:hover {\n",
              "    background-color: #E2EBFA;\n",
              "    box-shadow: 0px 1px 2px rgba(60, 64, 67, 0.3), 0px 1px 3px 1px rgba(60, 64, 67, 0.15);\n",
              "    fill: #174EA6;\n",
              "  }\n",
              "\n",
              "  [theme=dark] .colab-df-quickchart {\n",
              "    background-color: #3B4455;\n",
              "    fill: #D2E3FC;\n",
              "  }\n",
              "\n",
              "  [theme=dark] .colab-df-quickchart:hover {\n",
              "    background-color: #434B5C;\n",
              "    box-shadow: 0px 1px 3px 1px rgba(0, 0, 0, 0.15);\n",
              "    filter: drop-shadow(0px 1px 2px rgba(0, 0, 0, 0.3));\n",
              "    fill: #FFFFFF;\n",
              "  }\n",
              "</style>\n",
              "\n",
              "    <script>\n",
              "      async function quickchart(key) {\n",
              "        const containerElement = document.querySelector('#' + key);\n",
              "        const charts = await google.colab.kernel.invokeFunction(\n",
              "            'suggestCharts', [key], {});\n",
              "      }\n",
              "    </script>\n",
              "\n",
              "      <script>\n",
              "\n",
              "function displayQuickchartButton(domScope) {\n",
              "  let quickchartButtonEl =\n",
              "    domScope.querySelector('#df-e70779fb-6923-47dc-85b2-c9f138131ce1 button.colab-df-quickchart');\n",
              "  quickchartButtonEl.style.display =\n",
              "    google.colab.kernel.accessAllowed ? 'block' : 'none';\n",
              "}\n",
              "\n",
              "        displayQuickchartButton(document);\n",
              "      </script>\n",
              "      <style>\n",
              "    .colab-df-container {\n",
              "      display:flex;\n",
              "      flex-wrap:wrap;\n",
              "      gap: 12px;\n",
              "    }\n",
              "\n",
              "    .colab-df-convert {\n",
              "      background-color: #E8F0FE;\n",
              "      border: none;\n",
              "      border-radius: 50%;\n",
              "      cursor: pointer;\n",
              "      display: none;\n",
              "      fill: #1967D2;\n",
              "      height: 32px;\n",
              "      padding: 0 0 0 0;\n",
              "      width: 32px;\n",
              "    }\n",
              "\n",
              "    .colab-df-convert:hover {\n",
              "      background-color: #E2EBFA;\n",
              "      box-shadow: 0px 1px 2px rgba(60, 64, 67, 0.3), 0px 1px 3px 1px rgba(60, 64, 67, 0.15);\n",
              "      fill: #174EA6;\n",
              "    }\n",
              "\n",
              "    [theme=dark] .colab-df-convert {\n",
              "      background-color: #3B4455;\n",
              "      fill: #D2E3FC;\n",
              "    }\n",
              "\n",
              "    [theme=dark] .colab-df-convert:hover {\n",
              "      background-color: #434B5C;\n",
              "      box-shadow: 0px 1px 3px 1px rgba(0, 0, 0, 0.15);\n",
              "      filter: drop-shadow(0px 1px 2px rgba(0, 0, 0, 0.3));\n",
              "      fill: #FFFFFF;\n",
              "    }\n",
              "  </style>\n",
              "\n",
              "      <script>\n",
              "        const buttonEl =\n",
              "          document.querySelector('#df-093a3355-7db2-4616-9353-753842606436 button.colab-df-convert');\n",
              "        buttonEl.style.display =\n",
              "          google.colab.kernel.accessAllowed ? 'block' : 'none';\n",
              "\n",
              "        async function convertToInteractive(key) {\n",
              "          const element = document.querySelector('#df-093a3355-7db2-4616-9353-753842606436');\n",
              "          const dataTable =\n",
              "            await google.colab.kernel.invokeFunction('convertToInteractive',\n",
              "                                                     [key], {});\n",
              "          if (!dataTable) return;\n",
              "\n",
              "          const docLinkHtml = 'Like what you see? Visit the ' +\n",
              "            '<a target=\"_blank\" href=https://colab.research.google.com/notebooks/data_table.ipynb>data table notebook</a>'\n",
              "            + ' to learn more about interactive tables.';\n",
              "          element.innerHTML = '';\n",
              "          dataTable['output_type'] = 'display_data';\n",
              "          await google.colab.output.renderOutput(dataTable, element);\n",
              "          const docLink = document.createElement('div');\n",
              "          docLink.innerHTML = docLinkHtml;\n",
              "          element.appendChild(docLink);\n",
              "        }\n",
              "      </script>\n",
              "    </div>\n",
              "  </div>\n"
            ]
          },
          "metadata": {},
          "execution_count": 57
        }
      ]
    },
    {
      "cell_type": "code",
      "source": [
        "plt.figure(figsize=(15,4))\n",
        "plt.plot(result['data cantidad_left'],result['mean_left'],label=\"python\")\n",
        "plt.plot(result['data cantidad_left'],result['mean_right'],label=\"c++\")\n",
        "plt.xlabel('cantidad data')\n",
        "plt.ylabel('tiempo')\n",
        "plt.title('grafica tiempo vs data')\n",
        "plt.legend()\n",
        "plt.tight_layout()\n",
        "plt.show()"
      ],
      "metadata": {
        "colab": {
          "base_uri": "https://localhost:8080/",
          "height": 407
        },
        "id": "3hoK0qtppYSE",
        "outputId": "293af353-329e-4fd5-bde0-d84bf776dad7"
      },
      "execution_count": null,
      "outputs": [
        {
          "output_type": "display_data",
          "data": {
            "text/plain": [
              "<Figure size 1500x400 with 1 Axes>"
            ],
            "image/png": "[encoded data removed]"
          },
          "metadata": {}
        }
      ]
    }
  ]
}