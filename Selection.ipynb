{
  "cells": [
    {
      "cell_type": "markdown",
      "metadata": {
        "id": "view-in-github",
        "colab_type": "text"
      },
      "source": [
        "<a href=\"https://colab.research.google.com/github/jhoel-choque/practica_1/blob/master/Selection.ipynb\" target=\"_parent\"><img src=\"https://colab.research.google.com/assets/colab-badge.svg\" alt=\"Open In Colab\"/></a>"
      ]
    },
    {
      "cell_type": "code",
      "source": [
        "!git clone https://github.com/jhoel-choque/practica_1.git"
      ],
      "metadata": {
        "colab": {
          "base_uri": "https://localhost:8080/"
        },
        "id": "MsR9TNGsPjzV",
        "outputId": "e5110490-4567-4212-c652-b13d0b6f59ce"
      },
      "execution_count": null,
      "outputs": [
        {
          "output_type": "stream",
          "name": "stdout",
          "text": [
            "Cloning into 'practica_1'...\n",
            "remote: Enumerating objects: 268, done.\u001b[K\n",
            "remote: Counting objects: 100% (153/153), done.\u001b[K\n",
            "remote: Compressing objects: 100% (104/104), done.\u001b[K\n",
            "remote: Total 268 (delta 45), reused 121 (delta 24), pack-reused 115\u001b[K\n",
            "Receiving objects: 100% (268/268), 81.33 MiB | 12.91 MiB/s, done.\n",
            "Resolving deltas: 100% (74/74), done.\n",
            "Updating files: 100% (128/128), done.\n"
          ]
        }
      ]
    },
    {
      "cell_type": "code",
      "execution_count": null,
      "metadata": {
        "id": "BME4RgAg0WFs",
        "colab": {
          "base_uri": "https://localhost:8080/",
          "height": 373
        },
        "outputId": "9460d96c-4c16-4b38-e011-c19d106866af"
      },
      "outputs": [
        {
          "output_type": "error",
          "ename": "MessageError",
          "evalue": "ignored",
          "traceback": [
            "\u001b[0;31m---------------------------------------------------------------------------\u001b[0m",
            "\u001b[0;31mMessageError\u001b[0m                              Traceback (most recent call last)",
            "\u001b[0;32m<ipython-input-2-4c73b1d73cd9>\u001b[0m in \u001b[0;36m<cell line: 11>\u001b[0;34m()\u001b[0m\n\u001b[1;32m      9\u001b[0m \u001b[0;32mimport\u001b[0m \u001b[0mmatplotlib\u001b[0m\u001b[0;34m.\u001b[0m\u001b[0mpyplot\u001b[0m \u001b[0;32mas\u001b[0m \u001b[0mplt\u001b[0m\u001b[0;34m\u001b[0m\u001b[0;34m\u001b[0m\u001b[0m\n\u001b[1;32m     10\u001b[0m \u001b[0;32mfrom\u001b[0m \u001b[0mgoogle\u001b[0m\u001b[0;34m.\u001b[0m\u001b[0mcolab\u001b[0m \u001b[0;32mimport\u001b[0m \u001b[0mdrive\u001b[0m\u001b[0;34m\u001b[0m\u001b[0;34m\u001b[0m\u001b[0m\n\u001b[0;32m---> 11\u001b[0;31m \u001b[0mdrive\u001b[0m\u001b[0;34m.\u001b[0m\u001b[0mmount\u001b[0m\u001b[0;34m(\u001b[0m\u001b[0;34m'/content/drive'\u001b[0m\u001b[0;34m)\u001b[0m\u001b[0;34m\u001b[0m\u001b[0;34m\u001b[0m\u001b[0m\n\u001b[0m\u001b[1;32m     12\u001b[0m \u001b[0mpath\u001b[0m\u001b[0;34m=\u001b[0m\u001b[0;34m'/content/drive/MyDrive/Colab'\u001b[0m\u001b[0;34m\u001b[0m\u001b[0;34m\u001b[0m\u001b[0m\n",
            "\u001b[0;32m/usr/local/lib/python3.10/dist-packages/google/colab/drive.py\u001b[0m in \u001b[0;36mmount\u001b[0;34m(mountpoint, force_remount, timeout_ms, readonly)\u001b[0m\n\u001b[1;32m    101\u001b[0m \u001b[0;32mdef\u001b[0m \u001b[0mmount\u001b[0m\u001b[0;34m(\u001b[0m\u001b[0mmountpoint\u001b[0m\u001b[0;34m,\u001b[0m \u001b[0mforce_remount\u001b[0m\u001b[0;34m=\u001b[0m\u001b[0;32mFalse\u001b[0m\u001b[0;34m,\u001b[0m \u001b[0mtimeout_ms\u001b[0m\u001b[0;34m=\u001b[0m\u001b[0;36m120000\u001b[0m\u001b[0;34m,\u001b[0m \u001b[0mreadonly\u001b[0m\u001b[0;34m=\u001b[0m\u001b[0;32mFalse\u001b[0m\u001b[0;34m)\u001b[0m\u001b[0;34m:\u001b[0m\u001b[0;34m\u001b[0m\u001b[0;34m\u001b[0m\u001b[0m\n\u001b[1;32m    102\u001b[0m   \u001b[0;34m\"\"\"Mount your Google Drive at the specified mountpoint path.\"\"\"\u001b[0m\u001b[0;34m\u001b[0m\u001b[0;34m\u001b[0m\u001b[0m\n\u001b[0;32m--> 103\u001b[0;31m   return _mount(\n\u001b[0m\u001b[1;32m    104\u001b[0m       \u001b[0mmountpoint\u001b[0m\u001b[0;34m,\u001b[0m\u001b[0;34m\u001b[0m\u001b[0;34m\u001b[0m\u001b[0m\n\u001b[1;32m    105\u001b[0m       \u001b[0mforce_remount\u001b[0m\u001b[0;34m=\u001b[0m\u001b[0mforce_remount\u001b[0m\u001b[0;34m,\u001b[0m\u001b[0;34m\u001b[0m\u001b[0;34m\u001b[0m\u001b[0m\n",
            "\u001b[0;32m/usr/local/lib/python3.10/dist-packages/google/colab/drive.py\u001b[0m in \u001b[0;36m_mount\u001b[0;34m(mountpoint, force_remount, timeout_ms, ephemeral, readonly)\u001b[0m\n\u001b[1;32m    130\u001b[0m   )\n\u001b[1;32m    131\u001b[0m   \u001b[0;32mif\u001b[0m \u001b[0mephemeral\u001b[0m\u001b[0;34m:\u001b[0m\u001b[0;34m\u001b[0m\u001b[0;34m\u001b[0m\u001b[0m\n\u001b[0;32m--> 132\u001b[0;31m     _message.blocking_request(\n\u001b[0m\u001b[1;32m    133\u001b[0m         \u001b[0;34m'request_auth'\u001b[0m\u001b[0;34m,\u001b[0m \u001b[0mrequest\u001b[0m\u001b[0;34m=\u001b[0m\u001b[0;34m{\u001b[0m\u001b[0;34m'authType'\u001b[0m\u001b[0;34m:\u001b[0m \u001b[0;34m'dfs_ephemeral'\u001b[0m\u001b[0;34m}\u001b[0m\u001b[0;34m,\u001b[0m \u001b[0mtimeout_sec\u001b[0m\u001b[0;34m=\u001b[0m\u001b[0;32mNone\u001b[0m\u001b[0;34m\u001b[0m\u001b[0;34m\u001b[0m\u001b[0m\n\u001b[1;32m    134\u001b[0m     )\n",
            "\u001b[0;32m/usr/local/lib/python3.10/dist-packages/google/colab/_message.py\u001b[0m in \u001b[0;36mblocking_request\u001b[0;34m(request_type, request, timeout_sec, parent)\u001b[0m\n\u001b[1;32m    174\u001b[0m       \u001b[0mrequest_type\u001b[0m\u001b[0;34m,\u001b[0m \u001b[0mrequest\u001b[0m\u001b[0;34m,\u001b[0m \u001b[0mparent\u001b[0m\u001b[0;34m=\u001b[0m\u001b[0mparent\u001b[0m\u001b[0;34m,\u001b[0m \u001b[0mexpect_reply\u001b[0m\u001b[0;34m=\u001b[0m\u001b[0;32mTrue\u001b[0m\u001b[0;34m\u001b[0m\u001b[0;34m\u001b[0m\u001b[0m\n\u001b[1;32m    175\u001b[0m   )\n\u001b[0;32m--> 176\u001b[0;31m   \u001b[0;32mreturn\u001b[0m \u001b[0mread_reply_from_input\u001b[0m\u001b[0;34m(\u001b[0m\u001b[0mrequest_id\u001b[0m\u001b[0;34m,\u001b[0m \u001b[0mtimeout_sec\u001b[0m\u001b[0;34m)\u001b[0m\u001b[0;34m\u001b[0m\u001b[0;34m\u001b[0m\u001b[0m\n\u001b[0m",
            "\u001b[0;32m/usr/local/lib/python3.10/dist-packages/google/colab/_message.py\u001b[0m in \u001b[0;36mread_reply_from_input\u001b[0;34m(message_id, timeout_sec)\u001b[0m\n\u001b[1;32m    101\u001b[0m     ):\n\u001b[1;32m    102\u001b[0m       \u001b[0;32mif\u001b[0m \u001b[0;34m'error'\u001b[0m \u001b[0;32min\u001b[0m \u001b[0mreply\u001b[0m\u001b[0;34m:\u001b[0m\u001b[0;34m\u001b[0m\u001b[0;34m\u001b[0m\u001b[0m\n\u001b[0;32m--> 103\u001b[0;31m         \u001b[0;32mraise\u001b[0m \u001b[0mMessageError\u001b[0m\u001b[0;34m(\u001b[0m\u001b[0mreply\u001b[0m\u001b[0;34m[\u001b[0m\u001b[0;34m'error'\u001b[0m\u001b[0;34m]\u001b[0m\u001b[0;34m)\u001b[0m\u001b[0;34m\u001b[0m\u001b[0;34m\u001b[0m\u001b[0m\n\u001b[0m\u001b[1;32m    104\u001b[0m       \u001b[0;32mreturn\u001b[0m \u001b[0mreply\u001b[0m\u001b[0;34m.\u001b[0m\u001b[0mget\u001b[0m\u001b[0;34m(\u001b[0m\u001b[0;34m'data'\u001b[0m\u001b[0;34m,\u001b[0m \u001b[0;32mNone\u001b[0m\u001b[0;34m)\u001b[0m\u001b[0;34m\u001b[0m\u001b[0;34m\u001b[0m\u001b[0m\n\u001b[1;32m    105\u001b[0m \u001b[0;34m\u001b[0m\u001b[0m\n",
            "\u001b[0;31mMessageError\u001b[0m: Error: credential propagation was unsuccessful"
          ]
        }
      ],
      "source": [
        "# Python program for implementation of Selection\n",
        "# Sort\n",
        "import sys\n",
        "import random\n",
        "import time\n",
        "import statistics\n",
        "import numpy as np\n",
        "import pandas as pd\n",
        "import matplotlib.pyplot as plt\n",
        "from google.colab import drive\n",
        "drive.mount('/content/drive')\n",
        "path='/content/drive/MyDrive/Colab'"
      ]
    },
    {
      "cell_type": "code",
      "execution_count": null,
      "metadata": {
        "id": "_6tao8Nk7iCa"
      },
      "outputs": [],
      "source": [
        "def selectionSort(random_numbers):\n",
        "\n",
        "  startTime = time.time()\n",
        "  for i in range(len(random_numbers)):\n",
        "\n",
        "      # Find the minimum element in remaining\n",
        "      # unsorted array\n",
        "      min_idx = i\n",
        "      for j in range(i+1, len(random_numbers)):\n",
        "          if random_numbers[min_idx] > random_numbers[j]:\n",
        "              min_idx = j\n",
        "\n",
        "      # Swap the found minimum element with\n",
        "      # the first element\n",
        "      random_numbers[i], random_numbers[min_idx] = random_numbers[min_idx], random_numbers[i]\n",
        "\n",
        "  endTime = time.time()\n",
        "  getTime = endTime - startTime\n",
        "\n",
        "  # Driver code to test above\n",
        "  \"\"\"print(\"Sorted array\")\n",
        "  for i in range(len(random_numbers)):\n",
        "      print(\"%d\" %random_numbers[i],end=\" , \")\n",
        "\n",
        "  print(\"Excecued time\")\n",
        "  print(getTime)\"\"\"\n",
        "\n",
        "  return getTime"
      ]
    },
    {
      "cell_type": "code",
      "execution_count": null,
      "metadata": {
        "colab": {
          "base_uri": "https://localhost:8080/"
        },
        "id": "paqLz5yQSE5z",
        "outputId": "73731eeb-53b7-4c45-bd0f-9bdc8ba0ea27"
      },
      "outputs": [
        {
          "output_type": "stream",
          "name": "stdout",
          "text": [
            "[0.0003788471221923828, 0.00035190582275390625, 0.00033783912658691406, 0.00034427642822265625, 0.00025153160095214844]\n"
          ]
        }
      ],
      "source": [
        "lista100 = []\n",
        "for i in range(5):\n",
        "  random_numbers100_1 = random.sample(range(100), 100)\n",
        "  tiempox = selectionSort(random_numbers100_1)\n",
        "  lista100.append(tiempox)\n",
        "print(lista100)"
      ]
    },
    {
      "cell_type": "code",
      "execution_count": null,
      "metadata": {
        "colab": {
          "base_uri": "https://localhost:8080/"
        },
        "id": "-vTrbzZ3bsE-",
        "outputId": "bb401a2a-6ff4-4acd-f5e4-e5879d2138ad"
      },
      "outputs": [
        {
          "output_type": "stream",
          "name": "stdout",
          "text": [
            "0.0003328800201416016\n"
          ]
        },
        {
          "output_type": "execute_result",
          "data": {
            "text/plain": [
              "float"
            ]
          },
          "metadata": {},
          "execution_count": 7
        }
      ],
      "source": [
        "# Tiempo promedio 100\n",
        "mean100 = statistics.mean(lista100)\n",
        "print(mean100)\n",
        "type(mean100)"
      ]
    },
    {
      "cell_type": "code",
      "execution_count": null,
      "metadata": {
        "colab": {
          "base_uri": "https://localhost:8080/"
        },
        "id": "KMot0Ouuch6u",
        "outputId": "3ada9ac5-475a-4b61-890d-88c48997fec3"
      },
      "outputs": [
        {
          "output_type": "stream",
          "name": "stdout",
          "text": [
            "4.300463183076486e-05\n"
          ]
        },
        {
          "output_type": "execute_result",
          "data": {
            "text/plain": [
              "numpy.float64"
            ]
          },
          "metadata": {},
          "execution_count": 8
        }
      ],
      "source": [
        "# Desviación estándar utilizando NumPy\n",
        "desviacion_estandar100 = np.std(lista100)\n",
        "print(desviacion_estandar100)\n",
        "type(desviacion_estandar100)"
      ]
    },
    {
      "cell_type": "code",
      "execution_count": null,
      "metadata": {
        "colab": {
          "base_uri": "https://localhost:8080/"
        },
        "id": "asspRd0K86qt",
        "outputId": "7778af7e-b1c1-4e18-b51c-c8d4b65bde83"
      },
      "outputs": [
        {
          "output_type": "stream",
          "name": "stdout",
          "text": [
            "[0.04816269874572754, 0.041178226470947266, 0.04289960861206055, 0.04304766654968262, 0.04253196716308594]\n"
          ]
        }
      ],
      "source": [
        "  lista1000 = []\n",
        "  for i in range(5):\n",
        "    random_numbers1000 = random.sample(range(1000), 1000)\n",
        "    tiempox = selectionSort(random_numbers1000)\n",
        "    lista1000.append(tiempox)\n",
        "  print(lista1000)"
      ]
    },
    {
      "cell_type": "code",
      "execution_count": null,
      "metadata": {
        "colab": {
          "base_uri": "https://localhost:8080/"
        },
        "id": "xrrYYRXx9mN2",
        "outputId": "6fcfbfc7-6ec7-498d-8db3-7c69238aa3e3"
      },
      "outputs": [
        {
          "output_type": "stream",
          "name": "stdout",
          "text": [
            "0.04356403350830078\n"
          ]
        },
        {
          "output_type": "execute_result",
          "data": {
            "text/plain": [
              "float"
            ]
          },
          "metadata": {},
          "execution_count": 10
        }
      ],
      "source": [
        "# Tiempo promedio 1000\n",
        "mean1000 = statistics.mean(lista1000)\n",
        "print(mean1000)\n",
        "type(mean1000)"
      ]
    },
    {
      "cell_type": "code",
      "execution_count": null,
      "metadata": {
        "colab": {
          "base_uri": "https://localhost:8080/"
        },
        "id": "5Oh-VlEP9mnt",
        "outputId": "ba950a9b-e0e8-48ef-e494-0508e7b42cd0"
      },
      "outputs": [
        {
          "output_type": "stream",
          "name": "stdout",
          "text": [
            "0.0023921978766408268\n"
          ]
        },
        {
          "output_type": "execute_result",
          "data": {
            "text/plain": [
              "numpy.float64"
            ]
          },
          "metadata": {},
          "execution_count": 11
        }
      ],
      "source": [
        "# Desviación estándar utilizando NumPy\n",
        "desviacion_estandar1000 = np.std(lista1000)\n",
        "print(desviacion_estandar1000)\n",
        "type(desviacion_estandar1000)"
      ]
    },
    {
      "cell_type": "code",
      "execution_count": null,
      "metadata": {
        "colab": {
          "base_uri": "https://localhost:8080/"
        },
        "id": "j6g4EHMN-77N",
        "outputId": "bac5411a-215f-4da2-8b31-55af208d273e"
      },
      "outputs": [
        {
          "output_type": "stream",
          "name": "stdout",
          "text": [
            "[0.09842371940612793, 0.08542227745056152, 0.0941312313079834, 0.08738589286804199, 0.08996152877807617]\n"
          ]
        }
      ],
      "source": [
        "lista2000 = []\n",
        "for i in range(5):\n",
        "  random_numbers2000 = random.sample(range(2000), 2000)\n",
        "  tiempox = selectionSort(random_numbers2000)\n",
        "  lista2000.append(tiempox)\n",
        "print(lista2000)"
      ]
    },
    {
      "cell_type": "code",
      "execution_count": null,
      "metadata": {
        "colab": {
          "base_uri": "https://localhost:8080/"
        },
        "id": "Dxx7jG0FHi7y",
        "outputId": "35eb68ca-5944-4a48-92de-133d6a27feb9"
      },
      "outputs": [
        {
          "output_type": "stream",
          "name": "stdout",
          "text": [
            "0.0910649299621582\n"
          ]
        },
        {
          "output_type": "execute_result",
          "data": {
            "text/plain": [
              "float"
            ]
          },
          "metadata": {},
          "execution_count": 13
        }
      ],
      "source": [
        "# Tiempo promedio 2000\n",
        "mean2000 = statistics.mean(lista2000)\n",
        "print(mean2000)\n",
        "type(mean2000)"
      ]
    },
    {
      "cell_type": "code",
      "execution_count": null,
      "metadata": {
        "colab": {
          "base_uri": "https://localhost:8080/"
        },
        "id": "816u7dnbIVeJ",
        "outputId": "bd70c89d-d340-45e5-b8ac-164b2dc31616"
      },
      "outputs": [
        {
          "output_type": "stream",
          "name": "stdout",
          "text": [
            "0.0046935343080377005\n"
          ]
        },
        {
          "output_type": "execute_result",
          "data": {
            "text/plain": [
              "numpy.float64"
            ]
          },
          "metadata": {},
          "execution_count": 14
        }
      ],
      "source": [
        "# Desviación estándar utilizando NumPy\n",
        "desviacion_estandar2000 = np.std(lista2000)\n",
        "print(desviacion_estandar2000)\n",
        "type(desviacion_estandar2000)"
      ]
    },
    {
      "cell_type": "code",
      "execution_count": null,
      "metadata": {
        "colab": {
          "base_uri": "https://localhost:8080/"
        },
        "id": "lnaIW8H0_ma9",
        "outputId": "f094ba44-46fc-4821-a9fd-2b1b368091da"
      },
      "outputs": [
        {
          "output_type": "stream",
          "name": "stdout",
          "text": [
            "[0.40256714820861816, 0.37894749641418457, 0.3713035583496094, 0.19500112533569336, 0.21255755424499512]\n"
          ]
        }
      ],
      "source": [
        "lista3000 = []\n",
        "for i in range(5):\n",
        "  random_numbers3000 = random.sample(range(3000), 3000)\n",
        "  tiempox = selectionSort(random_numbers3000)\n",
        "  lista3000.append(tiempox)\n",
        "print(lista3000)"
      ]
    },
    {
      "cell_type": "code",
      "execution_count": null,
      "metadata": {
        "colab": {
          "base_uri": "https://localhost:8080/"
        },
        "id": "j614vuT4HkHL",
        "outputId": "51063f0a-2379-40fa-8379-58665b6b095a"
      },
      "outputs": [
        {
          "output_type": "stream",
          "name": "stdout",
          "text": [
            "0.3120753765106201\n"
          ]
        },
        {
          "output_type": "execute_result",
          "data": {
            "text/plain": [
              "float"
            ]
          },
          "metadata": {},
          "execution_count": 16
        }
      ],
      "source": [
        "# Tiempo promedio 3000\n",
        "mean3000 = statistics.mean(lista3000)\n",
        "print(mean3000)\n",
        "type(mean3000)"
      ]
    },
    {
      "cell_type": "code",
      "execution_count": null,
      "metadata": {
        "colab": {
          "base_uri": "https://localhost:8080/"
        },
        "id": "aLQFXcPfIWVa",
        "outputId": "9ec6b955-606c-4b5c-c8d9-d3d1e7f23069"
      },
      "outputs": [
        {
          "output_type": "stream",
          "name": "stdout",
          "text": [
            "0.0891950625607203\n"
          ]
        },
        {
          "output_type": "execute_result",
          "data": {
            "text/plain": [
              "numpy.float64"
            ]
          },
          "metadata": {},
          "execution_count": 17
        }
      ],
      "source": [
        "# Desviación estándar utilizando NumPy\n",
        "desviacion_estandar3000 = np.std(lista3000)\n",
        "print(desviacion_estandar3000)\n",
        "type(desviacion_estandar3000)"
      ]
    },
    {
      "cell_type": "code",
      "execution_count": null,
      "metadata": {
        "colab": {
          "base_uri": "https://localhost:8080/"
        },
        "id": "xwhQrZOB_6Bt",
        "outputId": "c0a17634-3175-4174-d73c-4ae87a84bfcd"
      },
      "outputs": [
        {
          "output_type": "stream",
          "name": "stdout",
          "text": [
            "[0.5994932651519775, 0.5890724658966064, 0.36843419075012207, 0.3617208003997803, 0.3718862533569336]\n"
          ]
        }
      ],
      "source": [
        "lista4000 = []\n",
        "for i in range(5):\n",
        "  random_numbers4000 = random.sample(range(4000), 4000)\n",
        "  tiempox = selectionSort(random_numbers4000)\n",
        "  lista4000.append(tiempox)\n",
        "print(lista4000)"
      ]
    },
    {
      "cell_type": "code",
      "execution_count": null,
      "metadata": {
        "colab": {
          "base_uri": "https://localhost:8080/"
        },
        "id": "QvIS5nhmHk_R",
        "outputId": "5007325d-a633-46c4-cf31-23e56efed9d0"
      },
      "outputs": [
        {
          "output_type": "stream",
          "name": "stdout",
          "text": [
            "0.45812139511108396\n"
          ]
        },
        {
          "output_type": "execute_result",
          "data": {
            "text/plain": [
              "float"
            ]
          },
          "metadata": {},
          "execution_count": 19
        }
      ],
      "source": [
        "# Tiempo promedio 4000\n",
        "mean4000 = statistics.mean(lista4000)\n",
        "print(mean4000)\n",
        "type(mean4000)"
      ]
    },
    {
      "cell_type": "code",
      "execution_count": null,
      "metadata": {
        "colab": {
          "base_uri": "https://localhost:8080/"
        },
        "id": "A3LQJ83XIYD6",
        "outputId": "6546dd0d-a820-47bc-8ffc-948170fe2d6e"
      },
      "outputs": [
        {
          "output_type": "stream",
          "name": "stdout",
          "text": [
            "0.111272240508467\n"
          ]
        },
        {
          "output_type": "execute_result",
          "data": {
            "text/plain": [
              "numpy.float64"
            ]
          },
          "metadata": {},
          "execution_count": 20
        }
      ],
      "source": [
        "# Desviación estándar utilizando NumPy\n",
        "desviacion_estandar4000 = np.std(lista4000)\n",
        "print(desviacion_estandar4000)\n",
        "type(desviacion_estandar4000)"
      ]
    },
    {
      "cell_type": "code",
      "execution_count": null,
      "metadata": {
        "colab": {
          "base_uri": "https://localhost:8080/"
        },
        "id": "OCc2g2dzAG4s",
        "outputId": "ddbdd123-b0e8-4fbb-ba3e-ea025b458160"
      },
      "outputs": [
        {
          "output_type": "stream",
          "name": "stdout",
          "text": [
            "[0.5776450634002686, 0.5830328464508057, 0.5840287208557129, 0.7649960517883301, 1.069098711013794]\n"
          ]
        }
      ],
      "source": [
        "lista5000 = []\n",
        "for i in range(5):\n",
        "  random_numbers5000 = random.sample(range(5000), 5000)\n",
        "  tiempox = selectionSort(random_numbers5000)\n",
        "  lista5000.append(tiempox)\n",
        "print(lista5000)"
      ]
    },
    {
      "cell_type": "code",
      "execution_count": null,
      "metadata": {
        "colab": {
          "base_uri": "https://localhost:8080/"
        },
        "id": "n-plMnxaHlui",
        "outputId": "f879ed92-bc28-4a8e-9d5c-99a0c43090ab"
      },
      "outputs": [
        {
          "output_type": "stream",
          "name": "stdout",
          "text": [
            "0.7157602787017823\n"
          ]
        },
        {
          "output_type": "execute_result",
          "data": {
            "text/plain": [
              "float"
            ]
          },
          "metadata": {},
          "execution_count": 22
        }
      ],
      "source": [
        "# Tiempo promedio 5000\n",
        "mean5000 = statistics.mean(lista5000)\n",
        "print(mean5000)\n",
        "type(mean5000)"
      ]
    },
    {
      "cell_type": "code",
      "execution_count": null,
      "metadata": {
        "colab": {
          "base_uri": "https://localhost:8080/"
        },
        "id": "ilU7sVATIY8J",
        "outputId": "57df4fb4-8baf-41df-9025-6ff44efd5457"
      },
      "outputs": [
        {
          "output_type": "stream",
          "name": "stdout",
          "text": [
            "0.1904299327324428\n"
          ]
        },
        {
          "output_type": "execute_result",
          "data": {
            "text/plain": [
              "numpy.float64"
            ]
          },
          "metadata": {},
          "execution_count": 23
        }
      ],
      "source": [
        "# Desviación estándar utilizando NumPy\n",
        "desviacion_estandar5000 = np.std(lista5000)\n",
        "print(desviacion_estandar5000)\n",
        "type(desviacion_estandar5000)"
      ]
    },
    {
      "cell_type": "code",
      "execution_count": null,
      "metadata": {
        "colab": {
          "base_uri": "https://localhost:8080/"
        },
        "id": "8Nw4RH89AOe0",
        "outputId": "c089c64c-a74f-412b-c4c8-a2d0c48c0502"
      },
      "outputs": [
        {
          "output_type": "stream",
          "name": "stdout",
          "text": [
            "[1.5587329864501953, 0.8763196468353271, 0.8135890960693359, 0.8216912746429443, 0.8163409233093262]\n"
          ]
        }
      ],
      "source": [
        "lista6000 = []\n",
        "for i in range(5):\n",
        "  random_numbers6000 = random.sample(range(6000), 6000)\n",
        "  tiempox = selectionSort(random_numbers6000)\n",
        "  lista6000.append(tiempox)\n",
        "print(lista6000)"
      ]
    },
    {
      "cell_type": "code",
      "execution_count": null,
      "metadata": {
        "colab": {
          "base_uri": "https://localhost:8080/"
        },
        "id": "ryjEp0_9HmkC",
        "outputId": "e41eda30-3172-4255-c4e7-883048d2a5cd"
      },
      "outputs": [
        {
          "output_type": "stream",
          "name": "stdout",
          "text": [
            "0.9773347854614258\n"
          ]
        },
        {
          "output_type": "execute_result",
          "data": {
            "text/plain": [
              "float"
            ]
          },
          "metadata": {},
          "execution_count": 25
        }
      ],
      "source": [
        "# Tiempo promedio 6000\n",
        "mean6000 = statistics.mean(lista6000)\n",
        "print(mean6000)\n",
        "type(mean6000)"
      ]
    },
    {
      "cell_type": "code",
      "execution_count": null,
      "metadata": {
        "colab": {
          "base_uri": "https://localhost:8080/"
        },
        "id": "K1AcGkmiIZja",
        "outputId": "ab9c6893-8fc6-4005-e165-1c16449601f0"
      },
      "outputs": [
        {
          "output_type": "stream",
          "name": "stdout",
          "text": [
            "0.29161087196799446\n"
          ]
        },
        {
          "output_type": "execute_result",
          "data": {
            "text/plain": [
              "numpy.float64"
            ]
          },
          "metadata": {},
          "execution_count": 26
        }
      ],
      "source": [
        "# Desviación estándar utilizando NumPy\n",
        "desviacion_estandar6000 = np.std(lista6000)\n",
        "print(desviacion_estandar6000)\n",
        "type(desviacion_estandar6000)"
      ]
    },
    {
      "cell_type": "code",
      "execution_count": null,
      "metadata": {
        "colab": {
          "base_uri": "https://localhost:8080/"
        },
        "id": "GlSUhnI8AdFt",
        "outputId": "60de0fee-f9d3-4047-d356-9f8c30f10ff0"
      },
      "outputs": [
        {
          "output_type": "stream",
          "name": "stdout",
          "text": [
            "[1.1459033489227295, 1.129319190979004, 1.0966410636901855, 1.106144666671753, 1.0939371585845947]\n"
          ]
        }
      ],
      "source": [
        "lista7000 = []\n",
        "for i in range(5):\n",
        "  random_numbers7000 = random.sample(range(7000), 7000)\n",
        "  tiempox = selectionSort(random_numbers7000)\n",
        "  lista7000.append(tiempox)\n",
        "print(lista7000)"
      ]
    },
    {
      "cell_type": "code",
      "execution_count": null,
      "metadata": {
        "colab": {
          "base_uri": "https://localhost:8080/"
        },
        "id": "jPXJrwZCHnLJ",
        "outputId": "9b535ddf-ff99-4121-8613-439187228b8a"
      },
      "outputs": [
        {
          "output_type": "stream",
          "name": "stdout",
          "text": [
            "1.1143890857696532\n"
          ]
        },
        {
          "output_type": "execute_result",
          "data": {
            "text/plain": [
              "float"
            ]
          },
          "metadata": {},
          "execution_count": 28
        }
      ],
      "source": [
        "# Tiempo promedio 7000\n",
        "mean7000 = statistics.mean(lista7000)\n",
        "print(mean7000)\n",
        "type(mean7000)"
      ]
    },
    {
      "cell_type": "code",
      "execution_count": null,
      "metadata": {
        "colab": {
          "base_uri": "https://localhost:8080/"
        },
        "id": "nb0wAAygIabS",
        "outputId": "3814ece4-33ea-4bd7-b67e-167bafd42ac3"
      },
      "outputs": [
        {
          "output_type": "stream",
          "name": "stdout",
          "text": [
            "0.020086318145551965\n"
          ]
        },
        {
          "output_type": "execute_result",
          "data": {
            "text/plain": [
              "numpy.float64"
            ]
          },
          "metadata": {},
          "execution_count": 29
        }
      ],
      "source": [
        "# Desviación estándar utilizando NumPy\n",
        "desviacion_estandar7000 = np.std(lista7000)\n",
        "print(desviacion_estandar7000)\n",
        "type(desviacion_estandar7000)"
      ]
    },
    {
      "cell_type": "code",
      "execution_count": null,
      "metadata": {
        "colab": {
          "base_uri": "https://localhost:8080/"
        },
        "id": "eDELoGHHAmBE",
        "outputId": "9c65eac5-01fe-470e-e4a2-b5c6e7650740"
      },
      "outputs": [
        {
          "output_type": "stream",
          "name": "stdout",
          "text": [
            "[2.8959343433380127, 1.9259047508239746, 1.389094591140747, 1.4143421649932861, 1.4121861457824707]\n"
          ]
        }
      ],
      "source": [
        "lista8000 = []\n",
        "for i in range(5):\n",
        "  random_numbers8000 = random.sample(range(8000), 8000)\n",
        "  tiempox = selectionSort(random_numbers8000)\n",
        "  lista8000.append(tiempox)\n",
        "print(lista8000)"
      ]
    },
    {
      "cell_type": "code",
      "execution_count": null,
      "metadata": {
        "colab": {
          "base_uri": "https://localhost:8080/"
        },
        "id": "QnygKWkuHovZ",
        "outputId": "f3c4a5a1-b13b-458e-bd57-2871f3fe8f8c"
      },
      "outputs": [
        {
          "output_type": "stream",
          "name": "stdout",
          "text": [
            "1.8074923992156982\n"
          ]
        },
        {
          "output_type": "execute_result",
          "data": {
            "text/plain": [
              "float"
            ]
          },
          "metadata": {},
          "execution_count": 31
        }
      ],
      "source": [
        "# Tiempo promedio 8000\n",
        "mean8000 = statistics.mean(lista8000)\n",
        "print(mean8000)\n",
        "type(mean8000)"
      ]
    },
    {
      "cell_type": "code",
      "execution_count": null,
      "metadata": {
        "colab": {
          "base_uri": "https://localhost:8080/"
        },
        "id": "OoGQG4hgIbND",
        "outputId": "bec3ecaf-69b2-4ee6-df10-aaeb049cb318"
      },
      "outputs": [
        {
          "output_type": "stream",
          "name": "stdout",
          "text": [
            "0.5804512412274854\n"
          ]
        },
        {
          "output_type": "execute_result",
          "data": {
            "text/plain": [
              "numpy.float64"
            ]
          },
          "metadata": {},
          "execution_count": 32
        }
      ],
      "source": [
        "# Desviación estándar utilizando NumPy\n",
        "desviacion_estandar8000 = np.std(lista8000)\n",
        "print(desviacion_estandar8000)\n",
        "type(desviacion_estandar8000)"
      ]
    },
    {
      "cell_type": "code",
      "execution_count": null,
      "metadata": {
        "colab": {
          "base_uri": "https://localhost:8080/"
        },
        "id": "2cncT_REAtcE",
        "outputId": "045d5c1f-0751-4ce4-bce6-4732e209b531"
      },
      "outputs": [
        {
          "output_type": "stream",
          "name": "stdout",
          "text": [
            "[1.9235975742340088, 1.8008620738983154, 2.743856191635132, 2.324688196182251, 1.7607090473175049]\n"
          ]
        }
      ],
      "source": [
        "lista9000 = []\n",
        "for i in range(5):\n",
        "  random_numbers9000 = random.sample(range(9000), 9000)\n",
        "  tiempox = selectionSort(random_numbers9000)\n",
        "  lista9000.append(tiempox)\n",
        "print(lista9000)"
      ]
    },
    {
      "cell_type": "code",
      "execution_count": null,
      "metadata": {
        "colab": {
          "base_uri": "https://localhost:8080/"
        },
        "id": "Veqf3q2JHpXR",
        "outputId": "31d18c34-93bd-44b1-9117-0f96c7865042"
      },
      "outputs": [
        {
          "output_type": "stream",
          "name": "stdout",
          "text": [
            "2.110742616653442\n"
          ]
        },
        {
          "output_type": "execute_result",
          "data": {
            "text/plain": [
              "float"
            ]
          },
          "metadata": {},
          "execution_count": 34
        }
      ],
      "source": [
        "# Tiempo promedio 9000\n",
        "mean9000 = statistics.mean(lista9000)\n",
        "print(mean9000)\n",
        "type(mean9000)"
      ]
    },
    {
      "cell_type": "code",
      "execution_count": null,
      "metadata": {
        "colab": {
          "base_uri": "https://localhost:8080/"
        },
        "id": "5IjPX-Z9Ib5U",
        "outputId": "f506940c-4d55-4562-bda8-d7f354080fff"
      },
      "outputs": [
        {
          "output_type": "stream",
          "name": "stdout",
          "text": [
            "0.3742133688601874\n"
          ]
        },
        {
          "output_type": "execute_result",
          "data": {
            "text/plain": [
              "numpy.float64"
            ]
          },
          "metadata": {},
          "execution_count": 35
        }
      ],
      "source": [
        "# Desviación estándar utilizando NumPy\n",
        "desviacion_estandar9000 = np.std(lista9000)\n",
        "print(desviacion_estandar9000)\n",
        "type(desviacion_estandar9000)"
      ]
    },
    {
      "cell_type": "code",
      "execution_count": null,
      "metadata": {
        "colab": {
          "base_uri": "https://localhost:8080/"
        },
        "id": "B-XOlMywCDAx",
        "outputId": "55544b9b-41eb-4b39-c03b-29e4082dc5c6"
      },
      "outputs": [
        {
          "output_type": "stream",
          "name": "stdout",
          "text": [
            "[2.390720844268799, 2.252074956893921, 2.2369637489318848, 3.676149845123291, 2.2008345127105713]\n"
          ]
        }
      ],
      "source": [
        "lista10000 = []\n",
        "for i in range(5):\n",
        "  random_numbers10000 = random.sample(range(10000), 10000)\n",
        "  tiempox = selectionSort(random_numbers10000)\n",
        "  lista10000.append(tiempox)\n",
        "print(lista10000)"
      ]
    },
    {
      "cell_type": "code",
      "execution_count": null,
      "metadata": {
        "colab": {
          "base_uri": "https://localhost:8080/"
        },
        "id": "gLStkjk2Hp75",
        "outputId": "b94aca06-039e-49e0-f648-b2cafde5a8a8"
      },
      "outputs": [
        {
          "output_type": "stream",
          "name": "stdout",
          "text": [
            "2.5513487815856934\n"
          ]
        },
        {
          "output_type": "execute_result",
          "data": {
            "text/plain": [
              "float"
            ]
          },
          "metadata": {},
          "execution_count": 37
        }
      ],
      "source": [
        "  # Tiempo promedio 10000\n",
        "  mean10000 = statistics.mean(lista10000)\n",
        "  print(mean10000)\n",
        "  type(mean10000)"
      ]
    },
    {
      "cell_type": "code",
      "execution_count": null,
      "metadata": {
        "colab": {
          "base_uri": "https://localhost:8080/"
        },
        "id": "RvBRwNf-Ick5",
        "outputId": "bb8b7272-fd68-4662-b58b-554a357d0816"
      },
      "outputs": [
        {
          "output_type": "stream",
          "name": "stdout",
          "text": [
            "0.566081582524892\n"
          ]
        },
        {
          "output_type": "execute_result",
          "data": {
            "text/plain": [
              "numpy.float64"
            ]
          },
          "metadata": {},
          "execution_count": 38
        }
      ],
      "source": [
        "# Desviación estándar utilizando NumPy\n",
        "desviacion_estandar10000 = np.std(lista10000)\n",
        "print(desviacion_estandar10000)\n",
        "type(desviacion_estandar10000)"
      ]
    },
    {
      "cell_type": "code",
      "execution_count": null,
      "metadata": {
        "colab": {
          "base_uri": "https://localhost:8080/"
        },
        "id": "NxfxW077CPjp",
        "outputId": "727a745f-bf1f-4152-be7c-bc61568ca70f"
      },
      "outputs": [
        {
          "output_type": "stream",
          "name": "stdout",
          "text": [
            "[11.010505676269531, 10.84507131576538, 10.868329524993896, 9.370403528213501, 10.822856903076172]\n"
          ]
        }
      ],
      "source": [
        "lista20000 = []\n",
        "for i in range(5):\n",
        "  random_numbers20000 = random.sample(range(20000), 20000)\n",
        "  tiempox = selectionSort(random_numbers20000)\n",
        "  lista20000.append(tiempox)\n",
        "print(lista20000)"
      ]
    },
    {
      "cell_type": "code",
      "execution_count": null,
      "metadata": {
        "colab": {
          "base_uri": "https://localhost:8080/"
        },
        "id": "FSCM0sKkHqmR",
        "outputId": "4d30f999-6d7c-426e-8b80-d2ea66f4bf92"
      },
      "outputs": [
        {
          "output_type": "stream",
          "name": "stdout",
          "text": [
            "10.583433389663696\n"
          ]
        },
        {
          "output_type": "execute_result",
          "data": {
            "text/plain": [
              "float"
            ]
          },
          "metadata": {},
          "execution_count": 40
        }
      ],
      "source": [
        "# Tiempo promedio 20000\n",
        "mean20000 = statistics.mean(lista20000)\n",
        "print(mean20000)\n",
        "type(mean20000)"
      ]
    },
    {
      "cell_type": "code",
      "execution_count": null,
      "metadata": {
        "colab": {
          "base_uri": "https://localhost:8080/"
        },
        "id": "nPEkF3fGIdMJ",
        "outputId": "931c647d-6b56-4d9d-acd0-bb6aa8566558"
      },
      "outputs": [
        {
          "output_type": "stream",
          "name": "stdout",
          "text": [
            "0.6100452464911541\n"
          ]
        },
        {
          "output_type": "execute_result",
          "data": {
            "text/plain": [
              "numpy.float64"
            ]
          },
          "metadata": {},
          "execution_count": 41
        }
      ],
      "source": [
        "# Desviación estándar utilizando NumPy\n",
        "desviacion_estandar20000 = np.std(lista20000)\n",
        "print(desviacion_estandar20000)\n",
        "type(desviacion_estandar20000)"
      ]
    },
    {
      "cell_type": "code",
      "execution_count": null,
      "metadata": {
        "colab": {
          "base_uri": "https://localhost:8080/"
        },
        "id": "Uael76MICcuc",
        "outputId": "cad636b5-403d-405d-cc95-acb4d67f878c"
      },
      "outputs": [
        {
          "output_type": "stream",
          "name": "stdout",
          "text": [
            "[25.030682802200317, 26.05576992034912, 24.73008108139038, 24.604290008544922, 24.59251642227173]\n"
          ]
        }
      ],
      "source": [
        "lista30000 = []\n",
        "for i in range(5):\n",
        "  random_numbers30000 = random.sample(range(30000), 30000)\n",
        "  tiempox = selectionSort(random_numbers30000)\n",
        "  lista30000.append(tiempox)\n",
        "print(lista30000)"
      ]
    },
    {
      "cell_type": "code",
      "execution_count": null,
      "metadata": {
        "colab": {
          "base_uri": "https://localhost:8080/"
        },
        "id": "kYvu7YoEHr_D",
        "outputId": "15682169-5370-4c5a-b82e-5f273bfd388e"
      },
      "outputs": [
        {
          "output_type": "stream",
          "name": "stdout",
          "text": [
            "25.002668046951293\n"
          ]
        },
        {
          "output_type": "execute_result",
          "data": {
            "text/plain": [
              "float"
            ]
          },
          "metadata": {},
          "execution_count": 43
        }
      ],
      "source": [
        "# Tiempo promedio 30000\n",
        "mean30000 = statistics.mean(lista30000)\n",
        "print(mean30000)\n",
        "type(mean30000)"
      ]
    },
    {
      "cell_type": "code",
      "execution_count": null,
      "metadata": {
        "colab": {
          "base_uri": "https://localhost:8080/"
        },
        "id": "OHF6X7_3IeAK",
        "outputId": "812d3777-423c-4dd2-ba65-8f22f558b7b4"
      },
      "outputs": [
        {
          "output_type": "stream",
          "name": "stdout",
          "text": [
            "0.5497347456312324\n"
          ]
        },
        {
          "output_type": "execute_result",
          "data": {
            "text/plain": [
              "numpy.float64"
            ]
          },
          "metadata": {},
          "execution_count": 44
        }
      ],
      "source": [
        "# Desviación estándar utilizando NumPy\n",
        "desviacion_estandar30000 = np.std(lista30000)\n",
        "print(desviacion_estandar30000)\n",
        "type(desviacion_estandar30000)"
      ]
    },
    {
      "cell_type": "code",
      "execution_count": null,
      "metadata": {
        "colab": {
          "base_uri": "https://localhost:8080/"
        },
        "id": "fc--5sbsCd9J",
        "outputId": "57cfe942-b794-498a-9111-cf59bc532a30"
      },
      "outputs": [
        {
          "output_type": "stream",
          "name": "stdout",
          "text": [
            "[45.64685678482056, 47.24844574928284, 44.54380011558533, 45.250208616256714, 45.85990238189697]\n"
          ]
        }
      ],
      "source": [
        "lista40000 = []\n",
        "for i in range(5):\n",
        "  random_numbers40000 = random.sample(range(40000), 40000)\n",
        "  tiempox = selectionSort(random_numbers40000)\n",
        "  lista40000.append(tiempox)\n",
        "print(lista40000)"
      ]
    },
    {
      "cell_type": "code",
      "execution_count": null,
      "metadata": {
        "colab": {
          "base_uri": "https://localhost:8080/"
        },
        "id": "ZmWBwoiOHs6B",
        "outputId": "e8bc1d6c-fc12-4320-9ed9-86a76fa9c4c4"
      },
      "outputs": [
        {
          "output_type": "stream",
          "name": "stdout",
          "text": [
            "0.45812139511108396\n"
          ]
        },
        {
          "output_type": "execute_result",
          "data": {
            "text/plain": [
              "float"
            ]
          },
          "metadata": {},
          "execution_count": 46
        }
      ],
      "source": [
        "# Tiempo promedio 40000\n",
        "mean40000 = statistics.mean(lista40000)\n",
        "print(mean4000)\n",
        "type(mean4000)"
      ]
    },
    {
      "cell_type": "code",
      "execution_count": null,
      "metadata": {
        "colab": {
          "base_uri": "https://localhost:8080/"
        },
        "id": "F0P5qZGlIe16",
        "outputId": "5d2fe19b-8fad-4caa-ef51-066d0a8f2318"
      },
      "outputs": [
        {
          "output_type": "stream",
          "name": "stdout",
          "text": [
            "0.8904721530189961\n"
          ]
        },
        {
          "output_type": "execute_result",
          "data": {
            "text/plain": [
              "numpy.float64"
            ]
          },
          "metadata": {},
          "execution_count": 47
        }
      ],
      "source": [
        "# Desviación estándar utilizando NumPy\n",
        "desviacion_estandar40000 = np.std(lista40000)\n",
        "print(desviacion_estandar40000)\n",
        "type(desviacion_estandar40000)"
      ]
    },
    {
      "cell_type": "code",
      "execution_count": null,
      "metadata": {
        "id": "k9_tP3kkCdJz",
        "colab": {
          "base_uri": "https://localhost:8080/"
        },
        "outputId": "680b1c41-947f-477b-8c6f-33c114e989a4"
      },
      "outputs": [
        {
          "output_type": "stream",
          "name": "stdout",
          "text": [
            "[71.54155945777893, 71.81668591499329, 72.17893099784851, 72.92614674568176, 72.51286172866821]\n"
          ]
        }
      ],
      "source": [
        "lista50000 = []\n",
        "for i in range(5):\n",
        "  random_numbers50000 = random.sample(range(50000), 50000)\n",
        "  tiempox = selectionSort(random_numbers50000)\n",
        "  lista50000.append(tiempox)\n",
        "print(lista50000)"
      ]
    },
    {
      "cell_type": "code",
      "execution_count": null,
      "metadata": {
        "id": "2bETYVHBHtt5",
        "colab": {
          "base_uri": "https://localhost:8080/"
        },
        "outputId": "7202d9c2-4046-4652-f352-28951076a919"
      },
      "outputs": [
        {
          "output_type": "stream",
          "name": "stdout",
          "text": [
            "72.19523696899414\n"
          ]
        },
        {
          "output_type": "execute_result",
          "data": {
            "text/plain": [
              "float"
            ]
          },
          "metadata": {},
          "execution_count": 49
        }
      ],
      "source": [
        "# Tiempo promedio 100\n",
        "mean50000 = statistics.mean(lista50000)\n",
        "print(mean50000)\n",
        "type(mean50000)"
      ]
    },
    {
      "cell_type": "code",
      "execution_count": null,
      "metadata": {
        "id": "D6nV9Dy3Ifk6",
        "colab": {
          "base_uri": "https://localhost:8080/"
        },
        "outputId": "c767059b-e4f8-40fe-eb37-235f3121bb94"
      },
      "outputs": [
        {
          "output_type": "stream",
          "name": "stdout",
          "text": [
            "0.491116210985594\n"
          ]
        },
        {
          "output_type": "execute_result",
          "data": {
            "text/plain": [
              "numpy.float64"
            ]
          },
          "metadata": {},
          "execution_count": 50
        }
      ],
      "source": [
        "# Desviación estándar utilizando NumPy\n",
        "desviacion_estandar50000 = np.std(lista50000)\n",
        "print(desviacion_estandar50000)\n",
        "type(desviacion_estandar50000)"
      ]
    },
    {
      "cell_type": "code",
      "execution_count": null,
      "metadata": {
        "id": "jb2bdEcyHsJl",
        "colab": {
          "base_uri": "https://localhost:8080/",
          "height": 53
        },
        "outputId": "5093733c-a2d1-479d-e7b5-22346f3f3df7"
      },
      "outputs": [
        {
          "output_type": "execute_result",
          "data": {
            "text/plain": [
              "'random_numbers50000_1 = random.sample(range(50000), 50000)\\nselectionSort(random_numbers50000_1)\\n\\nrandom_numbers50000_2 = random.sample(range(50000), 50000)\\nselectionSort(random_numbers50000_2)\\n\\nrandom_numbers50000_3 = random.sample(range(50000), 50000)\\nselectionSort(random_numbers50000_3)\\n\\nrandom_numbers50000_4 = random.sample(range(50000), 50000)\\nselectionSort(random_numbers50000_4)\\n\\nrandom_numbers50000_5 = random.sample(range(50000), 50000)\\nselectionSort(random_numbers50000_5)'"
            ],
            "application/vnd.google.colaboratory.intrinsic+json": {
              "type": "string"
            }
          },
          "metadata": {},
          "execution_count": 51
        }
      ],
      "source": [
        "\"\"\"random_numbers50000_1 = random.sample(range(50000), 50000)\n",
        "selectionSort(random_numbers50000_1)\n",
        "\n",
        "random_numbers50000_2 = random.sample(range(50000), 50000)\n",
        "selectionSort(random_numbers50000_2)\n",
        "\n",
        "random_numbers50000_3 = random.sample(range(50000), 50000)\n",
        "selectionSort(random_numbers50000_3)\n",
        "\n",
        "random_numbers50000_4 = random.sample(range(50000), 50000)\n",
        "selectionSort(random_numbers50000_4)\n",
        "\n",
        "random_numbers50000_5 = random.sample(range(50000), 50000)\n",
        "selectionSort(random_numbers50000_5)\"\"\""
      ]
    },
    {
      "cell_type": "code",
      "source": [
        "dc=pd.read_excel(\"/content/practica_1/selectionsort.xlsx\")"
      ],
      "metadata": {
        "id": "E392ihOYQFHt"
      },
      "execution_count": null,
      "outputs": []
    },
    {
      "cell_type": "code",
      "source": [
        "dc"
      ],
      "metadata": {
        "colab": {
          "base_uri": "https://localhost:8080/",
          "height": 520
        },
        "id": "5Tj8cMuiQo0t",
        "outputId": "e104605c-4429-4e3f-979d-6abc552c6df9"
      },
      "execution_count": null,
      "outputs": [
        {
          "output_type": "execute_result",
          "data": {
            "text/plain": [
              "    Unnamed: 0  data cantidad program         1         2         3         4  \\\n",
              "0          NaN            100     C++       128        76        55        55   \n",
              "1          NaN           1000     C++      5519      5049      5106      5058   \n",
              "2          NaN           2000     C++     23465     22064     20275     20513   \n",
              "3          NaN           3000     C++     50683     49720     45888     45761   \n",
              "4          NaN           4000     C++     83041     81549     81443     82081   \n",
              "5          NaN           5000     C++    133142    131390    162270    164667   \n",
              "6          NaN           6000     C++    192703    242881    294111    191959   \n",
              "7          NaN           7000     C++    256574    252102    250886    250174   \n",
              "8          NaN           8000     C++    335418    346309    362751    327344   \n",
              "9          NaN           9000     C++    431277    419710    417311    417057   \n",
              "10         NaN          10000     C++    528946    514868    545398    706858   \n",
              "11         NaN          20000     C++   2813020   3677375   3458493   4718037   \n",
              "12         NaN          30000     C++   6131115  10670888   9198199   8184865   \n",
              "13         NaN          40000     C++  13438733  18364615  18623597  14054102   \n",
              "14         NaN          50000     C++  23058698  26094138  20506956  25606307   \n",
              "\n",
              "           5  mean  desv standar  \n",
              "0         59   NaN           NaN  \n",
              "1       5273   NaN           NaN  \n",
              "2      20405   NaN           NaN  \n",
              "3      45236   NaN           NaN  \n",
              "4      81847   NaN           NaN  \n",
              "5     128225   NaN           NaN  \n",
              "6     184848   NaN           NaN  \n",
              "7     250323   NaN           NaN  \n",
              "8     328749   NaN           NaN  \n",
              "9     420767   NaN           NaN  \n",
              "10    790663   NaN           NaN  \n",
              "11   5057346   NaN           NaN  \n",
              "12   8292211   NaN           NaN  \n",
              "13  14653031   NaN           NaN  \n",
              "14  25419911   NaN           NaN  "
            ],
            "text/html": [
              "\n",
              "\n",
              "  <div id=\"df-cafe76e1-fad7-416c-a719-c3b2697cd87b\">\n",
              "    <div class=\"colab-df-container\">\n",
              "      <div>\n",
              "<style scoped>\n",
              "    .dataframe tbody tr th:only-of-type {\n",
              "        vertical-align: middle;\n",
              "    }\n",
              "\n",
              "    .dataframe tbody tr th {\n",
              "        vertical-align: top;\n",
              "    }\n",
              "\n",
              "    .dataframe thead th {\n",
              "        text-align: right;\n",
              "    }\n",
              "</style>\n",
              "<table border=\"1\" class=\"dataframe\">\n",
              "  <thead>\n",
              "    <tr style=\"text-align: right;\">\n",
              "      <th></th>\n",
              "      <th>Unnamed: 0</th>\n",
              "      <th>data cantidad</th>\n",
              "      <th>program</th>\n",
              "      <th>1</th>\n",
              "      <th>2</th>\n",
              "      <th>3</th>\n",
              "      <th>4</th>\n",
              "      <th>5</th>\n",
              "      <th>mean</th>\n",
              "      <th>desv standar</th>\n",
              "    </tr>\n",
              "  </thead>\n",
              "  <tbody>\n",
              "    <tr>\n",
              "      <th>0</th>\n",
              "      <td>NaN</td>\n",
              "      <td>100</td>\n",
              "      <td>C++</td>\n",
              "      <td>128</td>\n",
              "      <td>76</td>\n",
              "      <td>55</td>\n",
              "      <td>55</td>\n",
              "      <td>59</td>\n",
              "      <td>NaN</td>\n",
              "      <td>NaN</td>\n",
              "    </tr>\n",
              "    <tr>\n",
              "      <th>1</th>\n",
              "      <td>NaN</td>\n",
              "      <td>1000</td>\n",
              "      <td>C++</td>\n",
              "      <td>5519</td>\n",
              "      <td>5049</td>\n",
              "      <td>5106</td>\n",
              "      <td>5058</td>\n",
              "      <td>5273</td>\n",
              "      <td>NaN</td>\n",
              "      <td>NaN</td>\n",
              "    </tr>\n",
              "    <tr>\n",
              "      <th>2</th>\n",
              "      <td>NaN</td>\n",
              "      <td>2000</td>\n",
              "      <td>C++</td>\n",
              "      <td>23465</td>\n",
              "      <td>22064</td>\n",
              "      <td>20275</td>\n",
              "      <td>20513</td>\n",
              "      <td>20405</td>\n",
              "      <td>NaN</td>\n",
              "      <td>NaN</td>\n",
              "    </tr>\n",
              "    <tr>\n",
              "      <th>3</th>\n",
              "      <td>NaN</td>\n",
              "      <td>3000</td>\n",
              "      <td>C++</td>\n",
              "      <td>50683</td>\n",
              "      <td>49720</td>\n",
              "      <td>45888</td>\n",
              "      <td>45761</td>\n",
              "      <td>45236</td>\n",
              "      <td>NaN</td>\n",
              "      <td>NaN</td>\n",
              "    </tr>\n",
              "    <tr>\n",
              "      <th>4</th>\n",
              "      <td>NaN</td>\n",
              "      <td>4000</td>\n",
              "      <td>C++</td>\n",
              "      <td>83041</td>\n",
              "      <td>81549</td>\n",
              "      <td>81443</td>\n",
              "      <td>82081</td>\n",
              "      <td>81847</td>\n",
              "      <td>NaN</td>\n",
              "      <td>NaN</td>\n",
              "    </tr>\n",
              "    <tr>\n",
              "      <th>5</th>\n",
              "      <td>NaN</td>\n",
              "      <td>5000</td>\n",
              "      <td>C++</td>\n",
              "      <td>133142</td>\n",
              "      <td>131390</td>\n",
              "      <td>162270</td>\n",
              "      <td>164667</td>\n",
              "      <td>128225</td>\n",
              "      <td>NaN</td>\n",
              "      <td>NaN</td>\n",
              "    </tr>\n",
              "    <tr>\n",
              "      <th>6</th>\n",
              "      <td>NaN</td>\n",
              "      <td>6000</td>\n",
              "      <td>C++</td>\n",
              "      <td>192703</td>\n",
              "      <td>242881</td>\n",
              "      <td>294111</td>\n",
              "      <td>191959</td>\n",
              "      <td>184848</td>\n",
              "      <td>NaN</td>\n",
              "      <td>NaN</td>\n",
              "    </tr>\n",
              "    <tr>\n",
              "      <th>7</th>\n",
              "      <td>NaN</td>\n",
              "      <td>7000</td>\n",
              "      <td>C++</td>\n",
              "      <td>256574</td>\n",
              "      <td>252102</td>\n",
              "      <td>250886</td>\n",
              "      <td>250174</td>\n",
              "      <td>250323</td>\n",
              "      <td>NaN</td>\n",
              "      <td>NaN</td>\n",
              "    </tr>\n",
              "    <tr>\n",
              "      <th>8</th>\n",
              "      <td>NaN</td>\n",
              "      <td>8000</td>\n",
              "      <td>C++</td>\n",
              "      <td>335418</td>\n",
              "      <td>346309</td>\n",
              "      <td>362751</td>\n",
              "      <td>327344</td>\n",
              "      <td>328749</td>\n",
              "      <td>NaN</td>\n",
              "      <td>NaN</td>\n",
              "    </tr>\n",
              "    <tr>\n",
              "      <th>9</th>\n",
              "      <td>NaN</td>\n",
              "      <td>9000</td>\n",
              "      <td>C++</td>\n",
              "      <td>431277</td>\n",
              "      <td>419710</td>\n",
              "      <td>417311</td>\n",
              "      <td>417057</td>\n",
              "      <td>420767</td>\n",
              "      <td>NaN</td>\n",
              "      <td>NaN</td>\n",
              "    </tr>\n",
              "    <tr>\n",
              "      <th>10</th>\n",
              "      <td>NaN</td>\n",
              "      <td>10000</td>\n",
              "      <td>C++</td>\n",
              "      <td>528946</td>\n",
              "      <td>514868</td>\n",
              "      <td>545398</td>\n",
              "      <td>706858</td>\n",
              "      <td>790663</td>\n",
              "      <td>NaN</td>\n",
              "      <td>NaN</td>\n",
              "    </tr>\n",
              "    <tr>\n",
              "      <th>11</th>\n",
              "      <td>NaN</td>\n",
              "      <td>20000</td>\n",
              "      <td>C++</td>\n",
              "      <td>2813020</td>\n",
              "      <td>3677375</td>\n",
              "      <td>3458493</td>\n",
              "      <td>4718037</td>\n",
              "      <td>5057346</td>\n",
              "      <td>NaN</td>\n",
              "      <td>NaN</td>\n",
              "    </tr>\n",
              "    <tr>\n",
              "      <th>12</th>\n",
              "      <td>NaN</td>\n",
              "      <td>30000</td>\n",
              "      <td>C++</td>\n",
              "      <td>6131115</td>\n",
              "      <td>10670888</td>\n",
              "      <td>9198199</td>\n",
              "      <td>8184865</td>\n",
              "      <td>8292211</td>\n",
              "      <td>NaN</td>\n",
              "      <td>NaN</td>\n",
              "    </tr>\n",
              "    <tr>\n",
              "      <th>13</th>\n",
              "      <td>NaN</td>\n",
              "      <td>40000</td>\n",
              "      <td>C++</td>\n",
              "      <td>13438733</td>\n",
              "      <td>18364615</td>\n",
              "      <td>18623597</td>\n",
              "      <td>14054102</td>\n",
              "      <td>14653031</td>\n",
              "      <td>NaN</td>\n",
              "      <td>NaN</td>\n",
              "    </tr>\n",
              "    <tr>\n",
              "      <th>14</th>\n",
              "      <td>NaN</td>\n",
              "      <td>50000</td>\n",
              "      <td>C++</td>\n",
              "      <td>23058698</td>\n",
              "      <td>26094138</td>\n",
              "      <td>20506956</td>\n",
              "      <td>25606307</td>\n",
              "      <td>25419911</td>\n",
              "      <td>NaN</td>\n",
              "      <td>NaN</td>\n",
              "    </tr>\n",
              "  </tbody>\n",
              "</table>\n",
              "</div>\n",
              "      <button class=\"colab-df-convert\" onclick=\"convertToInteractive('df-cafe76e1-fad7-416c-a719-c3b2697cd87b')\"\n",
              "              title=\"Convert this dataframe to an interactive table.\"\n",
              "              style=\"display:none;\">\n",
              "\n",
              "  <svg xmlns=\"http://www.w3.org/2000/svg\" height=\"24px\"viewBox=\"0 0 24 24\"\n",
              "       width=\"24px\">\n",
              "    <path d=\"M0 0h24v24H0V0z\" fill=\"none\"/>\n",
              "    <path d=\"M18.56 5.44l.94 2.06.94-2.06 2.06-.94-2.06-.94-.94-2.06-.94 2.06-2.06.94zm-11 1L8.5 8.5l.94-2.06 2.06-.94-2.06-.94L8.5 2.5l-.94 2.06-2.06.94zm10 10l.94 2.06.94-2.06 2.06-.94-2.06-.94-.94-2.06-.94 2.06-2.06.94z\"/><path d=\"M17.41 7.96l-1.37-1.37c-.4-.4-.92-.59-1.43-.59-.52 0-1.04.2-1.43.59L10.3 9.45l-7.72 7.72c-.78.78-.78 2.05 0 2.83L4 21.41c.39.39.9.59 1.41.59.51 0 1.02-.2 1.41-.59l7.78-7.78 2.81-2.81c.8-.78.8-2.07 0-2.86zM5.41 20L4 18.59l7.72-7.72 1.47 1.35L5.41 20z\"/>\n",
              "  </svg>\n",
              "      </button>\n",
              "\n",
              "\n",
              "\n",
              "    <div id=\"df-6229f72e-937a-4b84-a824-4e3744193630\">\n",
              "      <button class=\"colab-df-quickchart\" onclick=\"quickchart('df-6229f72e-937a-4b84-a824-4e3744193630')\"\n",
              "              title=\"Suggest charts.\"\n",
              "              style=\"display:none;\">\n",
              "\n",
              "<svg xmlns=\"http://www.w3.org/2000/svg\" height=\"24px\"viewBox=\"0 0 24 24\"\n",
              "     width=\"24px\">\n",
              "    <g>\n",
              "        <path d=\"M19 3H5c-1.1 0-2 .9-2 2v14c0 1.1.9 2 2 2h14c1.1 0 2-.9 2-2V5c0-1.1-.9-2-2-2zM9 17H7v-7h2v7zm4 0h-2V7h2v10zm4 0h-2v-4h2v4z\"/>\n",
              "    </g>\n",
              "</svg>\n",
              "      </button>\n",
              "    </div>\n",
              "\n",
              "<style>\n",
              "  .colab-df-quickchart {\n",
              "    background-color: #E8F0FE;\n",
              "    border: none;\n",
              "    border-radius: 50%;\n",
              "    cursor: pointer;\n",
              "    display: none;\n",
              "    fill: #1967D2;\n",
              "    height: 32px;\n",
              "    padding: 0 0 0 0;\n",
              "    width: 32px;\n",
              "  }\n",
              "\n",
              "  .colab-df-quickchart:hover {\n",
              "    background-color: #E2EBFA;\n",
              "    box-shadow: 0px 1px 2px rgba(60, 64, 67, 0.3), 0px 1px 3px 1px rgba(60, 64, 67, 0.15);\n",
              "    fill: #174EA6;\n",
              "  }\n",
              "\n",
              "  [theme=dark] .colab-df-quickchart {\n",
              "    background-color: #3B4455;\n",
              "    fill: #D2E3FC;\n",
              "  }\n",
              "\n",
              "  [theme=dark] .colab-df-quickchart:hover {\n",
              "    background-color: #434B5C;\n",
              "    box-shadow: 0px 1px 3px 1px rgba(0, 0, 0, 0.15);\n",
              "    filter: drop-shadow(0px 1px 2px rgba(0, 0, 0, 0.3));\n",
              "    fill: #FFFFFF;\n",
              "  }\n",
              "</style>\n",
              "\n",
              "    <script>\n",
              "      async function quickchart(key) {\n",
              "        const containerElement = document.querySelector('#' + key);\n",
              "        const charts = await google.colab.kernel.invokeFunction(\n",
              "            'suggestCharts', [key], {});\n",
              "      }\n",
              "    </script>\n",
              "\n",
              "      <script>\n",
              "\n",
              "function displayQuickchartButton(domScope) {\n",
              "  let quickchartButtonEl =\n",
              "    domScope.querySelector('#df-6229f72e-937a-4b84-a824-4e3744193630 button.colab-df-quickchart');\n",
              "  quickchartButtonEl.style.display =\n",
              "    google.colab.kernel.accessAllowed ? 'block' : 'none';\n",
              "}\n",
              "\n",
              "        displayQuickchartButton(document);\n",
              "      </script>\n",
              "      <style>\n",
              "    .colab-df-container {\n",
              "      display:flex;\n",
              "      flex-wrap:wrap;\n",
              "      gap: 12px;\n",
              "    }\n",
              "\n",
              "    .colab-df-convert {\n",
              "      background-color: #E8F0FE;\n",
              "      border: none;\n",
              "      border-radius: 50%;\n",
              "      cursor: pointer;\n",
              "      display: none;\n",
              "      fill: #1967D2;\n",
              "      height: 32px;\n",
              "      padding: 0 0 0 0;\n",
              "      width: 32px;\n",
              "    }\n",
              "\n",
              "    .colab-df-convert:hover {\n",
              "      background-color: #E2EBFA;\n",
              "      box-shadow: 0px 1px 2px rgba(60, 64, 67, 0.3), 0px 1px 3px 1px rgba(60, 64, 67, 0.15);\n",
              "      fill: #174EA6;\n",
              "    }\n",
              "\n",
              "    [theme=dark] .colab-df-convert {\n",
              "      background-color: #3B4455;\n",
              "      fill: #D2E3FC;\n",
              "    }\n",
              "\n",
              "    [theme=dark] .colab-df-convert:hover {\n",
              "      background-color: #434B5C;\n",
              "      box-shadow: 0px 1px 3px 1px rgba(0, 0, 0, 0.15);\n",
              "      filter: drop-shadow(0px 1px 2px rgba(0, 0, 0, 0.3));\n",
              "      fill: #FFFFFF;\n",
              "    }\n",
              "  </style>\n",
              "\n",
              "      <script>\n",
              "        const buttonEl =\n",
              "          document.querySelector('#df-cafe76e1-fad7-416c-a719-c3b2697cd87b button.colab-df-convert');\n",
              "        buttonEl.style.display =\n",
              "          google.colab.kernel.accessAllowed ? 'block' : 'none';\n",
              "\n",
              "        async function convertToInteractive(key) {\n",
              "          const element = document.querySelector('#df-cafe76e1-fad7-416c-a719-c3b2697cd87b');\n",
              "          const dataTable =\n",
              "            await google.colab.kernel.invokeFunction('convertToInteractive',\n",
              "                                                     [key], {});\n",
              "          if (!dataTable) return;\n",
              "\n",
              "          const docLinkHtml = 'Like what you see? Visit the ' +\n",
              "            '<a target=\"_blank\" href=https://colab.research.google.com/notebooks/data_table.ipynb>data table notebook</a>'\n",
              "            + ' to learn more about interactive tables.';\n",
              "          element.innerHTML = '';\n",
              "          dataTable['output_type'] = 'display_data';\n",
              "          await google.colab.output.renderOutput(dataTable, element);\n",
              "          const docLink = document.createElement('div');\n",
              "          docLink.innerHTML = docLinkHtml;\n",
              "          element.appendChild(docLink);\n",
              "        }\n",
              "      </script>\n",
              "    </div>\n",
              "  </div>\n"
            ]
          },
          "metadata": {},
          "execution_count": 56
        }
      ]
    },
    {
      "cell_type": "code",
      "source": [
        "media=(dc[1]+dc[2]+dc[3]+dc[4]+dc[5])/5\n",
        "media_seg=media/1000000\n",
        "media_seg"
      ],
      "metadata": {
        "colab": {
          "base_uri": "https://localhost:8080/"
        },
        "id": "jjOyBLu1f9WY",
        "outputId": "7d25c0af-e405-4619-d867-af6090491e2a"
      },
      "execution_count": null,
      "outputs": [
        {
          "output_type": "execute_result",
          "data": {
            "text/plain": [
              "0      0.000075\n",
              "1      0.005201\n",
              "2      0.021344\n",
              "3      0.047458\n",
              "4      0.081992\n",
              "5      0.143939\n",
              "6      0.221300\n",
              "7      0.252012\n",
              "8      0.340114\n",
              "9      0.421224\n",
              "10     0.617347\n",
              "11     3.944854\n",
              "12     8.495456\n",
              "13    15.826816\n",
              "14    24.137202\n",
              "dtype: float64"
            ]
          },
          "metadata": {},
          "execution_count": 59
        }
      ]
    },
    {
      "cell_type": "code",
      "source": [
        "df2=pd.DataFrame()\n",
        "df2[\"data cantidad\"]=dc[\"data cantidad\"]\n",
        "df2[\"program\"]=dc[\"program\"]\n",
        "df2[\"mean\"]=media_seg\n",
        "df2[\"desv standar\"]=df2[\"mean\"].std()\n",
        "df2"
      ],
      "metadata": {
        "colab": {
          "base_uri": "https://localhost:8080/",
          "height": 520
        },
        "id": "j9gYOFJ3gb0X",
        "outputId": "67aa38d6-8b39-4917-cf8a-e949d765c6a4"
      },
      "execution_count": null,
      "outputs": [
        {
          "output_type": "execute_result",
          "data": {
            "text/plain": [
              "    data cantidad program       mean  desv standar\n",
              "0             100     C++   0.000075      7.187379\n",
              "1            1000     C++   0.005201      7.187379\n",
              "2            2000     C++   0.021344      7.187379\n",
              "3            3000     C++   0.047458      7.187379\n",
              "4            4000     C++   0.081992      7.187379\n",
              "5            5000     C++   0.143939      7.187379\n",
              "6            6000     C++   0.221300      7.187379\n",
              "7            7000     C++   0.252012      7.187379\n",
              "8            8000     C++   0.340114      7.187379\n",
              "9            9000     C++   0.421224      7.187379\n",
              "10          10000     C++   0.617347      7.187379\n",
              "11          20000     C++   3.944854      7.187379\n",
              "12          30000     C++   8.495456      7.187379\n",
              "13          40000     C++  15.826816      7.187379\n",
              "14          50000     C++  24.137202      7.187379"
            ],
            "text/html": [
              "\n",
              "\n",
              "  <div id=\"df-95f1e6f1-3a94-4c68-a00b-9742e7977ea0\">\n",
              "    <div class=\"colab-df-container\">\n",
              "      <div>\n",
              "<style scoped>\n",
              "    .dataframe tbody tr th:only-of-type {\n",
              "        vertical-align: middle;\n",
              "    }\n",
              "\n",
              "    .dataframe tbody tr th {\n",
              "        vertical-align: top;\n",
              "    }\n",
              "\n",
              "    .dataframe thead th {\n",
              "        text-align: right;\n",
              "    }\n",
              "</style>\n",
              "<table border=\"1\" class=\"dataframe\">\n",
              "  <thead>\n",
              "    <tr style=\"text-align: right;\">\n",
              "      <th></th>\n",
              "      <th>data cantidad</th>\n",
              "      <th>program</th>\n",
              "      <th>mean</th>\n",
              "      <th>desv standar</th>\n",
              "    </tr>\n",
              "  </thead>\n",
              "  <tbody>\n",
              "    <tr>\n",
              "      <th>0</th>\n",
              "      <td>100</td>\n",
              "      <td>C++</td>\n",
              "      <td>0.000075</td>\n",
              "      <td>7.187379</td>\n",
              "    </tr>\n",
              "    <tr>\n",
              "      <th>1</th>\n",
              "      <td>1000</td>\n",
              "      <td>C++</td>\n",
              "      <td>0.005201</td>\n",
              "      <td>7.187379</td>\n",
              "    </tr>\n",
              "    <tr>\n",
              "      <th>2</th>\n",
              "      <td>2000</td>\n",
              "      <td>C++</td>\n",
              "      <td>0.021344</td>\n",
              "      <td>7.187379</td>\n",
              "    </tr>\n",
              "    <tr>\n",
              "      <th>3</th>\n",
              "      <td>3000</td>\n",
              "      <td>C++</td>\n",
              "      <td>0.047458</td>\n",
              "      <td>7.187379</td>\n",
              "    </tr>\n",
              "    <tr>\n",
              "      <th>4</th>\n",
              "      <td>4000</td>\n",
              "      <td>C++</td>\n",
              "      <td>0.081992</td>\n",
              "      <td>7.187379</td>\n",
              "    </tr>\n",
              "    <tr>\n",
              "      <th>5</th>\n",
              "      <td>5000</td>\n",
              "      <td>C++</td>\n",
              "      <td>0.143939</td>\n",
              "      <td>7.187379</td>\n",
              "    </tr>\n",
              "    <tr>\n",
              "      <th>6</th>\n",
              "      <td>6000</td>\n",
              "      <td>C++</td>\n",
              "      <td>0.221300</td>\n",
              "      <td>7.187379</td>\n",
              "    </tr>\n",
              "    <tr>\n",
              "      <th>7</th>\n",
              "      <td>7000</td>\n",
              "      <td>C++</td>\n",
              "      <td>0.252012</td>\n",
              "      <td>7.187379</td>\n",
              "    </tr>\n",
              "    <tr>\n",
              "      <th>8</th>\n",
              "      <td>8000</td>\n",
              "      <td>C++</td>\n",
              "      <td>0.340114</td>\n",
              "      <td>7.187379</td>\n",
              "    </tr>\n",
              "    <tr>\n",
              "      <th>9</th>\n",
              "      <td>9000</td>\n",
              "      <td>C++</td>\n",
              "      <td>0.421224</td>\n",
              "      <td>7.187379</td>\n",
              "    </tr>\n",
              "    <tr>\n",
              "      <th>10</th>\n",
              "      <td>10000</td>\n",
              "      <td>C++</td>\n",
              "      <td>0.617347</td>\n",
              "      <td>7.187379</td>\n",
              "    </tr>\n",
              "    <tr>\n",
              "      <th>11</th>\n",
              "      <td>20000</td>\n",
              "      <td>C++</td>\n",
              "      <td>3.944854</td>\n",
              "      <td>7.187379</td>\n",
              "    </tr>\n",
              "    <tr>\n",
              "      <th>12</th>\n",
              "      <td>30000</td>\n",
              "      <td>C++</td>\n",
              "      <td>8.495456</td>\n",
              "      <td>7.187379</td>\n",
              "    </tr>\n",
              "    <tr>\n",
              "      <th>13</th>\n",
              "      <td>40000</td>\n",
              "      <td>C++</td>\n",
              "      <td>15.826816</td>\n",
              "      <td>7.187379</td>\n",
              "    </tr>\n",
              "    <tr>\n",
              "      <th>14</th>\n",
              "      <td>50000</td>\n",
              "      <td>C++</td>\n",
              "      <td>24.137202</td>\n",
              "      <td>7.187379</td>\n",
              "    </tr>\n",
              "  </tbody>\n",
              "</table>\n",
              "</div>\n",
              "      <button class=\"colab-df-convert\" onclick=\"convertToInteractive('df-95f1e6f1-3a94-4c68-a00b-9742e7977ea0')\"\n",
              "              title=\"Convert this dataframe to an interactive table.\"\n",
              "              style=\"display:none;\">\n",
              "\n",
              "  <svg xmlns=\"http://www.w3.org/2000/svg\" height=\"24px\"viewBox=\"0 0 24 24\"\n",
              "       width=\"24px\">\n",
              "    <path d=\"M0 0h24v24H0V0z\" fill=\"none\"/>\n",
              "    <path d=\"M18.56 5.44l.94 2.06.94-2.06 2.06-.94-2.06-.94-.94-2.06-.94 2.06-2.06.94zm-11 1L8.5 8.5l.94-2.06 2.06-.94-2.06-.94L8.5 2.5l-.94 2.06-2.06.94zm10 10l.94 2.06.94-2.06 2.06-.94-2.06-.94-.94-2.06-.94 2.06-2.06.94z\"/><path d=\"M17.41 7.96l-1.37-1.37c-.4-.4-.92-.59-1.43-.59-.52 0-1.04.2-1.43.59L10.3 9.45l-7.72 7.72c-.78.78-.78 2.05 0 2.83L4 21.41c.39.39.9.59 1.41.59.51 0 1.02-.2 1.41-.59l7.78-7.78 2.81-2.81c.8-.78.8-2.07 0-2.86zM5.41 20L4 18.59l7.72-7.72 1.47 1.35L5.41 20z\"/>\n",
              "  </svg>\n",
              "      </button>\n",
              "\n",
              "\n",
              "\n",
              "    <div id=\"df-758e16ce-3625-45db-b5a9-546a6c100e67\">\n",
              "      <button class=\"colab-df-quickchart\" onclick=\"quickchart('df-758e16ce-3625-45db-b5a9-546a6c100e67')\"\n",
              "              title=\"Suggest charts.\"\n",
              "              style=\"display:none;\">\n",
              "\n",
              "<svg xmlns=\"http://www.w3.org/2000/svg\" height=\"24px\"viewBox=\"0 0 24 24\"\n",
              "     width=\"24px\">\n",
              "    <g>\n",
              "        <path d=\"M19 3H5c-1.1 0-2 .9-2 2v14c0 1.1.9 2 2 2h14c1.1 0 2-.9 2-2V5c0-1.1-.9-2-2-2zM9 17H7v-7h2v7zm4 0h-2V7h2v10zm4 0h-2v-4h2v4z\"/>\n",
              "    </g>\n",
              "</svg>\n",
              "      </button>\n",
              "    </div>\n",
              "\n",
              "<style>\n",
              "  .colab-df-quickchart {\n",
              "    background-color: #E8F0FE;\n",
              "    border: none;\n",
              "    border-radius: 50%;\n",
              "    cursor: pointer;\n",
              "    display: none;\n",
              "    fill: #1967D2;\n",
              "    height: 32px;\n",
              "    padding: 0 0 0 0;\n",
              "    width: 32px;\n",
              "  }\n",
              "\n",
              "  .colab-df-quickchart:hover {\n",
              "    background-color: #E2EBFA;\n",
              "    box-shadow: 0px 1px 2px rgba(60, 64, 67, 0.3), 0px 1px 3px 1px rgba(60, 64, 67, 0.15);\n",
              "    fill: #174EA6;\n",
              "  }\n",
              "\n",
              "  [theme=dark] .colab-df-quickchart {\n",
              "    background-color: #3B4455;\n",
              "    fill: #D2E3FC;\n",
              "  }\n",
              "\n",
              "  [theme=dark] .colab-df-quickchart:hover {\n",
              "    background-color: #434B5C;\n",
              "    box-shadow: 0px 1px 3px 1px rgba(0, 0, 0, 0.15);\n",
              "    filter: drop-shadow(0px 1px 2px rgba(0, 0, 0, 0.3));\n",
              "    fill: #FFFFFF;\n",
              "  }\n",
              "</style>\n",
              "\n",
              "    <script>\n",
              "      async function quickchart(key) {\n",
              "        const containerElement = document.querySelector('#' + key);\n",
              "        const charts = await google.colab.kernel.invokeFunction(\n",
              "            'suggestCharts', [key], {});\n",
              "      }\n",
              "    </script>\n",
              "\n",
              "      <script>\n",
              "\n",
              "function displayQuickchartButton(domScope) {\n",
              "  let quickchartButtonEl =\n",
              "    domScope.querySelector('#df-758e16ce-3625-45db-b5a9-546a6c100e67 button.colab-df-quickchart');\n",
              "  quickchartButtonEl.style.display =\n",
              "    google.colab.kernel.accessAllowed ? 'block' : 'none';\n",
              "}\n",
              "\n",
              "        displayQuickchartButton(document);\n",
              "      </script>\n",
              "      <style>\n",
              "    .colab-df-container {\n",
              "      display:flex;\n",
              "      flex-wrap:wrap;\n",
              "      gap: 12px;\n",
              "    }\n",
              "\n",
              "    .colab-df-convert {\n",
              "      background-color: #E8F0FE;\n",
              "      border: none;\n",
              "      border-radius: 50%;\n",
              "      cursor: pointer;\n",
              "      display: none;\n",
              "      fill: #1967D2;\n",
              "      height: 32px;\n",
              "      padding: 0 0 0 0;\n",
              "      width: 32px;\n",
              "    }\n",
              "\n",
              "    .colab-df-convert:hover {\n",
              "      background-color: #E2EBFA;\n",
              "      box-shadow: 0px 1px 2px rgba(60, 64, 67, 0.3), 0px 1px 3px 1px rgba(60, 64, 67, 0.15);\n",
              "      fill: #174EA6;\n",
              "    }\n",
              "\n",
              "    [theme=dark] .colab-df-convert {\n",
              "      background-color: #3B4455;\n",
              "      fill: #D2E3FC;\n",
              "    }\n",
              "\n",
              "    [theme=dark] .colab-df-convert:hover {\n",
              "      background-color: #434B5C;\n",
              "      box-shadow: 0px 1px 3px 1px rgba(0, 0, 0, 0.15);\n",
              "      filter: drop-shadow(0px 1px 2px rgba(0, 0, 0, 0.3));\n",
              "      fill: #FFFFFF;\n",
              "    }\n",
              "  </style>\n",
              "\n",
              "      <script>\n",
              "        const buttonEl =\n",
              "          document.querySelector('#df-95f1e6f1-3a94-4c68-a00b-9742e7977ea0 button.colab-df-convert');\n",
              "        buttonEl.style.display =\n",
              "          google.colab.kernel.accessAllowed ? 'block' : 'none';\n",
              "\n",
              "        async function convertToInteractive(key) {\n",
              "          const element = document.querySelector('#df-95f1e6f1-3a94-4c68-a00b-9742e7977ea0');\n",
              "          const dataTable =\n",
              "            await google.colab.kernel.invokeFunction('convertToInteractive',\n",
              "                                                     [key], {});\n",
              "          if (!dataTable) return;\n",
              "\n",
              "          const docLinkHtml = 'Like what you see? Visit the ' +\n",
              "            '<a target=\"_blank\" href=https://colab.research.google.com/notebooks/data_table.ipynb>data table notebook</a>'\n",
              "            + ' to learn more about interactive tables.';\n",
              "          element.innerHTML = '';\n",
              "          dataTable['output_type'] = 'display_data';\n",
              "          await google.colab.output.renderOutput(dataTable, element);\n",
              "          const docLink = document.createElement('div');\n",
              "          docLink.innerHTML = docLinkHtml;\n",
              "          element.appendChild(docLink);\n",
              "        }\n",
              "      </script>\n",
              "    </div>\n",
              "  </div>\n"
            ]
          },
          "metadata": {},
          "execution_count": 62
        }
      ]
    },
    {
      "cell_type": "code",
      "execution_count": null,
      "metadata": {
        "id": "tVBIVug_KE7O"
      },
      "outputs": [],
      "source": [
        "df = pd.DataFrame()"
      ]
    },
    {
      "cell_type": "code",
      "execution_count": null,
      "metadata": {
        "id": "51s5zNWuff4G"
      },
      "outputs": [],
      "source": [
        "df['data cantidad'] = ['100', '1000', '2000', '3000', '4000', '5000', '6000', '7000', '8000', '9000', '10000', '20000', '30000', '40000', '50000']\n",
        "df['program'] = ['Python', 'Python', 'Python', 'Python', 'Python', 'Python', 'Python', 'Python', 'Python', 'Python', 'Python', 'Python', 'Python', 'Python', 'Python']\n",
        "df['mean'] = [mean100, mean1000, mean2000, mean3000, mean4000, mean5000, mean6000, mean7000, mean8000, mean9000, mean10000, mean20000, mean30000, mean40000, mean50000]\n",
        "df['desv standar'] = [desviacion_estandar100, desviacion_estandar1000, desviacion_estandar2000, desviacion_estandar3000, desviacion_estandar4000, desviacion_estandar5000, desviacion_estandar6000, desviacion_estandar7000, desviacion_estandar8000, desviacion_estandar9000, desviacion_estandar10000, desviacion_estandar20000, desviacion_estandar30000, desviacion_estandar40000, desviacion_estandar50000]"
      ]
    },
    {
      "cell_type": "code",
      "execution_count": null,
      "metadata": {
        "id": "24a2n4zClmSc",
        "colab": {
          "base_uri": "https://localhost:8080/",
          "height": 520
        },
        "outputId": "e65613c0-eba7-45ab-cff8-0296f132d7af"
      },
      "outputs": [
        {
          "output_type": "execute_result",
          "data": {
            "text/plain": [
              "   data cantidad program       mean  desv standar\n",
              "0            100  Python   0.000333      0.000043\n",
              "1           1000  Python   0.043564      0.002392\n",
              "2           2000  Python   0.091065      0.004694\n",
              "3           3000  Python   0.312075      0.089195\n",
              "4           4000  Python   0.458121      0.111272\n",
              "5           5000  Python   0.715760      0.190430\n",
              "6           6000  Python   0.977335      0.291611\n",
              "7           7000  Python   1.114389      0.020086\n",
              "8           8000  Python   1.807492      0.580451\n",
              "9           9000  Python   2.110743      0.374213\n",
              "10         10000  Python   2.551349      0.566082\n",
              "11         20000  Python  10.583433      0.610045\n",
              "12         30000  Python  25.002668      0.549735\n",
              "13         40000  Python  45.709843      0.890472\n",
              "14         50000  Python  72.195237      0.491116"
            ],
            "text/html": [
              "\n",
              "\n",
              "  <div id=\"df-96ba1f26-b631-4889-bb93-b9e353eff535\">\n",
              "    <div class=\"colab-df-container\">\n",
              "      <div>\n",
              "<style scoped>\n",
              "    .dataframe tbody tr th:only-of-type {\n",
              "        vertical-align: middle;\n",
              "    }\n",
              "\n",
              "    .dataframe tbody tr th {\n",
              "        vertical-align: top;\n",
              "    }\n",
              "\n",
              "    .dataframe thead th {\n",
              "        text-align: right;\n",
              "    }\n",
              "</style>\n",
              "<table border=\"1\" class=\"dataframe\">\n",
              "  <thead>\n",
              "    <tr style=\"text-align: right;\">\n",
              "      <th></th>\n",
              "      <th>data cantidad</th>\n",
              "      <th>program</th>\n",
              "      <th>mean</th>\n",
              "      <th>desv standar</th>\n",
              "    </tr>\n",
              "  </thead>\n",
              "  <tbody>\n",
              "    <tr>\n",
              "      <th>0</th>\n",
              "      <td>100</td>\n",
              "      <td>Python</td>\n",
              "      <td>0.000333</td>\n",
              "      <td>0.000043</td>\n",
              "    </tr>\n",
              "    <tr>\n",
              "      <th>1</th>\n",
              "      <td>1000</td>\n",
              "      <td>Python</td>\n",
              "      <td>0.043564</td>\n",
              "      <td>0.002392</td>\n",
              "    </tr>\n",
              "    <tr>\n",
              "      <th>2</th>\n",
              "      <td>2000</td>\n",
              "      <td>Python</td>\n",
              "      <td>0.091065</td>\n",
              "      <td>0.004694</td>\n",
              "    </tr>\n",
              "    <tr>\n",
              "      <th>3</th>\n",
              "      <td>3000</td>\n",
              "      <td>Python</td>\n",
              "      <td>0.312075</td>\n",
              "      <td>0.089195</td>\n",
              "    </tr>\n",
              "    <tr>\n",
              "      <th>4</th>\n",
              "      <td>4000</td>\n",
              "      <td>Python</td>\n",
              "      <td>0.458121</td>\n",
              "      <td>0.111272</td>\n",
              "    </tr>\n",
              "    <tr>\n",
              "      <th>5</th>\n",
              "      <td>5000</td>\n",
              "      <td>Python</td>\n",
              "      <td>0.715760</td>\n",
              "      <td>0.190430</td>\n",
              "    </tr>\n",
              "    <tr>\n",
              "      <th>6</th>\n",
              "      <td>6000</td>\n",
              "      <td>Python</td>\n",
              "      <td>0.977335</td>\n",
              "      <td>0.291611</td>\n",
              "    </tr>\n",
              "    <tr>\n",
              "      <th>7</th>\n",
              "      <td>7000</td>\n",
              "      <td>Python</td>\n",
              "      <td>1.114389</td>\n",
              "      <td>0.020086</td>\n",
              "    </tr>\n",
              "    <tr>\n",
              "      <th>8</th>\n",
              "      <td>8000</td>\n",
              "      <td>Python</td>\n",
              "      <td>1.807492</td>\n",
              "      <td>0.580451</td>\n",
              "    </tr>\n",
              "    <tr>\n",
              "      <th>9</th>\n",
              "      <td>9000</td>\n",
              "      <td>Python</td>\n",
              "      <td>2.110743</td>\n",
              "      <td>0.374213</td>\n",
              "    </tr>\n",
              "    <tr>\n",
              "      <th>10</th>\n",
              "      <td>10000</td>\n",
              "      <td>Python</td>\n",
              "      <td>2.551349</td>\n",
              "      <td>0.566082</td>\n",
              "    </tr>\n",
              "    <tr>\n",
              "      <th>11</th>\n",
              "      <td>20000</td>\n",
              "      <td>Python</td>\n",
              "      <td>10.583433</td>\n",
              "      <td>0.610045</td>\n",
              "    </tr>\n",
              "    <tr>\n",
              "      <th>12</th>\n",
              "      <td>30000</td>\n",
              "      <td>Python</td>\n",
              "      <td>25.002668</td>\n",
              "      <td>0.549735</td>\n",
              "    </tr>\n",
              "    <tr>\n",
              "      <th>13</th>\n",
              "      <td>40000</td>\n",
              "      <td>Python</td>\n",
              "      <td>45.709843</td>\n",
              "      <td>0.890472</td>\n",
              "    </tr>\n",
              "    <tr>\n",
              "      <th>14</th>\n",
              "      <td>50000</td>\n",
              "      <td>Python</td>\n",
              "      <td>72.195237</td>\n",
              "      <td>0.491116</td>\n",
              "    </tr>\n",
              "  </tbody>\n",
              "</table>\n",
              "</div>\n",
              "      <button class=\"colab-df-convert\" onclick=\"convertToInteractive('df-96ba1f26-b631-4889-bb93-b9e353eff535')\"\n",
              "              title=\"Convert this dataframe to an interactive table.\"\n",
              "              style=\"display:none;\">\n",
              "\n",
              "  <svg xmlns=\"http://www.w3.org/2000/svg\" height=\"24px\"viewBox=\"0 0 24 24\"\n",
              "       width=\"24px\">\n",
              "    <path d=\"M0 0h24v24H0V0z\" fill=\"none\"/>\n",
              "    <path d=\"M18.56 5.44l.94 2.06.94-2.06 2.06-.94-2.06-.94-.94-2.06-.94 2.06-2.06.94zm-11 1L8.5 8.5l.94-2.06 2.06-.94-2.06-.94L8.5 2.5l-.94 2.06-2.06.94zm10 10l.94 2.06.94-2.06 2.06-.94-2.06-.94-.94-2.06-.94 2.06-2.06.94z\"/><path d=\"M17.41 7.96l-1.37-1.37c-.4-.4-.92-.59-1.43-.59-.52 0-1.04.2-1.43.59L10.3 9.45l-7.72 7.72c-.78.78-.78 2.05 0 2.83L4 21.41c.39.39.9.59 1.41.59.51 0 1.02-.2 1.41-.59l7.78-7.78 2.81-2.81c.8-.78.8-2.07 0-2.86zM5.41 20L4 18.59l7.72-7.72 1.47 1.35L5.41 20z\"/>\n",
              "  </svg>\n",
              "      </button>\n",
              "\n",
              "\n",
              "\n",
              "    <div id=\"df-2e6ec5b9-f8e9-4c68-a004-f23f3635f50f\">\n",
              "      <button class=\"colab-df-quickchart\" onclick=\"quickchart('df-2e6ec5b9-f8e9-4c68-a004-f23f3635f50f')\"\n",
              "              title=\"Suggest charts.\"\n",
              "              style=\"display:none;\">\n",
              "\n",
              "<svg xmlns=\"http://www.w3.org/2000/svg\" height=\"24px\"viewBox=\"0 0 24 24\"\n",
              "     width=\"24px\">\n",
              "    <g>\n",
              "        <path d=\"M19 3H5c-1.1 0-2 .9-2 2v14c0 1.1.9 2 2 2h14c1.1 0 2-.9 2-2V5c0-1.1-.9-2-2-2zM9 17H7v-7h2v7zm4 0h-2V7h2v10zm4 0h-2v-4h2v4z\"/>\n",
              "    </g>\n",
              "</svg>\n",
              "      </button>\n",
              "    </div>\n",
              "\n",
              "<style>\n",
              "  .colab-df-quickchart {\n",
              "    background-color: #E8F0FE;\n",
              "    border: none;\n",
              "    border-radius: 50%;\n",
              "    cursor: pointer;\n",
              "    display: none;\n",
              "    fill: #1967D2;\n",
              "    height: 32px;\n",
              "    padding: 0 0 0 0;\n",
              "    width: 32px;\n",
              "  }\n",
              "\n",
              "  .colab-df-quickchart:hover {\n",
              "    background-color: #E2EBFA;\n",
              "    box-shadow: 0px 1px 2px rgba(60, 64, 67, 0.3), 0px 1px 3px 1px rgba(60, 64, 67, 0.15);\n",
              "    fill: #174EA6;\n",
              "  }\n",
              "\n",
              "  [theme=dark] .colab-df-quickchart {\n",
              "    background-color: #3B4455;\n",
              "    fill: #D2E3FC;\n",
              "  }\n",
              "\n",
              "  [theme=dark] .colab-df-quickchart:hover {\n",
              "    background-color: #434B5C;\n",
              "    box-shadow: 0px 1px 3px 1px rgba(0, 0, 0, 0.15);\n",
              "    filter: drop-shadow(0px 1px 2px rgba(0, 0, 0, 0.3));\n",
              "    fill: #FFFFFF;\n",
              "  }\n",
              "</style>\n",
              "\n",
              "    <script>\n",
              "      async function quickchart(key) {\n",
              "        const containerElement = document.querySelector('#' + key);\n",
              "        const charts = await google.colab.kernel.invokeFunction(\n",
              "            'suggestCharts', [key], {});\n",
              "      }\n",
              "    </script>\n",
              "\n",
              "      <script>\n",
              "\n",
              "function displayQuickchartButton(domScope) {\n",
              "  let quickchartButtonEl =\n",
              "    domScope.querySelector('#df-2e6ec5b9-f8e9-4c68-a004-f23f3635f50f button.colab-df-quickchart');\n",
              "  quickchartButtonEl.style.display =\n",
              "    google.colab.kernel.accessAllowed ? 'block' : 'none';\n",
              "}\n",
              "\n",
              "        displayQuickchartButton(document);\n",
              "      </script>\n",
              "      <style>\n",
              "    .colab-df-container {\n",
              "      display:flex;\n",
              "      flex-wrap:wrap;\n",
              "      gap: 12px;\n",
              "    }\n",
              "\n",
              "    .colab-df-convert {\n",
              "      background-color: #E8F0FE;\n",
              "      border: none;\n",
              "      border-radius: 50%;\n",
              "      cursor: pointer;\n",
              "      display: none;\n",
              "      fill: #1967D2;\n",
              "      height: 32px;\n",
              "      padding: 0 0 0 0;\n",
              "      width: 32px;\n",
              "    }\n",
              "\n",
              "    .colab-df-convert:hover {\n",
              "      background-color: #E2EBFA;\n",
              "      box-shadow: 0px 1px 2px rgba(60, 64, 67, 0.3), 0px 1px 3px 1px rgba(60, 64, 67, 0.15);\n",
              "      fill: #174EA6;\n",
              "    }\n",
              "\n",
              "    [theme=dark] .colab-df-convert {\n",
              "      background-color: #3B4455;\n",
              "      fill: #D2E3FC;\n",
              "    }\n",
              "\n",
              "    [theme=dark] .colab-df-convert:hover {\n",
              "      background-color: #434B5C;\n",
              "      box-shadow: 0px 1px 3px 1px rgba(0, 0, 0, 0.15);\n",
              "      filter: drop-shadow(0px 1px 2px rgba(0, 0, 0, 0.3));\n",
              "      fill: #FFFFFF;\n",
              "    }\n",
              "  </style>\n",
              "\n",
              "      <script>\n",
              "        const buttonEl =\n",
              "          document.querySelector('#df-96ba1f26-b631-4889-bb93-b9e353eff535 button.colab-df-convert');\n",
              "        buttonEl.style.display =\n",
              "          google.colab.kernel.accessAllowed ? 'block' : 'none';\n",
              "\n",
              "        async function convertToInteractive(key) {\n",
              "          const element = document.querySelector('#df-96ba1f26-b631-4889-bb93-b9e353eff535');\n",
              "          const dataTable =\n",
              "            await google.colab.kernel.invokeFunction('convertToInteractive',\n",
              "                                                     [key], {});\n",
              "          if (!dataTable) return;\n",
              "\n",
              "          const docLinkHtml = 'Like what you see? Visit the ' +\n",
              "            '<a target=\"_blank\" href=https://colab.research.google.com/notebooks/data_table.ipynb>data table notebook</a>'\n",
              "            + ' to learn more about interactive tables.';\n",
              "          element.innerHTML = '';\n",
              "          dataTable['output_type'] = 'display_data';\n",
              "          await google.colab.output.renderOutput(dataTable, element);\n",
              "          const docLink = document.createElement('div');\n",
              "          docLink.innerHTML = docLinkHtml;\n",
              "          element.appendChild(docLink);\n",
              "        }\n",
              "      </script>\n",
              "    </div>\n",
              "  </div>\n"
            ]
          },
          "metadata": {},
          "execution_count": 54
        }
      ],
      "source": [
        "df.head(15)"
      ]
    },
    {
      "cell_type": "code",
      "source": [
        "result = df.join(df2, lsuffix='_left', rsuffix='_right')\n",
        "result"
      ],
      "metadata": {
        "colab": {
          "base_uri": "https://localhost:8080/",
          "height": 520
        },
        "id": "wKfzHk3znyaV",
        "outputId": "c1b473e9-7737-4412-e738-0c4bfa8fd37a"
      },
      "execution_count": null,
      "outputs": [
        {
          "output_type": "execute_result",
          "data": {
            "text/plain": [
              "   data cantidad_left program_left  mean_left  desv standar_left  \\\n",
              "0                 100       Python   0.000333           0.000043   \n",
              "1                1000       Python   0.043564           0.002392   \n",
              "2                2000       Python   0.091065           0.004694   \n",
              "3                3000       Python   0.312075           0.089195   \n",
              "4                4000       Python   0.458121           0.111272   \n",
              "5                5000       Python   0.715760           0.190430   \n",
              "6                6000       Python   0.977335           0.291611   \n",
              "7                7000       Python   1.114389           0.020086   \n",
              "8                8000       Python   1.807492           0.580451   \n",
              "9                9000       Python   2.110743           0.374213   \n",
              "10              10000       Python   2.551349           0.566082   \n",
              "11              20000       Python  10.583433           0.610045   \n",
              "12              30000       Python  25.002668           0.549735   \n",
              "13              40000       Python  45.709843           0.890472   \n",
              "14              50000       Python  72.195237           0.491116   \n",
              "\n",
              "    data cantidad_right program_right  mean_right  desv standar_right  \n",
              "0                   100           C++    0.000075            7.187379  \n",
              "1                  1000           C++    0.005201            7.187379  \n",
              "2                  2000           C++    0.021344            7.187379  \n",
              "3                  3000           C++    0.047458            7.187379  \n",
              "4                  4000           C++    0.081992            7.187379  \n",
              "5                  5000           C++    0.143939            7.187379  \n",
              "6                  6000           C++    0.221300            7.187379  \n",
              "7                  7000           C++    0.252012            7.187379  \n",
              "8                  8000           C++    0.340114            7.187379  \n",
              "9                  9000           C++    0.421224            7.187379  \n",
              "10                10000           C++    0.617347            7.187379  \n",
              "11                20000           C++    3.944854            7.187379  \n",
              "12                30000           C++    8.495456            7.187379  \n",
              "13                40000           C++   15.826816            7.187379  \n",
              "14                50000           C++   24.137202            7.187379  "
            ],
            "text/html": [
              "\n",
              "\n",
              "  <div id=\"df-8a3fa554-028d-4e2a-acc9-265a3f72be5a\">\n",
              "    <div class=\"colab-df-container\">\n",
              "      <div>\n",
              "<style scoped>\n",
              "    .dataframe tbody tr th:only-of-type {\n",
              "        vertical-align: middle;\n",
              "    }\n",
              "\n",
              "    .dataframe tbody tr th {\n",
              "        vertical-align: top;\n",
              "    }\n",
              "\n",
              "    .dataframe thead th {\n",
              "        text-align: right;\n",
              "    }\n",
              "</style>\n",
              "<table border=\"1\" class=\"dataframe\">\n",
              "  <thead>\n",
              "    <tr style=\"text-align: right;\">\n",
              "      <th></th>\n",
              "      <th>data cantidad_left</th>\n",
              "      <th>program_left</th>\n",
              "      <th>mean_left</th>\n",
              "      <th>desv standar_left</th>\n",
              "      <th>data cantidad_right</th>\n",
              "      <th>program_right</th>\n",
              "      <th>mean_right</th>\n",
              "      <th>desv standar_right</th>\n",
              "    </tr>\n",
              "  </thead>\n",
              "  <tbody>\n",
              "    <tr>\n",
              "      <th>0</th>\n",
              "      <td>100</td>\n",
              "      <td>Python</td>\n",
              "      <td>0.000333</td>\n",
              "      <td>0.000043</td>\n",
              "      <td>100</td>\n",
              "      <td>C++</td>\n",
              "      <td>0.000075</td>\n",
              "      <td>7.187379</td>\n",
              "    </tr>\n",
              "    <tr>\n",
              "      <th>1</th>\n",
              "      <td>1000</td>\n",
              "      <td>Python</td>\n",
              "      <td>0.043564</td>\n",
              "      <td>0.002392</td>\n",
              "      <td>1000</td>\n",
              "      <td>C++</td>\n",
              "      <td>0.005201</td>\n",
              "      <td>7.187379</td>\n",
              "    </tr>\n",
              "    <tr>\n",
              "      <th>2</th>\n",
              "      <td>2000</td>\n",
              "      <td>Python</td>\n",
              "      <td>0.091065</td>\n",
              "      <td>0.004694</td>\n",
              "      <td>2000</td>\n",
              "      <td>C++</td>\n",
              "      <td>0.021344</td>\n",
              "      <td>7.187379</td>\n",
              "    </tr>\n",
              "    <tr>\n",
              "      <th>3</th>\n",
              "      <td>3000</td>\n",
              "      <td>Python</td>\n",
              "      <td>0.312075</td>\n",
              "      <td>0.089195</td>\n",
              "      <td>3000</td>\n",
              "      <td>C++</td>\n",
              "      <td>0.047458</td>\n",
              "      <td>7.187379</td>\n",
              "    </tr>\n",
              "    <tr>\n",
              "      <th>4</th>\n",
              "      <td>4000</td>\n",
              "      <td>Python</td>\n",
              "      <td>0.458121</td>\n",
              "      <td>0.111272</td>\n",
              "      <td>4000</td>\n",
              "      <td>C++</td>\n",
              "      <td>0.081992</td>\n",
              "      <td>7.187379</td>\n",
              "    </tr>\n",
              "    <tr>\n",
              "      <th>5</th>\n",
              "      <td>5000</td>\n",
              "      <td>Python</td>\n",
              "      <td>0.715760</td>\n",
              "      <td>0.190430</td>\n",
              "      <td>5000</td>\n",
              "      <td>C++</td>\n",
              "      <td>0.143939</td>\n",
              "      <td>7.187379</td>\n",
              "    </tr>\n",
              "    <tr>\n",
              "      <th>6</th>\n",
              "      <td>6000</td>\n",
              "      <td>Python</td>\n",
              "      <td>0.977335</td>\n",
              "      <td>0.291611</td>\n",
              "      <td>6000</td>\n",
              "      <td>C++</td>\n",
              "      <td>0.221300</td>\n",
              "      <td>7.187379</td>\n",
              "    </tr>\n",
              "    <tr>\n",
              "      <th>7</th>\n",
              "      <td>7000</td>\n",
              "      <td>Python</td>\n",
              "      <td>1.114389</td>\n",
              "      <td>0.020086</td>\n",
              "      <td>7000</td>\n",
              "      <td>C++</td>\n",
              "      <td>0.252012</td>\n",
              "      <td>7.187379</td>\n",
              "    </tr>\n",
              "    <tr>\n",
              "      <th>8</th>\n",
              "      <td>8000</td>\n",
              "      <td>Python</td>\n",
              "      <td>1.807492</td>\n",
              "      <td>0.580451</td>\n",
              "      <td>8000</td>\n",
              "      <td>C++</td>\n",
              "      <td>0.340114</td>\n",
              "      <td>7.187379</td>\n",
              "    </tr>\n",
              "    <tr>\n",
              "      <th>9</th>\n",
              "      <td>9000</td>\n",
              "      <td>Python</td>\n",
              "      <td>2.110743</td>\n",
              "      <td>0.374213</td>\n",
              "      <td>9000</td>\n",
              "      <td>C++</td>\n",
              "      <td>0.421224</td>\n",
              "      <td>7.187379</td>\n",
              "    </tr>\n",
              "    <tr>\n",
              "      <th>10</th>\n",
              "      <td>10000</td>\n",
              "      <td>Python</td>\n",
              "      <td>2.551349</td>\n",
              "      <td>0.566082</td>\n",
              "      <td>10000</td>\n",
              "      <td>C++</td>\n",
              "      <td>0.617347</td>\n",
              "      <td>7.187379</td>\n",
              "    </tr>\n",
              "    <tr>\n",
              "      <th>11</th>\n",
              "      <td>20000</td>\n",
              "      <td>Python</td>\n",
              "      <td>10.583433</td>\n",
              "      <td>0.610045</td>\n",
              "      <td>20000</td>\n",
              "      <td>C++</td>\n",
              "      <td>3.944854</td>\n",
              "      <td>7.187379</td>\n",
              "    </tr>\n",
              "    <tr>\n",
              "      <th>12</th>\n",
              "      <td>30000</td>\n",
              "      <td>Python</td>\n",
              "      <td>25.002668</td>\n",
              "      <td>0.549735</td>\n",
              "      <td>30000</td>\n",
              "      <td>C++</td>\n",
              "      <td>8.495456</td>\n",
              "      <td>7.187379</td>\n",
              "    </tr>\n",
              "    <tr>\n",
              "      <th>13</th>\n",
              "      <td>40000</td>\n",
              "      <td>Python</td>\n",
              "      <td>45.709843</td>\n",
              "      <td>0.890472</td>\n",
              "      <td>40000</td>\n",
              "      <td>C++</td>\n",
              "      <td>15.826816</td>\n",
              "      <td>7.187379</td>\n",
              "    </tr>\n",
              "    <tr>\n",
              "      <th>14</th>\n",
              "      <td>50000</td>\n",
              "      <td>Python</td>\n",
              "      <td>72.195237</td>\n",
              "      <td>0.491116</td>\n",
              "      <td>50000</td>\n",
              "      <td>C++</td>\n",
              "      <td>24.137202</td>\n",
              "      <td>7.187379</td>\n",
              "    </tr>\n",
              "  </tbody>\n",
              "</table>\n",
              "</div>\n",
              "      <button class=\"colab-df-convert\" onclick=\"convertToInteractive('df-8a3fa554-028d-4e2a-acc9-265a3f72be5a')\"\n",
              "              title=\"Convert this dataframe to an interactive table.\"\n",
              "              style=\"display:none;\">\n",
              "\n",
              "  <svg xmlns=\"http://www.w3.org/2000/svg\" height=\"24px\"viewBox=\"0 0 24 24\"\n",
              "       width=\"24px\">\n",
              "    <path d=\"M0 0h24v24H0V0z\" fill=\"none\"/>\n",
              "    <path d=\"M18.56 5.44l.94 2.06.94-2.06 2.06-.94-2.06-.94-.94-2.06-.94 2.06-2.06.94zm-11 1L8.5 8.5l.94-2.06 2.06-.94-2.06-.94L8.5 2.5l-.94 2.06-2.06.94zm10 10l.94 2.06.94-2.06 2.06-.94-2.06-.94-.94-2.06-.94 2.06-2.06.94z\"/><path d=\"M17.41 7.96l-1.37-1.37c-.4-.4-.92-.59-1.43-.59-.52 0-1.04.2-1.43.59L10.3 9.45l-7.72 7.72c-.78.78-.78 2.05 0 2.83L4 21.41c.39.39.9.59 1.41.59.51 0 1.02-.2 1.41-.59l7.78-7.78 2.81-2.81c.8-.78.8-2.07 0-2.86zM5.41 20L4 18.59l7.72-7.72 1.47 1.35L5.41 20z\"/>\n",
              "  </svg>\n",
              "      </button>\n",
              "\n",
              "\n",
              "\n",
              "    <div id=\"df-37a1377d-47bf-4f88-8823-b3008ee285c2\">\n",
              "      <button class=\"colab-df-quickchart\" onclick=\"quickchart('df-37a1377d-47bf-4f88-8823-b3008ee285c2')\"\n",
              "              title=\"Suggest charts.\"\n",
              "              style=\"display:none;\">\n",
              "\n",
              "<svg xmlns=\"http://www.w3.org/2000/svg\" height=\"24px\"viewBox=\"0 0 24 24\"\n",
              "     width=\"24px\">\n",
              "    <g>\n",
              "        <path d=\"M19 3H5c-1.1 0-2 .9-2 2v14c0 1.1.9 2 2 2h14c1.1 0 2-.9 2-2V5c0-1.1-.9-2-2-2zM9 17H7v-7h2v7zm4 0h-2V7h2v10zm4 0h-2v-4h2v4z\"/>\n",
              "    </g>\n",
              "</svg>\n",
              "      </button>\n",
              "    </div>\n",
              "\n",
              "<style>\n",
              "  .colab-df-quickchart {\n",
              "    background-color: #E8F0FE;\n",
              "    border: none;\n",
              "    border-radius: 50%;\n",
              "    cursor: pointer;\n",
              "    display: none;\n",
              "    fill: #1967D2;\n",
              "    height: 32px;\n",
              "    padding: 0 0 0 0;\n",
              "    width: 32px;\n",
              "  }\n",
              "\n",
              "  .colab-df-quickchart:hover {\n",
              "    background-color: #E2EBFA;\n",
              "    box-shadow: 0px 1px 2px rgba(60, 64, 67, 0.3), 0px 1px 3px 1px rgba(60, 64, 67, 0.15);\n",
              "    fill: #174EA6;\n",
              "  }\n",
              "\n",
              "  [theme=dark] .colab-df-quickchart {\n",
              "    background-color: #3B4455;\n",
              "    fill: #D2E3FC;\n",
              "  }\n",
              "\n",
              "  [theme=dark] .colab-df-quickchart:hover {\n",
              "    background-color: #434B5C;\n",
              "    box-shadow: 0px 1px 3px 1px rgba(0, 0, 0, 0.15);\n",
              "    filter: drop-shadow(0px 1px 2px rgba(0, 0, 0, 0.3));\n",
              "    fill: #FFFFFF;\n",
              "  }\n",
              "</style>\n",
              "\n",
              "    <script>\n",
              "      async function quickchart(key) {\n",
              "        const containerElement = document.querySelector('#' + key);\n",
              "        const charts = await google.colab.kernel.invokeFunction(\n",
              "            'suggestCharts', [key], {});\n",
              "      }\n",
              "    </script>\n",
              "\n",
              "      <script>\n",
              "\n",
              "function displayQuickchartButton(domScope) {\n",
              "  let quickchartButtonEl =\n",
              "    domScope.querySelector('#df-37a1377d-47bf-4f88-8823-b3008ee285c2 button.colab-df-quickchart');\n",
              "  quickchartButtonEl.style.display =\n",
              "    google.colab.kernel.accessAllowed ? 'block' : 'none';\n",
              "}\n",
              "\n",
              "        displayQuickchartButton(document);\n",
              "      </script>\n",
              "      <style>\n",
              "    .colab-df-container {\n",
              "      display:flex;\n",
              "      flex-wrap:wrap;\n",
              "      gap: 12px;\n",
              "    }\n",
              "\n",
              "    .colab-df-convert {\n",
              "      background-color: #E8F0FE;\n",
              "      border: none;\n",
              "      border-radius: 50%;\n",
              "      cursor: pointer;\n",
              "      display: none;\n",
              "      fill: #1967D2;\n",
              "      height: 32px;\n",
              "      padding: 0 0 0 0;\n",
              "      width: 32px;\n",
              "    }\n",
              "\n",
              "    .colab-df-convert:hover {\n",
              "      background-color: #E2EBFA;\n",
              "      box-shadow: 0px 1px 2px rgba(60, 64, 67, 0.3), 0px 1px 3px 1px rgba(60, 64, 67, 0.15);\n",
              "      fill: #174EA6;\n",
              "    }\n",
              "\n",
              "    [theme=dark] .colab-df-convert {\n",
              "      background-color: #3B4455;\n",
              "      fill: #D2E3FC;\n",
              "    }\n",
              "\n",
              "    [theme=dark] .colab-df-convert:hover {\n",
              "      background-color: #434B5C;\n",
              "      box-shadow: 0px 1px 3px 1px rgba(0, 0, 0, 0.15);\n",
              "      filter: drop-shadow(0px 1px 2px rgba(0, 0, 0, 0.3));\n",
              "      fill: #FFFFFF;\n",
              "    }\n",
              "  </style>\n",
              "\n",
              "      <script>\n",
              "        const buttonEl =\n",
              "          document.querySelector('#df-8a3fa554-028d-4e2a-acc9-265a3f72be5a button.colab-df-convert');\n",
              "        buttonEl.style.display =\n",
              "          google.colab.kernel.accessAllowed ? 'block' : 'none';\n",
              "\n",
              "        async function convertToInteractive(key) {\n",
              "          const element = document.querySelector('#df-8a3fa554-028d-4e2a-acc9-265a3f72be5a');\n",
              "          const dataTable =\n",
              "            await google.colab.kernel.invokeFunction('convertToInteractive',\n",
              "                                                     [key], {});\n",
              "          if (!dataTable) return;\n",
              "\n",
              "          const docLinkHtml = 'Like what you see? Visit the ' +\n",
              "            '<a target=\"_blank\" href=https://colab.research.google.com/notebooks/data_table.ipynb>data table notebook</a>'\n",
              "            + ' to learn more about interactive tables.';\n",
              "          element.innerHTML = '';\n",
              "          dataTable['output_type'] = 'display_data';\n",
              "          await google.colab.output.renderOutput(dataTable, element);\n",
              "          const docLink = document.createElement('div');\n",
              "          docLink.innerHTML = docLinkHtml;\n",
              "          element.appendChild(docLink);\n",
              "        }\n",
              "      </script>\n",
              "    </div>\n",
              "  </div>\n"
            ]
          },
          "metadata": {},
          "execution_count": 66
        }
      ]
    },
    {
      "cell_type": "code",
      "execution_count": null,
      "metadata": {
        "id": "EW7GZP2yFZ06",
        "colab": {
          "base_uri": "https://localhost:8080/",
          "height": 407
        },
        "outputId": "79d3624f-e7de-4218-c9ca-5357085e27db"
      },
      "outputs": [
        {
          "output_type": "display_data",
          "data": {
            "text/plain": [
              "<Figure size 1500x400 with 1 Axes>"
            ],
            "image/png": "[encoded data removed]"
          },
          "metadata": {}
        }
      ],
      "source": [
        "plt.figure(figsize=(15,4))\n",
        "plt.plot(result['data cantidad_left'],result['mean_left'],label=\"python\")\n",
        "plt.plot(result['data cantidad_left'],result['mean_right'],label=\"c++\")\n",
        "plt.xlabel('cantidad data')\n",
        "plt.ylabel('tiempo')\n",
        "plt.title('grafica tiempo vs data')\n",
        "plt.legend()\n",
        "plt.tight_layout()\n",
        "plt.show()"
      ]
    },
    {
      "cell_type": "code",
      "execution_count": null,
      "metadata": {
        "id": "Vch7udmA1P3E"
      },
      "outputs": [],
      "source": []
    }
  ],
  "metadata": {
    "colab": {
      "provenance": [],
      "include_colab_link": true
    },
    "kernelspec": {
      "display_name": "Python 3",
      "name": "python3"
    },
    "language_info": {
      "name": "python"
    }
  },
  "nbformat": 4,
  "nbformat_minor": 0
}